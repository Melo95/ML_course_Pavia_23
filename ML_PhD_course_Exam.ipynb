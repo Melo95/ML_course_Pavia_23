{
  "nbformat": 4,
  "nbformat_minor": 0,
  "metadata": {
    "colab": {
      "provenance": [],
      "gpuType": "T4",
      "authorship_tag": "ABX9TyMgRkHEeWCXUV7KVoPT/Cf6",
      "include_colab_link": true
    },
    "kernelspec": {
      "name": "python3",
      "display_name": "Python 3"
    },
    "language_info": {
      "name": "python"
    },
    "accelerator": "GPU"
  },
  "cells": [
    {
      "cell_type": "markdown",
      "metadata": {
        "id": "view-in-github",
        "colab_type": "text"
      },
      "source": [
        "<a href=\"https://colab.research.google.com/github/Melo95/ML_course_Pavia_23/blob/v2/ML_PhD_course_Exam.ipynb\" target=\"_parent\"><img src=\"https://colab.research.google.com/assets/colab-badge.svg\" alt=\"Open In Colab\"/></a>"
      ]
    },
    {
      "cell_type": "markdown",
      "source": [
        "\n",
        "# Import libraries\n",
        "\n"
      ],
      "metadata": {
        "id": "xKiPTOUXsFy0"
      }
    },
    {
      "cell_type": "code",
      "source": [
        "import numpy as np\n",
        "from tensorflow import keras\n",
        "from tensorflow.keras import layers\n",
        "import tensorflow as tf\n",
        "import matplotlib.pylab as plt\n",
        "from tensorflow.keras.models import Model\n",
        "from google.colab import drive\n",
        "from google.colab import files\n",
        "from tensorflow.keras.preprocessing.image import ImageDataGenerator\n",
        "import os"
      ],
      "metadata": {
        "id": "93Lmqrc7sE-6"
      },
      "execution_count": 1,
      "outputs": []
    },
    {
      "cell_type": "markdown",
      "source": [
        "# Try to connect to my drive account"
      ],
      "metadata": {
        "id": "HwMS0t3msnQw"
      }
    },
    {
      "cell_type": "code",
      "source": [
        "# drive.mount('/content/drive')\n",
        "\n",
        "# # Upload training data\n",
        "# uploaded = files.upload()"
      ],
      "metadata": {
        "id": "oJE6_s3YFdP_"
      },
      "execution_count": null,
      "outputs": []
    },
    {
      "cell_type": "code",
      "source": [
        "# Model / data parameters\n",
        "input_shape = (28, 28, 1)\n",
        "\n",
        "# Load the data and split it between train and test sets however for out purpose the labels (y_...) are not important!\n",
        "(x_train_MNIST, y_train_MNIST), (x_test_MNIST, y_test_MNIST) = keras.datasets.mnist.load_data()\n",
        "(x_train_fMNIST, y_train_fMNIST), (x_test_fMNIST, y_test_fMNIST) = keras.datasets.fashion_mnist.load_data()\n",
        "\n",
        "# Scale images to the [0, 1] range\n",
        "x_train_MNIST = x_train_MNIST.astype(\"float32\") / 255\n",
        "x_test_MNIST = x_test_MNIST.astype(\"float32\") / 255\n",
        "# Make sure images have shape (28, 28, 1)\n",
        "x_train_MNIST = np.expand_dims(x_train_MNIST, -1)\n",
        "x_test_MNIST = np.expand_dims(x_test_MNIST, -1)\n",
        "print(\"x_train_MNIST shape:\", x_train_MNIST.shape)\n",
        "print(x_train_MNIST.shape[0], \"train samples\")\n",
        "print(x_test_MNIST.shape[0], \"test samples\")\n",
        "\n",
        "# Scale images to the [0, 1] range\n",
        "x_train_fMNIST = x_train_fMNIST.astype(\"float32\") / 255\n",
        "x_test_fMNIST = x_test_fMNIST.astype(\"float32\") / 255\n",
        "# Make sure images have shape (28, 28, 1)\n",
        "x_train_fMNIST = np.expand_dims(x_train_fMNIST, -1)\n",
        "x_test_fMNIST = np.expand_dims(x_test_fMNIST, -1)\n",
        "print(\"x_train_fMNIST shape:\", x_train_fMNIST.shape)\n",
        "print(x_train_fMNIST.shape[0], \"train samples\")\n",
        "print(x_test_fMNIST.shape[0], \"test samples\")"
      ],
      "metadata": {
        "id": "BniyGNd2FqHB",
        "colab": {
          "base_uri": "https://localhost:8080/"
        },
        "outputId": "057a6ca1-aa2d-4589-fae7-29b8563cd015"
      },
      "execution_count": 2,
      "outputs": [
        {
          "output_type": "stream",
          "name": "stdout",
          "text": [
            "Downloading data from https://storage.googleapis.com/tensorflow/tf-keras-datasets/mnist.npz\n",
            "11490434/11490434 [==============================] - 0s 0us/step\n",
            "Downloading data from https://storage.googleapis.com/tensorflow/tf-keras-datasets/train-labels-idx1-ubyte.gz\n",
            "29515/29515 [==============================] - 0s 0us/step\n",
            "Downloading data from https://storage.googleapis.com/tensorflow/tf-keras-datasets/train-images-idx3-ubyte.gz\n",
            "26421880/26421880 [==============================] - 0s 0us/step\n",
            "Downloading data from https://storage.googleapis.com/tensorflow/tf-keras-datasets/t10k-labels-idx1-ubyte.gz\n",
            "5148/5148 [==============================] - 0s 0us/step\n",
            "Downloading data from https://storage.googleapis.com/tensorflow/tf-keras-datasets/t10k-images-idx3-ubyte.gz\n",
            "4422102/4422102 [==============================] - 0s 0us/step\n",
            "x_train_MNIST shape: (60000, 28, 28, 1)\n",
            "60000 train samples\n",
            "10000 test samples\n",
            "x_train_fMNIST shape: (60000, 28, 28, 1)\n",
            "60000 train samples\n",
            "10000 test samples\n"
          ]
        }
      ]
    },
    {
      "cell_type": "code",
      "source": [
        "def create_circular_mask(h, w, center=None, radius=None):\n",
        "\n",
        "    if center is None: # use the middle of the image\n",
        "        center = (int(w/2), int(h/2))\n",
        "    if radius is None: # use the smallest distance between the center and image walls\n",
        "        radius = min(center[0], center[1], w-center[0], h-center[1])\n",
        "\n",
        "    Y, X = np.ogrid[:h, :w]\n",
        "    dist_from_center = np.sqrt((X - center[0])**2 + (Y-center[1])**2)\n",
        "\n",
        "    mask = dist_from_center <= radius\n",
        "\n",
        "    return mask"
      ],
      "metadata": {
        "id": "_kIkMGJCEQq5"
      },
      "execution_count": 3,
      "outputs": []
    },
    {
      "cell_type": "code",
      "source": [
        "# create mask\n",
        "x = np.arange(-x_train_MNIST.shape[1]/2,x_train_MNIST.shape[1]/2,1)\n",
        "y = np.arange(-x_train_MNIST.shape[1]/2,x_train_MNIST.shape[1]/2,1)\n",
        "\n",
        "X,Y = np.meshgrid(x,y)\n",
        "\n",
        "# prb_circular = 1/(X**2+Y**2)*np.exp(1j*(X+Y))\n",
        "\n",
        "A = 1 # Gaussian height\n",
        "sigma = 10\n",
        "prb_gaussian = A* np.exp(-(X**2 + Y**2)/2/sigma**2) #se metto un fattore di fase qui, il valore assoluto del pattern di diffrazione mi diventa complesso... boh! *np.exp(1j*(X+Y))\n",
        "\n",
        "mask = create_circular_mask(prb_gaussian.shape[0],prb_gaussian.shape[1], center = None, radius = 14)\n",
        "\n",
        "complex_mask = mask*np.exp(1j*mask)\n",
        "complex_prb = prb_gaussian*complex_mask\n",
        "\n",
        "complex_prb_amplitude = np.abs(complex_prb)\n",
        "complex_prb_phase = np.angle(complex_prb)\n",
        "complex_prb_phase[complex_prb_amplitude == 0] = 0\n",
        "\n",
        "updated_complex_prb = complex_prb_amplitude*np.exp(1j*complex_prb_phase)\n"
      ],
      "metadata": {
        "id": "37eEW8UrEfqY"
      },
      "execution_count": 28,
      "outputs": []
    },
    {
      "cell_type": "code",
      "source": [
        "plt.imshow(np.angle(updated_complex_prb))\n",
        "plt.colorbar()"
      ],
      "metadata": {
        "colab": {
          "base_uri": "https://localhost:8080/",
          "height": 452
        },
        "id": "_luAhJtasTCt",
        "outputId": "bb449ca0-faac-4ecc-b681-e65290bcce41"
      },
      "execution_count": 30,
      "outputs": [
        {
          "output_type": "execute_result",
          "data": {
            "text/plain": [
              "<matplotlib.colorbar.Colorbar at 0x7eb6b9086380>"
            ]
          },
          "metadata": {},
          "execution_count": 30
        },
        {
          "output_type": "display_data",
          "data": {
            "text/plain": [
              "<Figure size 640x480 with 2 Axes>"
            ],
            "image/png": "[encoded data removed]"
          },
          "metadata": {}
        }
      ]
    },
    {
      "cell_type": "code",
      "source": [
        "updated_complex_prb_tensor = tf.convert_to_tensor(updated_complex_prb,dtype=\"complex64\")\n",
        "updated_complex_prb_tensor_tiled = tf.expand_dims(tf.tile(tf.expand_dims(updated_complex_prb, axis=0), [60000, 1, 1]),axis = 3)"
      ],
      "metadata": {
        "id": "pJCTd2c_hrF8"
      },
      "execution_count": 31,
      "outputs": []
    },
    {
      "cell_type": "code",
      "source": [
        "updated_complex_prb_tensor_tiled.shape"
      ],
      "metadata": {
        "colab": {
          "base_uri": "https://localhost:8080/"
        },
        "id": "7FIZn88kiMb8",
        "outputId": "44c4e42e-49e6-4861-ce3f-92dc6f59bcf4"
      },
      "execution_count": 32,
      "outputs": [
        {
          "output_type": "execute_result",
          "data": {
            "text/plain": [
              "TensorShape([60000, 28, 28, 1])"
            ]
          },
          "metadata": {},
          "execution_count": 32
        }
      ]
    },
    {
      "cell_type": "code",
      "source": [
        "# exit surface wave\n",
        "x_train_complex = x_train_MNIST*np.exp(1j*x_train_fMNIST) #remember that when amplitude is 0 then the phase is assumed to be 0 as well\n",
        "\n",
        "exit_surface_wave = x_train_complex*updated_complex_prb_tensor_tiled\n",
        "\n",
        "exit_surface_wave_amplitude = np.abs(exit_surface_wave)\n",
        "exit_surface_wave_phase = np.angle(exit_surface_wave)\n",
        "exit_surface_wave_phase[exit_surface_wave_amplitude == 0] = 0\n",
        "\n",
        "updated_exit_surface_wave = exit_surface_wave_amplitude*np.exp(1j*exit_surface_wave_phase)"
      ],
      "metadata": {
        "id": "4BuYS-9bEwxB"
      },
      "execution_count": 33,
      "outputs": []
    },
    {
      "cell_type": "code",
      "source": [
        "plt.imshow(tf.math.angle(updated_exit_surface_wave[98,:,:,:]))\n",
        "plt.colorbar()"
      ],
      "metadata": {
        "colab": {
          "base_uri": "https://localhost:8080/",
          "height": 447
        },
        "id": "HuGfP-5kkDwr",
        "outputId": "2ab8d6e1-7d85-4c77-fd46-afa607a31238"
      },
      "execution_count": 35,
      "outputs": [
        {
          "output_type": "execute_result",
          "data": {
            "text/plain": [
              "<matplotlib.colorbar.Colorbar at 0x7eb6b81a31f0>"
            ]
          },
          "metadata": {},
          "execution_count": 35
        },
        {
          "output_type": "display_data",
          "data": {
            "text/plain": [
              "<Figure size 640x480 with 2 Axes>"
            ],
            "image/png": "[encoded data removed]"
          },
          "metadata": {}
        }
      ]
    },
    {
      "cell_type": "code",
      "source": [
        "# squeeziamo il dataset per eliminare ultima dimensione\n",
        "exit_surface_wave_squeezed = tf.squeeze(updated_exit_surface_wave)\n",
        "\n",
        "# transformata + shift + valore assoluto\n",
        "exit_surface_wave_squeezed_fft = tf.signal.fft2d(tf.cast(exit_surface_wave_squeezed,tf.complex64))\n",
        "diffraction_pattern = np.abs(tf.signal.fftshift(exit_surface_wave_squeezed_fft,axes=(-2,-1)))\n",
        "\n",
        "# unsqueeze per ritornare ad un tensore 4D digeribile dal modello\n",
        "diffraction_pattern_unsqueezed = tf.expand_dims(diffraction_pattern,-1)"
      ],
      "metadata": {
        "id": "M7O4GFsNt3I2"
      },
      "execution_count": 36,
      "outputs": []
    },
    {
      "cell_type": "code",
      "source": [
        "model_sequential = keras.Sequential(\n",
        "    [\n",
        "        keras.Input(shape=input_shape),\n",
        "\n",
        "        # Encoder\n",
        "        layers.Conv2D(64, (3, 3), activation=\"relu\", padding=\"same\"),\n",
        "        layers.MaxPooling2D((2, 2), padding=\"same\"),\n",
        "        layers.Conv2D(64, (3, 3), activation=\"relu\", padding=\"same\"),\n",
        "        layers.MaxPooling2D((2, 2), padding=\"same\"),\n",
        "        layers.Conv2D(64, (3, 3), activation=\"relu\", padding=\"same\"),\n",
        "        # layers.MaxPooling2D((2, 2), padding=\"same\"),\n",
        "\n",
        "\n",
        "\n",
        "        # Decoder\n",
        "        layers.Conv2DTranspose(64, (3, 3), strides=1, activation=\"relu\", padding=\"same\"),\n",
        "        layers.Conv2DTranspose(64, (3, 3), strides=2, activation=\"relu\", padding=\"same\"),\n",
        "        layers.Conv2DTranspose(64, (3, 3), strides=2, activation=\"relu\", padding=\"same\"),\n",
        "        layers.Conv2D(1, (3, 3), activation=\"sigmoid\", padding=\"same\"),\n",
        "    ]\n",
        ")\n",
        "\n",
        "model_sequential.summary()"
      ],
      "metadata": {
        "colab": {
          "base_uri": "https://localhost:8080/"
        },
        "id": "p9iCTrmh3N-d",
        "outputId": "ced679aa-9dc0-4b6c-c18e-34b62209efae"
      },
      "execution_count": 69,
      "outputs": [
        {
          "output_type": "stream",
          "name": "stdout",
          "text": [
            "Model: \"sequential_14\"\n",
            "_________________________________________________________________\n",
            " Layer (type)                Output Shape              Param #   \n",
            "=================================================================\n",
            " conv2d_55 (Conv2D)          (None, 28, 28, 64)        640       \n",
            "                                                                 \n",
            " max_pooling2d_38 (MaxPoolin  (None, 14, 14, 64)       0         \n",
            " g2D)                                                            \n",
            "                                                                 \n",
            " conv2d_56 (Conv2D)          (None, 14, 14, 64)        36928     \n",
            "                                                                 \n",
            " max_pooling2d_39 (MaxPoolin  (None, 7, 7, 64)         0         \n",
            " g2D)                                                            \n",
            "                                                                 \n",
            " conv2d_57 (Conv2D)          (None, 7, 7, 64)          36928     \n",
            "                                                                 \n",
            " conv2d_transpose_37 (Conv2D  (None, 7, 7, 64)         36928     \n",
            " Transpose)                                                      \n",
            "                                                                 \n",
            " conv2d_transpose_38 (Conv2D  (None, 14, 14, 64)       36928     \n",
            " Transpose)                                                      \n",
            "                                                                 \n",
            " conv2d_transpose_39 (Conv2D  (None, 28, 28, 64)       36928     \n",
            " Transpose)                                                      \n",
            "                                                                 \n",
            " conv2d_58 (Conv2D)          (None, 28, 28, 1)         577       \n",
            "                                                                 \n",
            "=================================================================\n",
            "Total params: 185,857\n",
            "Trainable params: 185,857\n",
            "Non-trainable params: 0\n",
            "_________________________________________________________________\n"
          ]
        }
      ]
    },
    {
      "cell_type": "markdown",
      "source": [
        "## Plot tests"
      ],
      "metadata": {
        "id": "IGPXKdljuN7E"
      }
    },
    {
      "cell_type": "markdown",
      "source": [],
      "metadata": {
        "id": "cFrQbZx7GGMv"
      }
    },
    {
      "cell_type": "code",
      "source": [
        "batch_size = 128\n",
        "epochs = 8\n",
        "\n",
        "model_sequential.compile(loss=\"mean_absolute_error\", optimizer=tf.keras.optimizers.Adam(learning_rate=0.01)) #'binary_crossentropy' kinda works as well\n",
        "model_sequential.fit(diffraction_pattern_unsqueezed, x_train_MNIST, batch_size=batch_size, epochs=epochs, validation_split=0.1)"
      ],
      "metadata": {
        "colab": {
          "base_uri": "https://localhost:8080/"
        },
        "id": "G4sMiT8s3of9",
        "outputId": "7fafe196-95a5-4d35-f60e-4575bece9d6d"
      },
      "execution_count": null,
      "outputs": [
        {
          "output_type": "stream",
          "name": "stdout",
          "text": [
            "Epoch 1/8\n",
            "422/422 [==============================] - 404s 955ms/step - loss: 0.1307 - val_loss: 0.1302\n",
            "Epoch 2/8\n",
            "422/422 [==============================] - 392s 928ms/step - loss: 0.1307 - val_loss: 0.1302\n",
            "Epoch 3/8\n",
            " 14/422 [..............................] - ETA: 6:08 - loss: 0.1305"
          ]
        }
      ]
    },
    {
      "cell_type": "code",
      "source": [
        "out_seq = model_sequential(diffraction_pattern_unsqueezed[1:10])\n",
        "out_seq.shape\n",
        "\n",
        "test_sample = 1\n",
        "\n",
        "fig, ax = plt.subplots(1,2)\n",
        "ax[0].imshow(out_seq[8])\n",
        "ax[1].imshow(x_train_MNIST[1:10][0])\n"
      ],
      "metadata": {
        "colab": {
          "base_uri": "https://localhost:8080/",
          "height": 304
        },
        "id": "idCNO7lo54e9",
        "outputId": "347fe763-7cbb-4bb0-db5f-21e9d4574b7b"
      },
      "execution_count": 51,
      "outputs": [
        {
          "output_type": "execute_result",
          "data": {
            "text/plain": [
              "<matplotlib.image.AxesImage at 0x7eb6229b5630>"
            ]
          },
          "metadata": {},
          "execution_count": 51
        },
        {
          "output_type": "display_data",
          "data": {
            "text/plain": [
              "<Figure size 640x480 with 2 Axes>"
            ],
            "image/png": "[encoded data removed]"
          },
          "metadata": {}
        }
      ]
    },
    {
      "cell_type": "code",
      "source": [
        "test_sample = 1\n",
        "\n",
        "fig, ax = plt.subplots(1,2)\n",
        "ax[0].imshow(np.angle(exit_surface_wave_squeezed[test_sample,:,:]))\n",
        "ax[1].imshow(diffraction_pattern[test_sample,:,:])"
      ],
      "metadata": {
        "id": "s9cUOyeyFfPO",
        "colab": {
          "base_uri": "https://localhost:8080/",
          "height": 304
        },
        "outputId": "33e37a03-c13e-4930-e905-d6415083ac08"
      },
      "execution_count": 43,
      "outputs": [
        {
          "output_type": "execute_result",
          "data": {
            "text/plain": [
              "<matplotlib.image.AxesImage at 0x7eb646c89ea0>"
            ]
          },
          "metadata": {},
          "execution_count": 43
        },
        {
          "output_type": "display_data",
          "data": {
            "text/plain": [
              "<Figure size 640x480 with 2 Axes>"
            ],
            "image/png": "[encoded data removed]"
          },
          "metadata": {}
        }
      ]
    },
    {
      "cell_type": "code",
      "source": [
        "test_sample_phase = 98\n",
        "\n",
        "fig, ax = plt.subplots(2,3)\n",
        "ax[0,0].imshow(x_train_MNIST[test_sample_phase,:,:,:])\n",
        "ax[0,1].imshow(tf.math.abs(x_train_complex[test_sample_phase,:,:,:]))\n",
        "sp1 = ax[0,2].imshow(x_train_MNIST[test_sample_phase,:,:,:]-tf.math.abs(x_train_complex[test_sample_phase,:,:,:]))\n",
        "ax[1,0].imshow(x_train_fMNIST[test_sample_phase,:,:,:])\n",
        "ax[1,1].imshow(tf.math.angle(x_train_complex[test_sample_phase,:,:,:]))\n",
        "sp2 = ax[1,2].imshow(x_train_fMNIST[test_sample_phase,:,:,:]-tf.math.angle(x_train_complex[test_sample_phase,:,:,:]))\n",
        "fig.colorbar(sp2)\n",
        "fig.colorbar(sp1)\n"
      ],
      "metadata": {
        "colab": {
          "base_uri": "https://localhost:8080/",
          "height": 451
        },
        "id": "vWA2T3oxITU9",
        "outputId": "d2018add-379f-4958-d267-b9592c6772a4"
      },
      "execution_count": 19,
      "outputs": [
        {
          "output_type": "execute_result",
          "data": {
            "text/plain": [
              "<matplotlib.colorbar.Colorbar at 0x7ef56c34d450>"
            ]
          },
          "metadata": {},
          "execution_count": 19
        },
        {
          "output_type": "display_data",
          "data": {
            "text/plain": [
              "<Figure size 640x480 with 8 Axes>"
            ],
            "image/png": "[encoded data removed]"
          },
          "metadata": {}
        }
      ]
    },
    {
      "cell_type": "code",
      "source": [],
      "metadata": {
        "id": "sFP-OCBYUnyC"
      },
      "execution_count": null,
      "outputs": []
    }
  ]
}