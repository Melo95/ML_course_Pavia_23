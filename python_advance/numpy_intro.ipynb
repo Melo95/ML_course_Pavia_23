{
  "nbformat": 4,
  "nbformat_minor": 0,
  "metadata": {
    "colab": {
      "provenance": [],
      "gpuType": "T4",
      "include_colab_link": true
    },
    "kernelspec": {
      "name": "python3",
      "display_name": "Python 3"
    },
    "language_info": {
      "name": "python"
    },
    "accelerator": "GPU",
    "gpuClass": "standard"
  },
  "cells": [
    {
      "cell_type": "markdown",
      "metadata": {
        "id": "view-in-github",
        "colab_type": "text"
      },
      "source": [
        "<a href=\"https://colab.research.google.com/github/Melo95/ML_course_Pavia_23/blob/main/python_advance/numpy_intro.ipynb\" target=\"_parent\"><img src=\"https://colab.research.google.com/assets/colab-badge.svg\" alt=\"Open In Colab\"/></a>"
      ]
    },
    {
      "cell_type": "markdown",
      "source": [
        "# Introduction to Numpy\n",
        "\n",
        "Based on [W3Schools tutorial](https://www.w3schools.com/python/numpy/default.asp) and [Wuhan DL Lab](https://github.com/farakiko/wuhan_DL_labs/blob/master/general/Intro_Numpy.ipynb).\n",
        "\n",
        "[**NumPy**](https://github.com/numpy/numpy) is short for \"*Numerical Python*\". It is a Python library used for working with arrays and it is used in almost all numerical computation using Python. It has functions for working in domain of linear algebra, fourier transform, and matrices. It was created in 2005 by Travis Oliphant. It is an open source project and you can use it freely.\n",
        "\n",
        "**Why Use NumPy?**\n",
        "\n",
        "In Python we have lists that serve the purpose of arrays, but they are slow to process. NumPy aims to provide an array object that is up to 50x faster than traditional Python lists. Arrays are very frequently used in data science, where speed and resources are very important.\n",
        "\n",
        "NumPy provides high-performance vector, matrix and higher-dimensional data structures for Python. It is implemented in C and Fortran so when calculations are vectorized (formulated with vectors and matrices), performance are very good.\n",
        "\n",
        "The array object in NumPy is called `ndarray`, it provides a lot of supporting functions that make working with arrays very easy.\n",
        "\n",
        "**Why is NumPy Faster Than Lists?**\n",
        "\n",
        "NumPy arrays are stored at one continuous place in memory unlike lists, so processes can access and manipulate them very efficiently. This behavior is called *locality of reference* in computer science. This is the main reason why NumPy is faster than lists. Also it is optimized to work with latest CPU architectures.\n",
        "\n",
        "**Which Language is NumPy written in?**\n",
        "\n",
        "NumPy is a Python library and is written partially in Python, but most of the parts that require fast computation are written in C or C++.\n",
        "\n",
        "**Useful Links**\n",
        "\n",
        "* http://jrjohansson.github.io/numericalpython.html\n",
        "* http://numpy.org\n",
        "* https://scipy.github.io/old-wiki/pages/Tentative_NumPy_Tutorial\n"
      ],
      "metadata": {
        "id": "z9YNWQz91pir"
      }
    },
    {
      "cell_type": "markdown",
      "source": [
        "### Creating Arrays\n",
        "\n",
        "We can create a NumPy `ndarray` object by using the `array()` function:"
      ],
      "metadata": {
        "id": "nC0hcE_i4jam"
      }
    },
    {
      "cell_type": "code",
      "execution_count": 2,
      "metadata": {
        "id": "v40zpWNv1mZQ"
      },
      "outputs": [],
      "source": [
        "#To use NumPy we need to import the numpy module first:\n",
        "import numpy as np"
      ]
    },
    {
      "cell_type": "code",
      "source": [
        "#Create and inspect the array\n",
        "arr = np.array([1, 2, 3, 4, 5])\n",
        "\n",
        "print(arr)\n",
        "print(type(arr))"
      ],
      "metadata": {
        "id": "Bx_GCO-yfLDB",
        "outputId": "6d722959-3c70-4cfe-e75e-0e97237ca6d0",
        "colab": {
          "base_uri": "https://localhost:8080/"
        }
      },
      "execution_count": 3,
      "outputs": [
        {
          "output_type": "stream",
          "name": "stdout",
          "text": [
            "[1 2 3 4 5]\n",
            "<class 'numpy.ndarray'>\n"
          ]
        }
      ]
    },
    {
      "cell_type": "markdown",
      "source": [
        "There are a number of ways to initialize new NumPy arrays, for example from:\n",
        "\n",
        "* a Python list or tuples\n",
        "* using functions that are dedicated to generating numpy arrays, such as arange, linspace, etc.\n",
        "* reading data from files\n",
        "\n"
      ],
      "metadata": {
        "id": "zBZUpv694284"
      }
    },
    {
      "cell_type": "markdown",
      "source": [
        "A dimension in arrays is one level of array depth in nested arrays, i.e. arrays that have arrays as their elements:\n",
        "\n",
        "**0-D array**"
      ],
      "metadata": {
        "id": "BNaWNuyufdaJ"
      }
    },
    {
      "cell_type": "code",
      "source": [
        "arr = np.array(42)\n",
        "print(arr)"
      ],
      "metadata": {
        "id": "sdfDuwke6BDm",
        "outputId": "7035f8cf-741d-4d14-f683-f19919812264",
        "colab": {
          "base_uri": "https://localhost:8080/"
        }
      },
      "execution_count": 4,
      "outputs": [
        {
          "output_type": "stream",
          "name": "stdout",
          "text": [
            "42\n"
          ]
        }
      ]
    },
    {
      "cell_type": "markdown",
      "source": [
        "**1-D array**"
      ],
      "metadata": {
        "id": "rwdU_5M-6IHp"
      }
    },
    {
      "cell_type": "code",
      "source": [
        "arr = np.array([1, 2, 3, 4, 5])\n",
        "print(arr)"
      ],
      "metadata": {
        "id": "2R5f1fvx6JpX",
        "outputId": "4020e285-f2b4-496b-88ee-841ba2fd497b",
        "colab": {
          "base_uri": "https://localhost:8080/"
        }
      },
      "execution_count": 5,
      "outputs": [
        {
          "output_type": "stream",
          "name": "stdout",
          "text": [
            "[1 2 3 4 5]\n"
          ]
        }
      ]
    },
    {
      "cell_type": "markdown",
      "source": [
        "**2-D array**"
      ],
      "metadata": {
        "id": "4wFvM0S56M6O"
      }
    },
    {
      "cell_type": "code",
      "source": [
        "arr = np.array([[1, 2, 3], [4, 5, 6]])\n",
        "print(arr)"
      ],
      "metadata": {
        "id": "j4cAzkzr6Oe_",
        "outputId": "21f628fc-f829-4937-cb79-1d0db6633eb3",
        "colab": {
          "base_uri": "https://localhost:8080/"
        }
      },
      "execution_count": 6,
      "outputs": [
        {
          "output_type": "stream",
          "name": "stdout",
          "text": [
            "[[1 2 3]\n",
            " [4 5 6]]\n"
          ]
        }
      ]
    },
    {
      "cell_type": "markdown",
      "source": [
        "**3-D array**"
      ],
      "metadata": {
        "id": "TV4Sr4hR6QJ9"
      }
    },
    {
      "cell_type": "code",
      "source": [
        "arr = np.array([[[1, 2, 3], [4, 5, 6]], [[1, 2, 3], [4, 5, 6]]])\n",
        "print(arr)"
      ],
      "metadata": {
        "id": "pi3u0BFw6SQ3",
        "outputId": "c4f7b620-922c-47e0-fdcd-ea91112cc934",
        "colab": {
          "base_uri": "https://localhost:8080/"
        }
      },
      "execution_count": 7,
      "outputs": [
        {
          "output_type": "stream",
          "name": "stdout",
          "text": [
            "[[[1 2 3]\n",
            "  [4 5 6]]\n",
            "\n",
            " [[1 2 3]\n",
            "  [4 5 6]]]\n"
          ]
        }
      ]
    },
    {
      "cell_type": "markdown",
      "source": [
        "NumPy arrays provides the `ndim` attribute that returns an integer that tells us how many dimensions the array have:"
      ],
      "metadata": {
        "id": "U1oPVbk85li7"
      }
    },
    {
      "cell_type": "code",
      "source": [
        "a = np.array(42)\n",
        "b = np.array([1, 2, 3, 4, 5])\n",
        "c = np.array([[1, 2, 3], [4, 5, 6]])\n",
        "d = np.array([[[1, 2, 3], [4, 5, 6]], [[1, 2, 3], [4, 5, 6]]])\n",
        "\n",
        "print(a.ndim)\n",
        "print(b.ndim)\n",
        "print(c.ndim)\n",
        "print(d.ndim)"
      ],
      "metadata": {
        "id": "PPGYNFcR6XaP",
        "outputId": "c033eec4-7003-4baa-a989-697b1ede2306",
        "colab": {
          "base_uri": "https://localhost:8080/"
        }
      },
      "execution_count": 9,
      "outputs": [
        {
          "output_type": "stream",
          "name": "stdout",
          "text": [
            "0\n",
            "1\n",
            "2\n",
            "3\n"
          ]
        }
      ]
    },
    {
      "cell_type": "markdown",
      "source": [
        "So far the `numpy.ndarray` looks awefully much like a Python list (or nested list). Why not simply use Python lists for computations instead of creating a new array type?\n",
        "\n",
        "There are several reasons:\n",
        "\n",
        "* Python lists are very general. They can contain any kind of object. They are dynamically typed. They do not support mathematical functions such as matrix and dot multiplications, etc. Implementating such functions for Python lists would not be very efficient because of the dynamic typing.\n",
        "* Numpy arrays are statically typed and homogeneous. The type of the elements is determined when array is created.\n",
        "* Numpy arrays are memory efficient.\n",
        "* Because of the static typing, fast implementation of mathematical functions such as multiplication and addition of numpy arrays can be implemented in a compiled language (C and Fortran is used).\n"
      ],
      "metadata": {
        "id": "L-Q3pTfkfr5j"
      }
    },
    {
      "cell_type": "markdown",
      "source": [
        "### Fast Array Generation\n",
        "\n",
        "For larger arrays it is inpractical to initialize the data manually, using explicit python lists. Instead we can use one of the many functions in numpy that generates arrays of different forms. Some of the more common are:\n",
        "\n",
        "**arange**\n"
      ],
      "metadata": {
        "id": "sfU7FzxqgOmO"
      }
    },
    {
      "cell_type": "code",
      "source": [
        "arr = np.arange(0, 10, 1) # arguments: start, stop, step\n",
        "print(arr)"
      ],
      "metadata": {
        "id": "vqj664yagXEC",
        "outputId": "412d45c1-051f-4457-ae58-1b82beba9140",
        "colab": {
          "base_uri": "https://localhost:8080/"
        }
      },
      "execution_count": 10,
      "outputs": [
        {
          "output_type": "stream",
          "name": "stdout",
          "text": [
            "[0 1 2 3 4 5 6 7 8 9]\n"
          ]
        }
      ]
    },
    {
      "cell_type": "code",
      "source": [
        "arr = np.arange(-1, 1, 0.1)\n",
        "print(arr)"
      ],
      "metadata": {
        "id": "M6e8R1RHg3_S",
        "outputId": "22a80d67-dc0b-4052-fa97-f38d8e590f76",
        "colab": {
          "base_uri": "https://localhost:8080/"
        }
      },
      "execution_count": 11,
      "outputs": [
        {
          "output_type": "stream",
          "name": "stdout",
          "text": [
            "[-1.00000000e+00 -9.00000000e-01 -8.00000000e-01 -7.00000000e-01\n",
            " -6.00000000e-01 -5.00000000e-01 -4.00000000e-01 -3.00000000e-01\n",
            " -2.00000000e-01 -1.00000000e-01 -2.22044605e-16  1.00000000e-01\n",
            "  2.00000000e-01  3.00000000e-01  4.00000000e-01  5.00000000e-01\n",
            "  6.00000000e-01  7.00000000e-01  8.00000000e-01  9.00000000e-01]\n"
          ]
        }
      ]
    },
    {
      "cell_type": "markdown",
      "source": [
        "**linspace and logspace**"
      ],
      "metadata": {
        "id": "EhAsL5x_hEL0"
      }
    },
    {
      "cell_type": "code",
      "source": [
        "arr = np.linspace(0, 10, 25)\n",
        "print(arr)"
      ],
      "metadata": {
        "id": "oDcsCSp3hFyB",
        "outputId": "dc9228c2-d089-4600-a8b9-cb72958750f5",
        "colab": {
          "base_uri": "https://localhost:8080/"
        }
      },
      "execution_count": 12,
      "outputs": [
        {
          "output_type": "stream",
          "name": "stdout",
          "text": [
            "[ 0.          0.41666667  0.83333333  1.25        1.66666667  2.08333333\n",
            "  2.5         2.91666667  3.33333333  3.75        4.16666667  4.58333333\n",
            "  5.          5.41666667  5.83333333  6.25        6.66666667  7.08333333\n",
            "  7.5         7.91666667  8.33333333  8.75        9.16666667  9.58333333\n",
            " 10.        ]\n"
          ]
        }
      ]
    },
    {
      "cell_type": "code",
      "source": [
        "arr = np.logspace(0, 10, 10, base=np.e)\n",
        "print(arr)"
      ],
      "metadata": {
        "id": "twK8ayCihXt0",
        "outputId": "564471d5-fb13-46bf-a00b-04ba7ceeceda",
        "colab": {
          "base_uri": "https://localhost:8080/"
        }
      },
      "execution_count": 13,
      "outputs": [
        {
          "output_type": "stream",
          "name": "stdout",
          "text": [
            "[1.00000000e+00 3.03773178e+00 9.22781435e+00 2.80316249e+01\n",
            " 8.51525577e+01 2.58670631e+02 7.85771994e+02 2.38696456e+03\n",
            " 7.25095809e+03 2.20264658e+04]\n"
          ]
        }
      ]
    },
    {
      "cell_type": "markdown",
      "source": [
        "**mgrid**"
      ],
      "metadata": {
        "id": "i3ptx8y5hmYU"
      }
    },
    {
      "cell_type": "code",
      "source": [
        "x, y = np.mgrid[0:5, 0:5]"
      ],
      "metadata": {
        "id": "RMELNlbWhn1p"
      },
      "execution_count": 14,
      "outputs": []
    },
    {
      "cell_type": "code",
      "source": [
        "print(x)"
      ],
      "metadata": {
        "id": "SbaDUlR3hq38",
        "outputId": "486bbc0f-2bde-4bd3-e293-415c2a481792",
        "colab": {
          "base_uri": "https://localhost:8080/"
        }
      },
      "execution_count": 15,
      "outputs": [
        {
          "output_type": "stream",
          "name": "stdout",
          "text": [
            "[[0 0 0 0 0]\n",
            " [1 1 1 1 1]\n",
            " [2 2 2 2 2]\n",
            " [3 3 3 3 3]\n",
            " [4 4 4 4 4]]\n"
          ]
        }
      ]
    },
    {
      "cell_type": "code",
      "source": [
        "print(y)"
      ],
      "metadata": {
        "id": "fCaw04JzhrdA",
        "outputId": "6d4d9049-a4c5-41da-9ec0-8147b910b767",
        "colab": {
          "base_uri": "https://localhost:8080/"
        }
      },
      "execution_count": 16,
      "outputs": [
        {
          "output_type": "stream",
          "name": "stdout",
          "text": [
            "[[0 1 2 3 4]\n",
            " [0 1 2 3 4]\n",
            " [0 1 2 3 4]\n",
            " [0 1 2 3 4]\n",
            " [0 1 2 3 4]]\n"
          ]
        }
      ]
    },
    {
      "cell_type": "markdown",
      "source": [
        "**random data**"
      ],
      "metadata": {
        "id": "8YCQszkch5zB"
      }
    },
    {
      "cell_type": "code",
      "source": [
        "# uniform random numbers in [0,1]\n",
        "arr = np.random.rand(5,5)\n",
        "print(arr)"
      ],
      "metadata": {
        "id": "sYcK8wNCh68n",
        "outputId": "e143cbc1-9b5e-4204-9ba0-a7beb578646b",
        "colab": {
          "base_uri": "https://localhost:8080/"
        }
      },
      "execution_count": 17,
      "outputs": [
        {
          "output_type": "stream",
          "name": "stdout",
          "text": [
            "[[0.80632325 0.44128055 0.68792283 0.48900821 0.48825332]\n",
            " [0.25781167 0.7251048  0.44307595 0.28104903 0.51410655]\n",
            " [0.55150458 0.92011072 0.20484535 0.39614099 0.78517237]\n",
            " [0.42271222 0.75884855 0.39790849 0.91989783 0.05015858]\n",
            " [0.12180504 0.56037982 0.91092304 0.56505342 0.2048665 ]]\n"
          ]
        }
      ]
    },
    {
      "cell_type": "code",
      "source": [
        "# standard normal distributed random numbers\n",
        "arr = np.random.randn(5,5)\n",
        "print(arr)"
      ],
      "metadata": {
        "id": "18k094seiQmJ",
        "outputId": "56a51737-e1bf-4b73-9899-54de4e6be589",
        "colab": {
          "base_uri": "https://localhost:8080/"
        }
      },
      "execution_count": 18,
      "outputs": [
        {
          "output_type": "stream",
          "name": "stdout",
          "text": [
            "[[-0.72648505 -0.45919712 -0.11340752  0.42072532  0.86549662]\n",
            " [-0.99538213  0.54506888 -1.29404519  0.01037248 -1.81711063]\n",
            " [-0.28838461 -0.85530427  0.93851443 -0.59895329  1.69171908]\n",
            " [ 1.43785759 -0.68877237  1.2387032  -0.53655     1.05092534]\n",
            " [-1.3447643   0.15850461 -0.66999189  0.54827158 -0.16609042]]\n"
          ]
        }
      ]
    },
    {
      "cell_type": "markdown",
      "source": [
        "**diag**"
      ],
      "metadata": {
        "id": "tgj0f-N2iWhS"
      }
    },
    {
      "cell_type": "code",
      "source": [
        "# a diagonal matrix\n",
        "arr = np.diag([1,2,3])\n",
        "print(arr)"
      ],
      "metadata": {
        "id": "3xJnMm5XiXlb",
        "outputId": "5081b7e7-9af2-4fd6-bbc1-951d23c88ba8",
        "colab": {
          "base_uri": "https://localhost:8080/"
        }
      },
      "execution_count": 19,
      "outputs": [
        {
          "output_type": "stream",
          "name": "stdout",
          "text": [
            "[[1 0 0]\n",
            " [0 2 0]\n",
            " [0 0 3]]\n"
          ]
        }
      ]
    },
    {
      "cell_type": "markdown",
      "source": [
        "**zeros and ones**"
      ],
      "metadata": {
        "id": "kL1oVhtDicb7"
      }
    },
    {
      "cell_type": "code",
      "source": [
        "arr = np.zeros((3,3))\n",
        "print(arr)"
      ],
      "metadata": {
        "id": "_CZqAIYqie4T",
        "outputId": "4c61905a-393c-4145-8893-75cb977b5505",
        "colab": {
          "base_uri": "https://localhost:8080/"
        }
      },
      "execution_count": 20,
      "outputs": [
        {
          "output_type": "stream",
          "name": "stdout",
          "text": [
            "[[0. 0. 0.]\n",
            " [0. 0. 0.]\n",
            " [0. 0. 0.]]\n"
          ]
        }
      ]
    },
    {
      "cell_type": "code",
      "source": [
        "arr = np.ones((3,3))\n",
        "print(arr)"
      ],
      "metadata": {
        "id": "mRxYTFtGii0d",
        "outputId": "89057533-4d4c-4706-c623-902244cef1c3",
        "colab": {
          "base_uri": "https://localhost:8080/"
        }
      },
      "execution_count": 21,
      "outputs": [
        {
          "output_type": "stream",
          "name": "stdout",
          "text": [
            "[[1. 1. 1.]\n",
            " [1. 1. 1.]\n",
            " [1. 1. 1.]]\n"
          ]
        }
      ]
    },
    {
      "cell_type": "markdown",
      "source": [
        "### Access Array Elements\n",
        "\n",
        "Array indexing is the same as accessing elements in python arrays:"
      ],
      "metadata": {
        "id": "gB54NXq-7IID"
      }
    },
    {
      "cell_type": "code",
      "source": [
        "arr = np.array([1, 2, 3, 4])\n",
        "\n",
        "print(arr[0]) \n",
        "print(arr[1])\n",
        "print(arr[2] + arr[3])  "
      ],
      "metadata": {
        "id": "3Td7vDFE7as1",
        "outputId": "282ffcb0-5553-409c-d84d-b2f1617f8ebd",
        "colab": {
          "base_uri": "https://localhost:8080/"
        }
      },
      "execution_count": 22,
      "outputs": [
        {
          "output_type": "stream",
          "name": "stdout",
          "text": [
            "1\n",
            "2\n",
            "7\n"
          ]
        }
      ]
    },
    {
      "cell_type": "markdown",
      "source": [
        "To access elements from 2-D arrays we can use comma separated integers representing the dimension and the index of the element.\n",
        "\n",
        "Think of 2-D arrays like a table with rows and columns, where the dimension represents the row and the index represents the column:"
      ],
      "metadata": {
        "id": "u0wX-jT_7AFj"
      }
    },
    {
      "cell_type": "code",
      "source": [
        "arr = np.array([[1,2,3,4,5], [6,7,8,9,10]])\n",
        "print(arr)\n",
        "\n",
        "print('2nd element on 1st row: ', arr[0, 1]) \n",
        "print('5th element on 2nd row: ', arr[1, 4])"
      ],
      "metadata": {
        "id": "YD_8xR6t73xv",
        "outputId": "a995ba42-2069-49eb-8def-1eda3e1dfb6e",
        "colab": {
          "base_uri": "https://localhost:8080/"
        }
      },
      "execution_count": 23,
      "outputs": [
        {
          "output_type": "stream",
          "name": "stdout",
          "text": [
            "[[ 1  2  3  4  5]\n",
            " [ 6  7  8  9 10]]\n",
            "2nd element on 1st row:  2\n",
            "5th element on 2nd row:  10\n"
          ]
        }
      ]
    },
    {
      "cell_type": "markdown",
      "source": [
        "To access elements from 3-D arrays we can use comma separated integers representing the dimensions and the index of the element:"
      ],
      "metadata": {
        "id": "wFFq13U18A3S"
      }
    },
    {
      "cell_type": "code",
      "source": [
        "arr = np.array([[[1, 2, 3], [4, 5, 6]], [[7, 8, 9], [10, 11, 12]]])\n",
        "print(arr[0, 1, 2]) "
      ],
      "metadata": {
        "id": "UC7ktd-R8HBB",
        "outputId": "843561c2-da7b-4100-dd5b-62703f104374",
        "colab": {
          "base_uri": "https://localhost:8080/"
        }
      },
      "execution_count": 24,
      "outputs": [
        {
          "output_type": "stream",
          "name": "stdout",
          "text": [
            "6\n"
          ]
        }
      ]
    },
    {
      "cell_type": "markdown",
      "source": [
        "In the example above, the first number represents the first dimension, which contains two arrays:\n",
        "\n",
        "`[[1, 2, 3], [4, 5, 6]]` and `[[7, 8, 9], [10, 11, 12]]`\n",
        "\n",
        "Since we selected `0`, we are left with the first array: `[[1, 2, 3], [4, 5, 6]]`.\n",
        "\n",
        "The second number represents the second dimension, which also contains two arrays:\n",
        "\n",
        "`[1, 2, 3]` and `[4, 5, 6]`\n",
        "\n",
        "Since we selected `1`, we are left with the second array: `[4, 5, 6]`.\n",
        "\n",
        "The third number represents the third dimension, which contains three values: `4`, `5`, and `6`. Since we selected `2`, we end up with the third value: `6`."
      ],
      "metadata": {
        "id": "UMmlyCjS8Kl5"
      }
    },
    {
      "cell_type": "markdown",
      "source": [
        "### Array Sclicing\n",
        "\n",
        "Slicing for NumPy arrays is similar to python arrays (see notebook [`python_intro_part1.ipynb`](https://github.com/jngadiub/ML_course_Pavia_23/blob/main/python_basics/python_intro_part1.ipynb)). Let's see here a few more features. "
      ],
      "metadata": {
        "id": "oNcRSWaABHW9"
      }
    },
    {
      "cell_type": "markdown",
      "source": [
        "The `step` value can be used to determine the step of the slicing. The example below returns every other element from index `1` to index `5`:"
      ],
      "metadata": {
        "id": "4lAEXnTnC6HW"
      }
    },
    {
      "cell_type": "code",
      "source": [
        "arr = np.array([1, 2, 3, 4, 5, 6, 7])\n",
        "print(arr[1:5:2]) "
      ],
      "metadata": {
        "id": "a2W2bPmgCcUR",
        "outputId": "45e07cb0-2028-4563-a393-f0b4e3e2b056",
        "colab": {
          "base_uri": "https://localhost:8080/"
        }
      },
      "execution_count": 26,
      "outputs": [
        {
          "output_type": "stream",
          "name": "stdout",
          "text": [
            "[2 4]\n"
          ]
        }
      ]
    },
    {
      "cell_type": "markdown",
      "source": [
        "*Exercise 1: print every other element of the entire array.*\n",
        "\n",
        "*Exercise 2: create a 2D array and from the second element of the first dimension, slice elements from index 1 to index 4.*\n",
        "\n",
        "*Exercise 3: create a 2D array and from both elements of the first dimension, return the element with index 2.*\n",
        "\n",
        "*Exercise 4: create a 2D array and from the both elements of the first dimension, slice elements from index 1 to index 4.*"
      ],
      "metadata": {
        "id": "aeu4oobRCvs8"
      }
    },
    {
      "cell_type": "code",
      "source": [
        "print(arr[0:7:2])"
      ],
      "metadata": {
        "id": "Q9Fu_6WgSgP-",
        "outputId": "8ec0f4f4-1ea7-4853-e516-fd5d72596f37",
        "colab": {
          "base_uri": "https://localhost:8080/"
        }
      },
      "execution_count": 32,
      "outputs": [
        {
          "output_type": "stream",
          "name": "stdout",
          "text": [
            "[1 3 5 7]\n"
          ]
        }
      ]
    },
    {
      "cell_type": "code",
      "source": [
        "cust_arr = np.array([[1,2,3,4,5],[7,8,9,10,11]])\n",
        "print(cust_arr)\n",
        "\n",
        "print(cust_arr[0,1:4])\n",
        "print(cust_arr[1,2])\n",
        "print(cust_arr[:,1:4])"
      ],
      "metadata": {
        "id": "w03toJB9UBBn",
        "outputId": "591ef35d-97d8-4447-8ef5-233ed389d2ef",
        "colab": {
          "base_uri": "https://localhost:8080/"
        }
      },
      "execution_count": 44,
      "outputs": [
        {
          "output_type": "stream",
          "name": "stdout",
          "text": [
            "[[ 1  2  3  4  5]\n",
            " [ 7  8  9 10 11]]\n",
            "[2 3 4]\n",
            "9\n",
            "[[ 2  3  4]\n",
            " [ 8  9 10]]\n"
          ]
        }
      ]
    },
    {
      "cell_type": "markdown",
      "source": [
        "### Data Types\n",
        "\n",
        "Using the `dtype` (data type) property of an `ndarray`, we can see what type the data of an array has:\n"
      ],
      "metadata": {
        "id": "0JTm2JP3FEll"
      }
    },
    {
      "cell_type": "code",
      "source": [
        "arr = np.array([1, 2, 3, 4])\n",
        "print(arr.dtype) "
      ],
      "metadata": {
        "id": "5zCaDYW_D0p8",
        "outputId": "5d1c9362-9e40-4867-da56-7568ebe8b688",
        "colab": {
          "base_uri": "https://localhost:8080/"
        }
      },
      "execution_count": 45,
      "outputs": [
        {
          "output_type": "stream",
          "name": "stdout",
          "text": [
            "int64\n"
          ]
        }
      ]
    },
    {
      "cell_type": "markdown",
      "source": [
        "We get an error if we try to assign a value of the wrong type to an element in a numpy array:\n"
      ],
      "metadata": {
        "id": "xsFWZPl1KbPK"
      }
    },
    {
      "cell_type": "code",
      "source": [
        "arr[0] = \"hello\"   # error on purpose\n"
      ],
      "metadata": {
        "id": "Nb2najF0KdIl",
        "outputId": "26a6588c-5bb4-4a7b-ffcc-ad399897531a",
        "colab": {
          "base_uri": "https://localhost:8080/",
          "height": 165
        }
      },
      "execution_count": 46,
      "outputs": [
        {
          "output_type": "error",
          "ename": "ValueError",
          "evalue": "ignored",
          "traceback": [
            "\u001b[0;31m---------------------------------------------------------------------------\u001b[0m",
            "\u001b[0;31mValueError\u001b[0m                                Traceback (most recent call last)",
            "\u001b[0;32m<ipython-input-46-36524636d7f1>\u001b[0m in \u001b[0;36m<cell line: 1>\u001b[0;34m()\u001b[0m\n\u001b[0;32m----> 1\u001b[0;31m \u001b[0marr\u001b[0m\u001b[0;34m[\u001b[0m\u001b[0;36m0\u001b[0m\u001b[0;34m]\u001b[0m \u001b[0;34m=\u001b[0m \u001b[0;34m\"hello\"\u001b[0m   \u001b[0;31m# error on purpose\u001b[0m\u001b[0;34m\u001b[0m\u001b[0;34m\u001b[0m\u001b[0m\n\u001b[0m",
            "\u001b[0;31mValueError\u001b[0m: invalid literal for int() with base 10: 'hello'"
          ]
        }
      ]
    },
    {
      "cell_type": "markdown",
      "source": [
        "If we want, we can explicitly define the type of the array data when we create it, using the `dtype` keyword argument:\n",
        "\n",
        "**Example 1**\n"
      ],
      "metadata": {
        "id": "6Y36CmgDKoSz"
      }
    },
    {
      "cell_type": "code",
      "source": [
        "arr = np.array([1, 2, 3, 4], dtype=complex)\n",
        "print(arr)\n",
        "print(arr.dtype) "
      ],
      "metadata": {
        "id": "2-0mFD3eFMUl",
        "outputId": "97bbd179-6e14-4e60-dd94-af49748da6bd",
        "colab": {
          "base_uri": "https://localhost:8080/"
        }
      },
      "execution_count": 47,
      "outputs": [
        {
          "output_type": "stream",
          "name": "stdout",
          "text": [
            "[1.+0.j 2.+0.j 3.+0.j 4.+0.j]\n",
            "complex128\n"
          ]
        }
      ]
    },
    {
      "cell_type": "markdown",
      "source": [
        "**Example 2**"
      ],
      "metadata": {
        "id": "6ZO38RfKLNtc"
      }
    },
    {
      "cell_type": "code",
      "source": [
        "arr = np.array([0, 2, 3, 4], dtype=bool)\n",
        "print(arr)\n",
        "print(arr.dtype)"
      ],
      "metadata": {
        "id": "O0eHLd8oLPB7",
        "outputId": "8c9eae9d-ff5c-4be3-ceb2-4ecb3aae9801",
        "colab": {
          "base_uri": "https://localhost:8080/"
        }
      },
      "execution_count": 48,
      "outputs": [
        {
          "output_type": "stream",
          "name": "stdout",
          "text": [
            "[False  True  True  True]\n",
            "bool\n"
          ]
        }
      ]
    },
    {
      "cell_type": "markdown",
      "source": [
        "Common type that can be used with dtype are: `int`, `float`, `complex`, `bool`, `object`, etc.\n",
        "\n",
        "We can also explicitly define the bit size of the data types, for example: `int64`, `int16`, `float32`, `complex128`.\n"
      ],
      "metadata": {
        "id": "Puo8ONS7K7Mr"
      }
    },
    {
      "cell_type": "code",
      "source": [
        "arr = np.array([0, 2, 3, 4], dtype='float32')\n",
        "print(arr)\n",
        "print(arr.dtype)"
      ],
      "metadata": {
        "id": "pc28K74rLgyd",
        "outputId": "9a18b1ad-9369-4685-aea6-abdb483bdf99",
        "colab": {
          "base_uri": "https://localhost:8080/"
        }
      },
      "execution_count": 49,
      "outputs": [
        {
          "output_type": "stream",
          "name": "stdout",
          "text": [
            "[0. 2. 3. 4.]\n",
            "float32\n"
          ]
        }
      ]
    },
    {
      "cell_type": "markdown",
      "source": [
        "A way to change the data type of an existing array, is to make a copy of the array with the `astype()` method. This function creates a copy of the array, and allows you to specify the data type as a parameter:\n",
        "\n"
      ],
      "metadata": {
        "id": "4fnbOmEqC3wk"
      }
    },
    {
      "cell_type": "code",
      "source": [
        "arr = np.array([1.1, 2.1, 3.1])\n",
        "\n",
        "newarr = arr.astype('int32')\n",
        "\n",
        "print(newarr)\n",
        "print(newarr.dtype)"
      ],
      "metadata": {
        "id": "214KpnW6L8Yf",
        "outputId": "cc3c7359-a84a-44a5-eb6a-b79b07b6ad04",
        "colab": {
          "base_uri": "https://localhost:8080/"
        }
      },
      "execution_count": 50,
      "outputs": [
        {
          "output_type": "stream",
          "name": "stdout",
          "text": [
            "[1 2 3]\n",
            "int32\n"
          ]
        }
      ]
    },
    {
      "cell_type": "markdown",
      "source": [
        "### Array Copy\n",
        "\n",
        "To achieve high performance, assignments in Python usually do not copy the underlaying objects. This is important for example when objects are passed between functions, to avoid an excessive amount of memory copying when it is not necessary (techincal term: *pass by reference*).\n"
      ],
      "metadata": {
        "id": "BvNM6h2RPtCc"
      }
    },
    {
      "cell_type": "code",
      "source": [
        "A = np.array([[1, 2], [3, 4]])\n",
        "print(A)"
      ],
      "metadata": {
        "id": "5u8aI5OjP33s",
        "outputId": "a96ef76f-639d-4e73-e21c-0b7cc36a34da",
        "colab": {
          "base_uri": "https://localhost:8080/"
        }
      },
      "execution_count": 51,
      "outputs": [
        {
          "output_type": "stream",
          "name": "stdout",
          "text": [
            "[[1 2]\n",
            " [3 4]]\n"
          ]
        }
      ]
    },
    {
      "cell_type": "code",
      "source": [
        "# now B is referring to the same array data as A \n",
        "B = A "
      ],
      "metadata": {
        "id": "1A5QO4xmQVtL"
      },
      "execution_count": 52,
      "outputs": []
    },
    {
      "cell_type": "code",
      "source": [
        "# changing B affects A\n",
        "B[0,0] = 10\n",
        "print(B)"
      ],
      "metadata": {
        "id": "arSMb9SCQc_B",
        "outputId": "a7960bff-de34-4441-caa9-cd794b14b99d",
        "colab": {
          "base_uri": "https://localhost:8080/"
        }
      },
      "execution_count": 53,
      "outputs": [
        {
          "output_type": "stream",
          "name": "stdout",
          "text": [
            "[[10  2]\n",
            " [ 3  4]]\n"
          ]
        }
      ]
    },
    {
      "cell_type": "code",
      "source": [
        "print(A)"
      ],
      "metadata": {
        "id": "VhQszrd5QjIn",
        "outputId": "6ee9da26-c381-4847-aa5d-17822c0b2ccb",
        "colab": {
          "base_uri": "https://localhost:8080/"
        }
      },
      "execution_count": 54,
      "outputs": [
        {
          "output_type": "stream",
          "name": "stdout",
          "text": [
            "[[10  2]\n",
            " [ 3  4]]\n"
          ]
        }
      ]
    },
    {
      "cell_type": "markdown",
      "source": [
        "If we want to avoid this behavior, so that when we get a new completely independent object `B` copied from `A`, then we need to do a so-called \"*deep copy*\" using the function `copy`:"
      ],
      "metadata": {
        "id": "WjDgbc-5QrEb"
      }
    },
    {
      "cell_type": "code",
      "source": [
        "B = np.copy(A)\n",
        "# now, if we modify B, A is not affected\n",
        "B[0,0] = -5\n",
        "print(B)"
      ],
      "metadata": {
        "id": "B3Crh8QSQyl7",
        "outputId": "34004acf-3ce0-4f37-c549-d660b15baf1f",
        "colab": {
          "base_uri": "https://localhost:8080/"
        }
      },
      "execution_count": 55,
      "outputs": [
        {
          "output_type": "stream",
          "name": "stdout",
          "text": [
            "[[-5  2]\n",
            " [ 3  4]]\n"
          ]
        }
      ]
    },
    {
      "cell_type": "code",
      "source": [
        "print(A)"
      ],
      "metadata": {
        "id": "5Dbmn2zjRG4m",
        "outputId": "56de911b-8275-4049-b72f-cf2e9e64c5d9",
        "colab": {
          "base_uri": "https://localhost:8080/"
        }
      },
      "execution_count": 56,
      "outputs": [
        {
          "output_type": "stream",
          "name": "stdout",
          "text": [
            "[[10  2]\n",
            " [ 3  4]]\n"
          ]
        }
      ]
    },
    {
      "cell_type": "markdown",
      "source": [
        "### Array Shape\n",
        "\n",
        "The shape of an array is the number of elements in each dimension. NumPy arrays have an attribute called `shape` that returns a tuple with each index having the number of corresponding elements:"
      ],
      "metadata": {
        "id": "R0DupXJxMScb"
      }
    },
    {
      "cell_type": "code",
      "source": [
        "arr = np.array([[1, 2, 3, 4], [5, 6, 7, 8]])\n",
        "print(arr.shape)"
      ],
      "metadata": {
        "id": "_1TMUUTnMdVX",
        "outputId": "80c8f45a-90bf-4619-dd49-0aa26fba8c99",
        "colab": {
          "base_uri": "https://localhost:8080/"
        }
      },
      "execution_count": 57,
      "outputs": [
        {
          "output_type": "stream",
          "name": "stdout",
          "text": [
            "(2, 4)\n"
          ]
        }
      ]
    },
    {
      "cell_type": "markdown",
      "source": [
        "The example above returns `(2, 4)`, which means that the array has 2 dimensions, where the first dimension has 2 elements and the second has 4.\n",
        "\n",
        "*Exercise: create an array with 5 dimensions using `ndmin` and a vector with four elements and verify that last dimension has value 4.*"
      ],
      "metadata": {
        "id": "W9TDyQUbMqQ7"
      }
    },
    {
      "cell_type": "code",
      "source": [
        "arr_5_dim = np.random.rand(1,4)\n",
        "print(arr_5_dim)\n",
        "print(arr_5_dim.shape[1])"
      ],
      "metadata": {
        "id": "67gRXKtiXALQ",
        "outputId": "39360352-98f1-45a1-cb4f-50d0450e11e8",
        "colab": {
          "base_uri": "https://localhost:8080/"
        }
      },
      "execution_count": 60,
      "outputs": [
        {
          "output_type": "stream",
          "name": "stdout",
          "text": [
            "[[0.0639186  0.40518744 0.22507627 0.03679832]]\n",
            "4\n"
          ]
        }
      ]
    },
    {
      "cell_type": "markdown",
      "source": [
        "Reshaping means changing the shape of an array. By reshaping we can add or remove dimensions or change number of elements in each dimension.\n",
        "\n",
        "**Reshape From 1-D to 2-D**"
      ],
      "metadata": {
        "id": "xkJaE_jFMqOH"
      }
    },
    {
      "cell_type": "code",
      "source": [
        "arr = np.array([1, 2, 3, 4, 5, 6, 7, 8, 9, 10, 11, 12])\n",
        "print(\"Before reshaping:\",arr.shape)\n",
        "\n",
        "arr = arr.reshape(4, 3)\n",
        "print(\"After reshaping\",arr.shape)\n",
        "print(arr)"
      ],
      "metadata": {
        "id": "OHr9LrziNQaT",
        "outputId": "16ba0c47-1e4f-4db4-b625-39da0c214b9c",
        "colab": {
          "base_uri": "https://localhost:8080/"
        }
      },
      "execution_count": 61,
      "outputs": [
        {
          "output_type": "stream",
          "name": "stdout",
          "text": [
            "Before reshaping: (12,)\n",
            "After reshaping (4, 3)\n",
            "[[ 1  2  3]\n",
            " [ 4  5  6]\n",
            " [ 7  8  9]\n",
            " [10 11 12]]\n"
          ]
        }
      ]
    },
    {
      "cell_type": "markdown",
      "source": [
        "**Reshape From 1-D to 3-D**"
      ],
      "metadata": {
        "id": "H35R2HZxNhpZ"
      }
    },
    {
      "cell_type": "code",
      "source": [
        "arr = np.array([1, 2, 3, 4, 5, 6, 7, 8, 9, 10, 11, 12])\n",
        "print(\"Before reshaping:\",arr.shape)\n",
        "\n",
        "arr = arr.reshape(2, 3, 2)\n",
        "print(\"After reshaping\",arr.shape)\n",
        "print(arr)"
      ],
      "metadata": {
        "id": "4lsts4YRNisL",
        "outputId": "3238e67d-1f97-44a1-ef03-feecdded24a0",
        "colab": {
          "base_uri": "https://localhost:8080/"
        }
      },
      "execution_count": 63,
      "outputs": [
        {
          "output_type": "stream",
          "name": "stdout",
          "text": [
            "Before reshaping: (12,)\n",
            "After reshaping (2, 3, 2)\n",
            "[[[ 1  2]\n",
            "  [ 3  4]\n",
            "  [ 5  6]]\n",
            "\n",
            " [[ 7  8]\n",
            "  [ 9 10]\n",
            "  [11 12]]]\n"
          ]
        }
      ]
    },
    {
      "cell_type": "markdown",
      "source": [
        "**Can We Reshape Into any Shape?**\n",
        "Yes, as long as the elements required for reshaping are equal in both shapes.\n",
        "\n",
        "We can reshape an 8 elements 1D array into a matrix of 2 rows and 4 columns but we cannot reshape it into a matrix of 3 rows and 3 columns as that would require 3x3 = 9 elements, while we have only 8 in the original 1D array."
      ],
      "metadata": {
        "id": "-ccho4psOCya"
      }
    },
    {
      "cell_type": "code",
      "source": [
        "arr = np.array([1, 2, 3, 4, 5, 6, 7, 8])\n",
        "arr = arr.reshape(3, 3) #error on purpose"
      ],
      "metadata": {
        "id": "MhBJDdL3OWI-",
        "outputId": "8cd551e6-7794-44c4-9a84-53c7163ac90d",
        "colab": {
          "base_uri": "https://localhost:8080/",
          "height": 182
        }
      },
      "execution_count": 64,
      "outputs": [
        {
          "output_type": "error",
          "ename": "ValueError",
          "evalue": "ignored",
          "traceback": [
            "\u001b[0;31m---------------------------------------------------------------------------\u001b[0m",
            "\u001b[0;31mValueError\u001b[0m                                Traceback (most recent call last)",
            "\u001b[0;32m<ipython-input-64-e1a7e1cc90d9>\u001b[0m in \u001b[0;36m<cell line: 2>\u001b[0;34m()\u001b[0m\n\u001b[1;32m      1\u001b[0m \u001b[0marr\u001b[0m \u001b[0;34m=\u001b[0m \u001b[0mnp\u001b[0m\u001b[0;34m.\u001b[0m\u001b[0marray\u001b[0m\u001b[0;34m(\u001b[0m\u001b[0;34m[\u001b[0m\u001b[0;36m1\u001b[0m\u001b[0;34m,\u001b[0m \u001b[0;36m2\u001b[0m\u001b[0;34m,\u001b[0m \u001b[0;36m3\u001b[0m\u001b[0;34m,\u001b[0m \u001b[0;36m4\u001b[0m\u001b[0;34m,\u001b[0m \u001b[0;36m5\u001b[0m\u001b[0;34m,\u001b[0m \u001b[0;36m6\u001b[0m\u001b[0;34m,\u001b[0m \u001b[0;36m7\u001b[0m\u001b[0;34m,\u001b[0m \u001b[0;36m8\u001b[0m\u001b[0;34m]\u001b[0m\u001b[0;34m)\u001b[0m\u001b[0;34m\u001b[0m\u001b[0;34m\u001b[0m\u001b[0m\n\u001b[0;32m----> 2\u001b[0;31m \u001b[0marr\u001b[0m \u001b[0;34m=\u001b[0m \u001b[0marr\u001b[0m\u001b[0;34m.\u001b[0m\u001b[0mreshape\u001b[0m\u001b[0;34m(\u001b[0m\u001b[0;36m3\u001b[0m\u001b[0;34m,\u001b[0m \u001b[0;36m3\u001b[0m\u001b[0;34m)\u001b[0m \u001b[0;31m#error on purpose\u001b[0m\u001b[0;34m\u001b[0m\u001b[0;34m\u001b[0m\u001b[0m\n\u001b[0m",
            "\u001b[0;31mValueError\u001b[0m: cannot reshape array of size 8 into shape (3,3)"
          ]
        }
      ]
    },
    {
      "cell_type": "markdown",
      "source": [
        "You are allowed to have one \"unknown\" dimension. Meaning that you do not have to specify an exact number for one of the dimensions in the reshape method. Pass `-1` as the value, and NumPy will calculate this number for you:"
      ],
      "metadata": {
        "id": "mTD06jZqOnSL"
      }
    },
    {
      "cell_type": "code",
      "source": [
        "arr = np.array([1, 2, 3, 4, 5, 6, 7, 8])\n",
        "print(\"Before reshaping:\",arr.shape)\n",
        "\n",
        "arr = arr.reshape(2, 2, -1)\n",
        "print(\"After reshaping\",arr.shape)\n",
        "print(arr)"
      ],
      "metadata": {
        "id": "E1MUQrwIOqgr",
        "outputId": "397377a2-75e3-408c-d108-2c3a8df29aca",
        "colab": {
          "base_uri": "https://localhost:8080/"
        }
      },
      "execution_count": 65,
      "outputs": [
        {
          "output_type": "stream",
          "name": "stdout",
          "text": [
            "Before reshaping: (8,)\n",
            "After reshaping (2, 2, 2)\n",
            "[[[1 2]\n",
            "  [3 4]]\n",
            "\n",
            " [[5 6]\n",
            "  [7 8]]]\n"
          ]
        }
      ]
    },
    {
      "cell_type": "markdown",
      "source": [
        "Flattening array means converting a multidimensional array into a 1D array. We can use the `flatten` method to do this:"
      ],
      "metadata": {
        "id": "Qi0ShDxlO3t7"
      }
    },
    {
      "cell_type": "code",
      "source": [
        "arr = np.array([[1, 2], [3, 4]])\n",
        "print(\"Before flattening:\",arr.shape)\n",
        "\n",
        "arr = arr.flatten()\n",
        "print(\"After flattening:\",arr.shape)"
      ],
      "metadata": {
        "id": "xlymOSJKPXlu",
        "outputId": "943c9f75-a0f7-4a43-9fb0-dd321581e0c0",
        "colab": {
          "base_uri": "https://localhost:8080/"
        }
      },
      "execution_count": 66,
      "outputs": [
        {
          "output_type": "stream",
          "name": "stdout",
          "text": [
            "Before flattening: (2, 2)\n",
            "After flattening: (4,)\n"
          ]
        }
      ]
    },
    {
      "cell_type": "markdown",
      "source": [
        "**Note**: both the `reshape` and `flatten` functions create a deep copy of the data.\n"
      ],
      "metadata": {
        "id": "KPJx7IpzRT1R"
      }
    },
    {
      "cell_type": "markdown",
      "source": [
        "### Iterating Arrays\n",
        "\n",
        "Iterating means going through elements one by one. As we deal with multi-dimensional arrays in numpy, we can do this using basic `for` loop of python.\n",
        "\n",
        "If we iterate on a 1-D array it will go through each element one by one:\n",
        "\n"
      ],
      "metadata": {
        "id": "pANzkXVIUAOH"
      }
    },
    {
      "cell_type": "code",
      "source": [
        "arr = np.array([1, 2, 3])\n",
        "for x in arr: print(x) "
      ],
      "metadata": {
        "id": "Pfqqol4rUJtZ",
        "outputId": "faa49fd1-303e-401a-cc20-6a6e5b31b516",
        "colab": {
          "base_uri": "https://localhost:8080/"
        }
      },
      "execution_count": 67,
      "outputs": [
        {
          "output_type": "stream",
          "name": "stdout",
          "text": [
            "1\n",
            "2\n",
            "3\n"
          ]
        }
      ]
    },
    {
      "cell_type": "markdown",
      "source": [
        "In a 2-D array it will go through all the rows:"
      ],
      "metadata": {
        "id": "kLIPJSrCUNog"
      }
    },
    {
      "cell_type": "code",
      "source": [
        "arr = np.array([[1, 2, 3], [4, 5, 6]])\n",
        "for x in arr: print(x) "
      ],
      "metadata": {
        "id": "D_PaRpbmUQYC",
        "outputId": "bdfd86f3-f271-4317-d1c9-fd4bcd4b8d0d",
        "colab": {
          "base_uri": "https://localhost:8080/"
        }
      },
      "execution_count": 68,
      "outputs": [
        {
          "output_type": "stream",
          "name": "stdout",
          "text": [
            "[1 2 3]\n",
            "[4 5 6]\n"
          ]
        }
      ]
    },
    {
      "cell_type": "markdown",
      "source": [
        "In a 3-D array it will go through all the 2-D arrays:"
      ],
      "metadata": {
        "id": "uXuqW86EUmAc"
      }
    },
    {
      "cell_type": "code",
      "source": [
        "arr = np.array([[[1, 2, 3], [4, 5, 6]], [[7, 8, 9], [10, 11, 12]]])\n",
        "for x in arr: print(x) "
      ],
      "metadata": {
        "id": "JRjlPPY0UnEF",
        "outputId": "42cc6c56-d8df-4e88-aa58-6ecd64996391",
        "colab": {
          "base_uri": "https://localhost:8080/"
        }
      },
      "execution_count": 69,
      "outputs": [
        {
          "output_type": "stream",
          "name": "stdout",
          "text": [
            "[[1 2 3]\n",
            " [4 5 6]]\n",
            "[[ 7  8  9]\n",
            " [10 11 12]]\n"
          ]
        }
      ]
    },
    {
      "cell_type": "markdown",
      "source": [
        "To return the actual elements, the scalars, we have to iterate the arrays in each dimension:"
      ],
      "metadata": {
        "id": "JiDW9c-mUT60"
      }
    },
    {
      "cell_type": "code",
      "source": [
        "arr = np.array([[[1, 2, 3], [4, 5, 6]], [[7, 8, 9], [10, 11, 12]]])\n",
        "for x in arr:\n",
        "  for y in x:\n",
        "    for z in y: print(z) "
      ],
      "metadata": {
        "id": "CA0ipCIpUfJI",
        "outputId": "9d4e6618-e389-4225-c9a3-fb5100266b00",
        "colab": {
          "base_uri": "https://localhost:8080/"
        }
      },
      "execution_count": 70,
      "outputs": [
        {
          "output_type": "stream",
          "name": "stdout",
          "text": [
            "1\n",
            "2\n",
            "3\n",
            "4\n",
            "5\n",
            "6\n",
            "7\n",
            "8\n",
            "9\n",
            "10\n",
            "11\n",
            "12\n"
          ]
        }
      ]
    },
    {
      "cell_type": "markdown",
      "source": [
        "In basic for loops, iterating through each scalar of an array we need to use n for loops which can be difficult to write for arrays with very high dimensionality. The function `nditer()` is a helping function that can be used from very basic to very advanced iterations. It solves some basic issues which we face in iteration, lets go through it with examples. "
      ],
      "metadata": {
        "id": "MbRvOws5UzsP"
      }
    },
    {
      "cell_type": "code",
      "source": [
        "arr = np.array([[[1, 2], [3, 4]], [[5, 6], [7, 8]]])\n",
        "for x in np.nditer(arr): print(x) "
      ],
      "metadata": {
        "id": "WI7D7GqMU8z0",
        "outputId": "1683485d-8e46-4d7a-eb25-30cb777cb9ad",
        "colab": {
          "base_uri": "https://localhost:8080/"
        }
      },
      "execution_count": 71,
      "outputs": [
        {
          "output_type": "stream",
          "name": "stdout",
          "text": [
            "1\n",
            "2\n",
            "3\n",
            "4\n",
            "5\n",
            "6\n",
            "7\n",
            "8\n"
          ]
        }
      ]
    },
    {
      "cell_type": "markdown",
      "source": [
        "We can also iterate using a fix step size:"
      ],
      "metadata": {
        "id": "X5l-ce6_VE7y"
      }
    },
    {
      "cell_type": "code",
      "source": [
        "#Iterate through every scalar element of the 2D array skipping 1 element:\n",
        "arr = np.array([[1, 2, 3, 4], [5, 6, 7, 8]])\n",
        "for x in np.nditer(arr[:, ::2]): print(x) "
      ],
      "metadata": {
        "id": "1MQslUdCVHQw",
        "outputId": "dfce199e-776c-4df5-e120-df4872be8d28",
        "colab": {
          "base_uri": "https://localhost:8080/"
        }
      },
      "execution_count": 72,
      "outputs": [
        {
          "output_type": "stream",
          "name": "stdout",
          "text": [
            "1\n",
            "3\n",
            "5\n",
            "7\n"
          ]
        }
      ]
    },
    {
      "cell_type": "markdown",
      "source": [
        "Sometimes we require corresponding index of the element while iterating, the `ndenumerate()` method can be used for those usecases:"
      ],
      "metadata": {
        "id": "cD6mLC6JVnzO"
      }
    },
    {
      "cell_type": "code",
      "source": [
        "#1D array\n",
        "arr = np.array([1, 2, 3])\n",
        "for idx, x in np.ndenumerate(arr): print(idx, x)"
      ],
      "metadata": {
        "id": "7qJhCFCjVqRA",
        "outputId": "ff4d00b7-6850-4bce-e5ef-f91276ba661a",
        "colab": {
          "base_uri": "https://localhost:8080/"
        }
      },
      "execution_count": 73,
      "outputs": [
        {
          "output_type": "stream",
          "name": "stdout",
          "text": [
            "(0,) 1\n",
            "(1,) 2\n",
            "(2,) 3\n"
          ]
        }
      ]
    },
    {
      "cell_type": "code",
      "source": [
        "#2D array\n",
        "arr = np.array([[1, 2, 3, 4], [5, 6, 7, 8]])\n",
        "for idx, x in np.ndenumerate(arr): print(idx, x)"
      ],
      "metadata": {
        "id": "b2UsIVygVweH",
        "outputId": "981a0ef2-0477-404f-cc56-dfb8d11667d2",
        "colab": {
          "base_uri": "https://localhost:8080/"
        }
      },
      "execution_count": 74,
      "outputs": [
        {
          "output_type": "stream",
          "name": "stdout",
          "text": [
            "(0, 0) 1\n",
            "(0, 1) 2\n",
            "(0, 2) 3\n",
            "(0, 3) 4\n",
            "(1, 0) 5\n",
            "(1, 1) 6\n",
            "(1, 2) 7\n",
            "(1, 3) 8\n"
          ]
        }
      ]
    },
    {
      "cell_type": "markdown",
      "source": [
        "### Joining Arrays\n",
        "\n",
        "Joining means putting contents of two or more arrays in a single array. In NumPy we join arrays by axes. We pass a sequence of arrays that we want to join to the `concatenate()` function, along with the axis. If axis is not explicitly passed, it is taken as `0`."
      ],
      "metadata": {
        "id": "DO4LiiYGV2lj"
      }
    },
    {
      "cell_type": "code",
      "source": [
        "#Example 1\n",
        "arr1 = np.array([1, 2, 3])\n",
        "print(\"arr1 shape:\",arr1.shape)\n",
        "arr2 = np.array([4, 5, 6])\n",
        "print(\"arr2 shape:\",arr2.shape)\n",
        "\n",
        "arr = np.concatenate((arr1, arr2))\n",
        "print(\"arr shape:\",arr.shape)\n",
        "print(arr) "
      ],
      "metadata": {
        "id": "SpWZLpqbWBXL",
        "outputId": "1f81b271-1723-46ef-c052-ba3085d35154",
        "colab": {
          "base_uri": "https://localhost:8080/"
        }
      },
      "execution_count": 75,
      "outputs": [
        {
          "output_type": "stream",
          "name": "stdout",
          "text": [
            "arr1 shape: (3,)\n",
            "arr2 shape: (3,)\n",
            "arr shape: (6,)\n",
            "[1 2 3 4 5 6]\n"
          ]
        }
      ]
    },
    {
      "cell_type": "code",
      "source": [
        "#Example 2\n",
        "arr1 = np.array([[1, 2], [3, 4]])\n",
        "print(\"arr1 shape:\",arr1.shape)\n",
        "print(arr1)\n",
        "arr2 = np.array([[5, 6], [7, 8]])\n",
        "print(\"arr2 shape:\",arr2.shape)\n",
        "print(arr2)\n",
        "\n",
        "arr = np.concatenate((arr1, arr2), axis=1)\n",
        "print(\"arr shape:\",arr.shape)\n",
        "print(arr)"
      ],
      "metadata": {
        "id": "a00U_X57WMp6",
        "outputId": "45aceafe-0e05-4b1c-cc3e-ca3425440a2f",
        "colab": {
          "base_uri": "https://localhost:8080/"
        }
      },
      "execution_count": 76,
      "outputs": [
        {
          "output_type": "stream",
          "name": "stdout",
          "text": [
            "arr1 shape: (2, 2)\n",
            "[[1 2]\n",
            " [3 4]]\n",
            "arr2 shape: (2, 2)\n",
            "[[5 6]\n",
            " [7 8]]\n",
            "arr shape: (2, 4)\n",
            "[[1 2 5 6]\n",
            " [3 4 7 8]]\n"
          ]
        }
      ]
    },
    {
      "cell_type": "code",
      "source": [
        "#Example 3\n",
        "arr1 = np.array([[1, 2], [3, 4]])\n",
        "print(\"arr1 shape:\",arr1.shape)\n",
        "print(arr1)\n",
        "arr2 = np.array([[5, 6], [7, 8]])\n",
        "print(\"arr2 shape:\",arr2.shape)\n",
        "print(arr2)\n",
        "\n",
        "arr = np.concatenate((arr1, arr2), axis=0)\n",
        "print(\"arr shape:\",arr.shape)\n",
        "print(arr)"
      ],
      "metadata": {
        "id": "GRd6jbg4WSzo",
        "outputId": "e6f48ca2-330d-4acb-864b-d4994d2ecc15",
        "colab": {
          "base_uri": "https://localhost:8080/"
        }
      },
      "execution_count": 77,
      "outputs": [
        {
          "output_type": "stream",
          "name": "stdout",
          "text": [
            "arr1 shape: (2, 2)\n",
            "[[1 2]\n",
            " [3 4]]\n",
            "arr2 shape: (2, 2)\n",
            "[[5 6]\n",
            " [7 8]]\n",
            "arr shape: (4, 2)\n",
            "[[1 2]\n",
            " [3 4]\n",
            " [5 6]\n",
            " [7 8]]\n"
          ]
        }
      ]
    },
    {
      "cell_type": "markdown",
      "source": [
        "*Exercise: concatenate two 3D arrays on the the third dimension and return the final shape.*"
      ],
      "metadata": {
        "id": "M-j3scJAXYYE"
      }
    },
    {
      "cell_type": "markdown",
      "source": [
        "Stacking is same as concatenation, the only difference is that stacking is done along a new axis. We can concatenate two 1-D arrays along the second axis which would result in putting them one over the other, ie. stacking. We pass a sequence of arrays that we want to join to the `stack()` method along with the axis. If axis is not explicitly passed it is taken as 0."
      ],
      "metadata": {
        "id": "cTN6LceoXLCe"
      }
    },
    {
      "cell_type": "code",
      "source": [
        "arr1 = np.array([1, 2, 3])\n",
        "print(\"arr1 shape:\",arr1.shape)\n",
        "arr2 = np.array([4, 5, 6])\n",
        "print(\"arr2 shape:\",arr2.shape)\n",
        "\n",
        "arr = np.stack((arr1, arr2), axis=1)\n",
        "print(\"arr shape:\",arr.shape)\n",
        "print(arr)"
      ],
      "metadata": {
        "id": "Hg9lq8h1UTT8",
        "outputId": "4274dbe1-25d5-4817-daca-f24cdf2854ee",
        "colab": {
          "base_uri": "https://localhost:8080/"
        }
      },
      "execution_count": 78,
      "outputs": [
        {
          "output_type": "stream",
          "name": "stdout",
          "text": [
            "arr1 shape: (3,)\n",
            "arr2 shape: (3,)\n",
            "arr shape: (3, 2)\n",
            "[[1 4]\n",
            " [2 5]\n",
            " [3 6]]\n"
          ]
        }
      ]
    },
    {
      "cell_type": "markdown",
      "source": [
        "NumPy provides the helper functions `hstack()`, `vstack()`, and `dstack()` to stack along rows, columns, and height (or depth), respectively:\n",
        "\n"
      ],
      "metadata": {
        "id": "hiKINLMtYLS3"
      }
    },
    {
      "cell_type": "code",
      "source": [
        "#Stack along rows\n",
        "arr1 = np.array([1, 2, 3])\n",
        "print(\"arr1 shape:\",arr1.shape)\n",
        "arr2 = np.array([4, 5, 6])\n",
        "print(\"arr2 shape:\",arr2.shape)\n",
        "\n",
        "arr = np.hstack((arr1, arr2))\n",
        "print(\"arr shape:\",arr.shape)\n",
        "print(arr)"
      ],
      "metadata": {
        "id": "7VMb7OXZO79h",
        "outputId": "57ab4ca9-bbb3-4fb0-94c6-0fe65e06d5ee",
        "colab": {
          "base_uri": "https://localhost:8080/"
        }
      },
      "execution_count": 79,
      "outputs": [
        {
          "output_type": "stream",
          "name": "stdout",
          "text": [
            "arr1 shape: (3,)\n",
            "arr2 shape: (3,)\n",
            "arr shape: (6,)\n",
            "[1 2 3 4 5 6]\n"
          ]
        }
      ]
    },
    {
      "cell_type": "code",
      "source": [
        "#Stack along columns\n",
        "arr1 = np.array([1, 2, 3])\n",
        "print(\"arr1 shape:\",arr1.shape)\n",
        "arr2 = np.array([4, 5, 6])\n",
        "print(\"arr2 shape:\",arr2.shape)\n",
        "\n",
        "arr = np.vstack((arr1, arr2))\n",
        "print(\"arr shape:\",arr.shape)\n",
        "print(arr) "
      ],
      "metadata": {
        "id": "gDLtqjEfYio1",
        "outputId": "426546fc-2184-429c-def6-3f04039f08f2",
        "colab": {
          "base_uri": "https://localhost:8080/"
        }
      },
      "execution_count": 80,
      "outputs": [
        {
          "output_type": "stream",
          "name": "stdout",
          "text": [
            "arr1 shape: (3,)\n",
            "arr2 shape: (3,)\n",
            "arr shape: (2, 3)\n",
            "[[1 2 3]\n",
            " [4 5 6]]\n"
          ]
        }
      ]
    },
    {
      "cell_type": "code",
      "source": [
        "#Stack along depth\n",
        "arr1 = np.array([1, 2, 3])\n",
        "print(\"arr1 shape:\",arr1.shape)\n",
        "arr2 = np.array([4, 5, 6])\n",
        "print(\"arr2 shape:\",arr2.shape)\n",
        "\n",
        "arr = np.dstack((arr1, arr2))\n",
        "print(\"arr shape:\",arr.shape)\n",
        "print(arr) "
      ],
      "metadata": {
        "id": "rQjavcH96nEZ",
        "outputId": "e7789460-6b01-4aae-d724-6d13142aac83",
        "colab": {
          "base_uri": "https://localhost:8080/"
        }
      },
      "execution_count": 81,
      "outputs": [
        {
          "output_type": "stream",
          "name": "stdout",
          "text": [
            "arr1 shape: (3,)\n",
            "arr2 shape: (3,)\n",
            "arr shape: (1, 3, 2)\n",
            "[[[1 4]\n",
            "  [2 5]\n",
            "  [3 6]]]\n"
          ]
        }
      ]
    },
    {
      "cell_type": "markdown",
      "source": [
        "With `newaxis`, we can insert new dimensions in an array, for example converting a vector to a column or row matrix:\n"
      ],
      "metadata": {
        "id": "c-wDNWoqz8Ip"
      }
    },
    {
      "cell_type": "code",
      "source": [
        "v = np.array([1,2,3])\n",
        "print(v)\n",
        "print(v.shape)"
      ],
      "metadata": {
        "id": "ZAoqhTXe0A9I",
        "outputId": "472f3f50-0c8e-4207-d5a5-14b258660c98",
        "colab": {
          "base_uri": "https://localhost:8080/"
        }
      },
      "execution_count": 82,
      "outputs": [
        {
          "output_type": "stream",
          "name": "stdout",
          "text": [
            "[1 2 3]\n",
            "(3,)\n"
          ]
        }
      ]
    },
    {
      "cell_type": "code",
      "source": [
        "# make a column matrix of the vector v\n",
        "a = v[:, np.newaxis]\n",
        "print(a)\n",
        "print(a.shape)"
      ],
      "metadata": {
        "id": "mm37Bxpy0GDC",
        "outputId": "bcf560e2-cc4a-42b1-9214-6b31d89eff2f",
        "colab": {
          "base_uri": "https://localhost:8080/"
        }
      },
      "execution_count": 83,
      "outputs": [
        {
          "output_type": "stream",
          "name": "stdout",
          "text": [
            "[[1]\n",
            " [2]\n",
            " [3]]\n",
            "(3, 1)\n"
          ]
        }
      ]
    },
    {
      "cell_type": "code",
      "source": [
        "# make a row matrix of the vector v\n",
        "a = v[np.newaxis,:]\n",
        "print(a)\n",
        "print(a.shape)"
      ],
      "metadata": {
        "id": "sw6s9WXt0s1o",
        "outputId": "91f49586-3235-4109-969c-9c93261588a8",
        "colab": {
          "base_uri": "https://localhost:8080/"
        }
      },
      "execution_count": 84,
      "outputs": [
        {
          "output_type": "stream",
          "name": "stdout",
          "text": [
            "[[1 2 3]]\n",
            "(1, 3)\n"
          ]
        }
      ]
    },
    {
      "cell_type": "markdown",
      "source": [
        "Other methods to join and reshape arrays are `repeat` and `tile`:"
      ],
      "metadata": {
        "id": "d-KG8WX51Vst"
      }
    },
    {
      "cell_type": "code",
      "source": [
        "# repeat each element 3 times\n",
        "np.repeat([1,2,5], 3)"
      ],
      "metadata": {
        "id": "HkKiR7Ar1ymN",
        "outputId": "6eab1ded-fcb2-4c44-8bb7-6d6e16a91e7c",
        "colab": {
          "base_uri": "https://localhost:8080/"
        }
      },
      "execution_count": 85,
      "outputs": [
        {
          "output_type": "execute_result",
          "data": {
            "text/plain": [
              "array([1, 1, 1, 2, 2, 2, 5, 5, 5])"
            ]
          },
          "metadata": {},
          "execution_count": 85
        }
      ]
    },
    {
      "cell_type": "code",
      "source": [
        "a = np.array([[1, 2], [3, 4]])"
      ],
      "metadata": {
        "id": "sLj5Qhdy13i-"
      },
      "execution_count": 86,
      "outputs": []
    },
    {
      "cell_type": "code",
      "source": [
        "# repeat each element from a 3 times\n",
        "np.repeat(a, 3)"
      ],
      "metadata": {
        "id": "RzIj48mM14Iv",
        "outputId": "421cff0b-de6b-4c6a-954e-2aa5eba5d2b8",
        "colab": {
          "base_uri": "https://localhost:8080/"
        }
      },
      "execution_count": 87,
      "outputs": [
        {
          "output_type": "execute_result",
          "data": {
            "text/plain": [
              "array([1, 1, 1, 2, 2, 2, 3, 3, 3, 4, 4, 4])"
            ]
          },
          "metadata": {},
          "execution_count": 87
        }
      ]
    },
    {
      "cell_type": "code",
      "source": [
        "# tile the matrix a 3 times \n",
        "np.tile(a, 3)"
      ],
      "metadata": {
        "id": "ksNaO3Oy2BG6",
        "outputId": "7f54b7e2-6208-4cf5-c96e-a4282370bfbf",
        "colab": {
          "base_uri": "https://localhost:8080/"
        }
      },
      "execution_count": 88,
      "outputs": [
        {
          "output_type": "execute_result",
          "data": {
            "text/plain": [
              "array([[1, 2, 1, 2, 1, 2],\n",
              "       [3, 4, 3, 4, 3, 4]])"
            ]
          },
          "metadata": {},
          "execution_count": 88
        }
      ]
    },
    {
      "cell_type": "markdown",
      "source": [
        "### Array Search\n",
        "\n",
        "You can search an array for a certain value, and return the indexes that get a match using the `where()` method:"
      ],
      "metadata": {
        "id": "BAbKbSHYasoW"
      }
    },
    {
      "cell_type": "code",
      "source": [
        "arr = np.array([1, 2, 3, 4, 5, 4, 4])\n",
        "x = np.where(arr == 4)\n",
        "print(x) "
      ],
      "metadata": {
        "id": "uUCDTzEua02d",
        "outputId": "e9cfd79f-9ff1-4fc6-afb1-ea9dde549ae0",
        "colab": {
          "base_uri": "https://localhost:8080/"
        }
      },
      "execution_count": 89,
      "outputs": [
        {
          "output_type": "stream",
          "name": "stdout",
          "text": [
            "(array([3, 5, 6]),)\n"
          ]
        }
      ]
    },
    {
      "cell_type": "markdown",
      "source": [
        "The example above will return a tuple: `(array([3, 5, 6],)`. This means that the value 4 is present at index `3`, `5`, and `6`.\n",
        "\n",
        "*Exercise 1: create a NumPy array of integers and find the indexes where the values are even.*\n",
        "\n",
        "*Exercise 2: create a NumPy array of integers and find the indexes where the values are odd.*"
      ],
      "metadata": {
        "id": "L5F6HcF-a69l"
      }
    },
    {
      "cell_type": "code",
      "source": [
        "cust_arr2 = np.random.randint(5, size=(10))\n",
        "y = np.where(cust_arr2%2 == 0)\n",
        "print(cust_arr2)\n",
        "print(y)"
      ],
      "metadata": {
        "id": "bnPsTogaagu4",
        "outputId": "c83b71a4-e99e-4c1a-d091-a288d6bb83f1",
        "colab": {
          "base_uri": "https://localhost:8080/"
        }
      },
      "execution_count": 101,
      "outputs": [
        {
          "output_type": "stream",
          "name": "stdout",
          "text": [
            "[0 4 0 3 3 0 2 0 3 0]\n",
            "(array([0, 1, 2, 5, 6, 7, 9]),)\n"
          ]
        }
      ]
    },
    {
      "cell_type": "markdown",
      "source": [
        "### Filtering Arrays\n",
        "\n",
        "Getting some elements out of an existing array and creating a new array out of them is called *filtering*. In NumPy, you filter an array using a boolean index list.\n",
        "\n",
        "If the value at an index is `True` that element is contained in the filtered array, if the value at that index is `False` that element is excluded from the filtered array."
      ],
      "metadata": {
        "id": "AdpshTOwbzOL"
      }
    },
    {
      "cell_type": "code",
      "source": [
        "arr = np.array([41, 42, 43, 44])\n",
        "print(\"Before filtering:\")\n",
        "print(arr)\n",
        "\n",
        "x = [True, False, True, False]\n",
        "\n",
        "arr = arr[x]\n",
        "print(\"After filtering:\")\n",
        "print(arr) "
      ],
      "metadata": {
        "id": "1hg01UEyb-_9",
        "outputId": "d5ca4ced-558f-42f3-c91c-e681c0a9edd7",
        "colab": {
          "base_uri": "https://localhost:8080/"
        }
      },
      "execution_count": 102,
      "outputs": [
        {
          "output_type": "stream",
          "name": "stdout",
          "text": [
            "Before filtering:\n",
            "[41 42 43 44]\n",
            "After filtering:\n",
            "[41 43]\n"
          ]
        }
      ]
    },
    {
      "cell_type": "markdown",
      "source": [
        "In the example above we hard-coded the `True` and `False` values, but the common use is to create a filter array based on conditions.\n",
        "\n",
        "For example, we can create a filter array that will return only values higher than `42`:"
      ],
      "metadata": {
        "id": "quwnVtBGc9MS"
      }
    },
    {
      "cell_type": "code",
      "source": [
        "arr = np.array([41, 42, 43, 44])\n",
        "print(\"Before filtering:\")\n",
        "print(arr)\n",
        "\n",
        "# Create an empty list\n",
        "filter_arr = []\n",
        "\n",
        "# go through each element in arr\n",
        "for element in arr:\n",
        "  # if the element is higher than 42, set the value to True, otherwise False:\n",
        "  if element > 42:\n",
        "    filter_arr.append(True)\n",
        "  else:\n",
        "    filter_arr.append(False)\n",
        "\n",
        "arr = arr[filter_arr]\n",
        "\n",
        "print(\"Filter:\")\n",
        "print(filter_arr)\n",
        "print(\"After filtering:\")\n",
        "print(arr) "
      ],
      "metadata": {
        "id": "P76Y9ozydDK3",
        "outputId": "8b10f212-dfc5-434d-ed5b-0e8e83e6c40f",
        "colab": {
          "base_uri": "https://localhost:8080/"
        }
      },
      "execution_count": 103,
      "outputs": [
        {
          "output_type": "stream",
          "name": "stdout",
          "text": [
            "Before filtering:\n",
            "[41 42 43 44]\n",
            "Filter:\n",
            "[False, False, True, True]\n",
            "After filtering:\n",
            "[43 44]\n"
          ]
        }
      ]
    },
    {
      "cell_type": "markdown",
      "source": [
        "The above examples are quite a common task in NumPy and NumPy provides a nice way to tackle it. We can directly substitute the array instead of the iterable variable in our condition and it will work just as we expect it to:"
      ],
      "metadata": {
        "id": "Z2Jlagy_dXnp"
      }
    },
    {
      "cell_type": "code",
      "source": [
        "arr = np.array([41, 42, 43, 44])\n",
        "print(\"Before filtering:\")\n",
        "print(arr)\n",
        "\n",
        "filter_arr = arr > 42\n",
        "print(\"Filter:\")\n",
        "print(filter_arr)\n",
        "\n",
        "arr = arr[filter_arr]\n",
        "print(\"After filtering:\")\n",
        "print(arr)"
      ],
      "metadata": {
        "id": "iDo5KrfDddk7",
        "outputId": "54cff667-9c70-4d27-fc0d-e0a3412ecdde",
        "colab": {
          "base_uri": "https://localhost:8080/"
        }
      },
      "execution_count": 104,
      "outputs": [
        {
          "output_type": "stream",
          "name": "stdout",
          "text": [
            "Before filtering:\n",
            "[41 42 43 44]\n",
            "Filter:\n",
            "[False False  True  True]\n",
            "After filtering:\n",
            "[43 44]\n"
          ]
        }
      ]
    },
    {
      "cell_type": "markdown",
      "source": [
        "*Exercise: create a filter array that will return only even elements from the original array.*"
      ],
      "metadata": {
        "id": "PH4Dj4ttdxYL"
      }
    },
    {
      "cell_type": "markdown",
      "source": [
        "### Linear Algebra\n",
        "\n",
        "Vectorizing code is the key to writing efficient numerical calculation with Python/Numpy. That means that as much as possible of a program should be formulated in terms of matrix and vector operations, like matrix-matrix multiplication.\n"
      ],
      "metadata": {
        "id": "G46Nv9WKmVsZ"
      }
    },
    {
      "cell_type": "markdown",
      "source": [
        "**Scalar-array operations**\n",
        "\n",
        "We can use the usual arithmetic operators to multiply, add, subtract, and divide arrays with scalar numbers.\n"
      ],
      "metadata": {
        "id": "Ztqo5FgeoUHQ"
      }
    },
    {
      "cell_type": "code",
      "source": [
        "v1 = np.arange(0, 5)\n",
        "print(v1)"
      ],
      "metadata": {
        "id": "NQwqYKuhoYmf",
        "outputId": "8a7709d0-6122-4de7-f6f3-7b655b6c5fcc",
        "colab": {
          "base_uri": "https://localhost:8080/"
        }
      },
      "execution_count": 105,
      "outputs": [
        {
          "output_type": "stream",
          "name": "stdout",
          "text": [
            "[0 1 2 3 4]\n"
          ]
        }
      ]
    },
    {
      "cell_type": "code",
      "source": [
        "arr = v1 * 2\n",
        "print(arr)"
      ],
      "metadata": {
        "id": "RedPDYuDoaYV",
        "outputId": "f91928de-13bb-492f-9b0b-2e964fd27d9b",
        "colab": {
          "base_uri": "https://localhost:8080/"
        }
      },
      "execution_count": 106,
      "outputs": [
        {
          "output_type": "stream",
          "name": "stdout",
          "text": [
            "[0 2 4 6 8]\n"
          ]
        }
      ]
    },
    {
      "cell_type": "code",
      "source": [
        "arr = v1 + 2\n",
        "print(arr)"
      ],
      "metadata": {
        "id": "qKkB-4UAomEL",
        "outputId": "ff274ab8-10f6-44fd-f183-13dc9a15074e",
        "colab": {
          "base_uri": "https://localhost:8080/"
        }
      },
      "execution_count": 107,
      "outputs": [
        {
          "output_type": "stream",
          "name": "stdout",
          "text": [
            "[2 3 4 5 6]\n"
          ]
        }
      ]
    },
    {
      "cell_type": "code",
      "source": [
        "A = np.array([[n+m*10 for n in range(5)] for m in range(5)])\n",
        "print(A)\n",
        "print(A*2)\n",
        "print(A+2)"
      ],
      "metadata": {
        "id": "OeYM77rpo2GW",
        "outputId": "fd39a87f-6f47-4d5c-ab5a-e4a814f79dc7",
        "colab": {
          "base_uri": "https://localhost:8080/"
        }
      },
      "execution_count": 108,
      "outputs": [
        {
          "output_type": "stream",
          "name": "stdout",
          "text": [
            "[[ 0  1  2  3  4]\n",
            " [10 11 12 13 14]\n",
            " [20 21 22 23 24]\n",
            " [30 31 32 33 34]\n",
            " [40 41 42 43 44]]\n",
            "[[ 0  2  4  6  8]\n",
            " [20 22 24 26 28]\n",
            " [40 42 44 46 48]\n",
            " [60 62 64 66 68]\n",
            " [80 82 84 86 88]]\n",
            "[[ 2  3  4  5  6]\n",
            " [12 13 14 15 16]\n",
            " [22 23 24 25 26]\n",
            " [32 33 34 35 36]\n",
            " [42 43 44 45 46]]\n"
          ]
        }
      ]
    },
    {
      "cell_type": "markdown",
      "source": [
        "**Element-wise array-array operations**\n",
        "\n",
        "When we add, subtract, multiply and divide arrays with each other, the default behaviour is element-wise operations:\n"
      ],
      "metadata": {
        "id": "cP9CtCGApL6j"
      }
    },
    {
      "cell_type": "code",
      "source": [
        "print(A * A) # element-wise multiplication"
      ],
      "metadata": {
        "id": "A5rrkvF-pUGA",
        "outputId": "48714aa1-e362-4907-f47f-d09dbcfbaebc",
        "colab": {
          "base_uri": "https://localhost:8080/"
        }
      },
      "execution_count": 109,
      "outputs": [
        {
          "output_type": "stream",
          "name": "stdout",
          "text": [
            "[[   0    1    4    9   16]\n",
            " [ 100  121  144  169  196]\n",
            " [ 400  441  484  529  576]\n",
            " [ 900  961 1024 1089 1156]\n",
            " [1600 1681 1764 1849 1936]]\n"
          ]
        }
      ]
    },
    {
      "cell_type": "markdown",
      "source": [
        "**Broadcasting**\n",
        "\n",
        "(see https://docs.scipy.org/doc/numpy/user/basics.broadcasting.html)\n",
        "\n",
        "If we multiply arrays with compatible shapes, we get an element-wise multiplication of each row:\n"
      ],
      "metadata": {
        "id": "qS4b6EJKphxv"
      }
    },
    {
      "cell_type": "code",
      "source": [
        "A.shape, v1.shape"
      ],
      "metadata": {
        "id": "WOm5vnbjpllm",
        "outputId": "507b9b25-9109-4ab7-ac3d-5d0a628e4b68",
        "colab": {
          "base_uri": "https://localhost:8080/"
        }
      },
      "execution_count": 110,
      "outputs": [
        {
          "output_type": "execute_result",
          "data": {
            "text/plain": [
              "((5, 5), (5,))"
            ]
          },
          "metadata": {},
          "execution_count": 110
        }
      ]
    },
    {
      "cell_type": "code",
      "source": [
        "A * v1"
      ],
      "metadata": {
        "id": "eyH4SGacpnMz",
        "outputId": "a81ea61a-bc7d-4bee-af6a-12b8e41f1eaa",
        "colab": {
          "base_uri": "https://localhost:8080/"
        }
      },
      "execution_count": 111,
      "outputs": [
        {
          "output_type": "execute_result",
          "data": {
            "text/plain": [
              "array([[  0,   1,   4,   9,  16],\n",
              "       [  0,  11,  24,  39,  56],\n",
              "       [  0,  21,  44,  69,  96],\n",
              "       [  0,  31,  64,  99, 136],\n",
              "       [  0,  41,  84, 129, 176]])"
            ]
          },
          "metadata": {},
          "execution_count": 111
        }
      ]
    },
    {
      "cell_type": "markdown",
      "source": [
        "**Matrix algebra**\n",
        "\n",
        "What about matrix mutiplication? There are two ways. We can either use the `dot` function, which applies a matrix-matrix, matrix-vector, or inner vector multiplication to its two arguments:"
      ],
      "metadata": {
        "id": "XiwWMfsDqCbc"
      }
    },
    {
      "cell_type": "code",
      "source": [
        "A = np.random.randint(5, size=(2,2))\n",
        "print(A)\n",
        "print(np.dot(A, A))"
      ],
      "metadata": {
        "id": "rNSN_vk3pN5Z",
        "outputId": "15a3b968-34f1-4a07-b809-864c84e3d428",
        "colab": {
          "base_uri": "https://localhost:8080/"
        }
      },
      "execution_count": 112,
      "outputs": [
        {
          "output_type": "stream",
          "name": "stdout",
          "text": [
            "[[4 1]\n",
            " [0 0]]\n",
            "[[16  4]\n",
            " [ 0  0]]\n"
          ]
        }
      ]
    },
    {
      "cell_type": "code",
      "source": [
        "v1 = np.random.randint(5, size=(2,))\n",
        "print(v1)\n",
        "print(np.dot(A, v1))"
      ],
      "metadata": {
        "id": "rP6OX4lMsLz8",
        "outputId": "9a8e84a3-1d5e-4f87-c3de-9af6c3daa308",
        "colab": {
          "base_uri": "https://localhost:8080/"
        }
      },
      "execution_count": 113,
      "outputs": [
        {
          "output_type": "stream",
          "name": "stdout",
          "text": [
            "[3 2]\n",
            "[14  0]\n"
          ]
        }
      ]
    },
    {
      "cell_type": "code",
      "source": [
        "np.dot(v1, v1)"
      ],
      "metadata": {
        "id": "4MKifqihpKvr",
        "outputId": "ac81c23f-85b7-4786-9b5c-279e4266524d",
        "colab": {
          "base_uri": "https://localhost:8080/"
        }
      },
      "execution_count": 114,
      "outputs": [
        {
          "output_type": "execute_result",
          "data": {
            "text/plain": [
              "13"
            ]
          },
          "metadata": {},
          "execution_count": 114
        }
      ]
    },
    {
      "cell_type": "markdown",
      "source": [
        "Alternatively, we can cast the array objects to the type matrix. This changes the behavior of the standard arithmetic operators `+`, `-`, `*` to use matrix algebra.\n"
      ],
      "metadata": {
        "id": "YpXmFKwmuSN2"
      }
    },
    {
      "cell_type": "code",
      "source": [
        "M = np.matrix(A)\n",
        "v = np.matrix(v1).T # make it a column vector\n",
        "M"
      ],
      "metadata": {
        "id": "ZzCh5n0EuVrF",
        "outputId": "15b7d347-921c-489a-84a3-7c69747919f7",
        "colab": {
          "base_uri": "https://localhost:8080/"
        }
      },
      "execution_count": 119,
      "outputs": [
        {
          "output_type": "execute_result",
          "data": {
            "text/plain": [
              "matrix([[4, 1],\n",
              "        [0, 0]])"
            ]
          },
          "metadata": {},
          "execution_count": 119
        }
      ]
    },
    {
      "cell_type": "code",
      "source": [
        "v"
      ],
      "metadata": {
        "id": "VsZsoRKxvIMi",
        "outputId": "4aee0521-03f0-44a0-c60a-ba72f64910e1",
        "colab": {
          "base_uri": "https://localhost:8080/"
        }
      },
      "execution_count": 120,
      "outputs": [
        {
          "output_type": "execute_result",
          "data": {
            "text/plain": [
              "matrix([[3],\n",
              "        [2]])"
            ]
          },
          "metadata": {},
          "execution_count": 120
        }
      ]
    },
    {
      "cell_type": "code",
      "source": [
        "M * M"
      ],
      "metadata": {
        "id": "Kw1xUVsGvLX8",
        "outputId": "1aedf395-ad0b-4363-88c5-dd6fd691613f",
        "colab": {
          "base_uri": "https://localhost:8080/"
        }
      },
      "execution_count": 121,
      "outputs": [
        {
          "output_type": "execute_result",
          "data": {
            "text/plain": [
              "matrix([[16,  4],\n",
              "        [ 0,  0]])"
            ]
          },
          "metadata": {},
          "execution_count": 121
        }
      ]
    },
    {
      "cell_type": "code",
      "source": [
        "M * v"
      ],
      "metadata": {
        "id": "NYd0Ow_zvLQw",
        "outputId": "219d6e6b-d61d-4948-b4e5-adc7a69ec008",
        "colab": {
          "base_uri": "https://localhost:8080/"
        }
      },
      "execution_count": 122,
      "outputs": [
        {
          "output_type": "execute_result",
          "data": {
            "text/plain": [
              "matrix([[14],\n",
              "        [ 0]])"
            ]
          },
          "metadata": {},
          "execution_count": 122
        }
      ]
    },
    {
      "cell_type": "code",
      "source": [
        "# inner product\n",
        "v.T * v"
      ],
      "metadata": {
        "id": "rOAijMuRvVLQ",
        "outputId": "fa120e03-bb2e-4796-b091-37852b48df1f",
        "colab": {
          "base_uri": "https://localhost:8080/"
        }
      },
      "execution_count": 123,
      "outputs": [
        {
          "output_type": "execute_result",
          "data": {
            "text/plain": [
              "matrix([[13]])"
            ]
          },
          "metadata": {},
          "execution_count": 123
        }
      ]
    },
    {
      "cell_type": "code",
      "source": [
        "# with matrix objects, standard matrix algebra applies\n",
        "v + M*v"
      ],
      "metadata": {
        "id": "mKe3ljA-vZNk",
        "outputId": "755d90b5-0651-42c5-f21a-bf30f12eba20",
        "colab": {
          "base_uri": "https://localhost:8080/"
        }
      },
      "execution_count": 124,
      "outputs": [
        {
          "output_type": "execute_result",
          "data": {
            "text/plain": [
              "matrix([[17],\n",
              "        [ 2]])"
            ]
          },
          "metadata": {},
          "execution_count": 124
        }
      ]
    },
    {
      "cell_type": "markdown",
      "source": [
        "If we try to add, subtract or multiply objects with incomplatible shapes we get an error:"
      ],
      "metadata": {
        "id": "CbQ8E_XmvVDP"
      }
    },
    {
      "cell_type": "code",
      "source": [
        "v = np.matrix([1,2,3,4,5,6]).T\n",
        "np.shape(M), np.shape(v)"
      ],
      "metadata": {
        "id": "AKQYlcEevhl4",
        "outputId": "d2c06b82-d817-4961-a910-2a6df84e74a7",
        "colab": {
          "base_uri": "https://localhost:8080/"
        }
      },
      "execution_count": 125,
      "outputs": [
        {
          "output_type": "execute_result",
          "data": {
            "text/plain": [
              "((2, 2), (6, 1))"
            ]
          },
          "metadata": {},
          "execution_count": 125
        }
      ]
    },
    {
      "cell_type": "code",
      "source": [
        "M * v #error on purpose"
      ],
      "metadata": {
        "id": "mTQiSYKrvnt6",
        "outputId": "80eb15f8-e99e-4ace-f88c-9e51c2812662",
        "colab": {
          "base_uri": "https://localhost:8080/",
          "height": 224
        }
      },
      "execution_count": 126,
      "outputs": [
        {
          "output_type": "error",
          "ename": "ValueError",
          "evalue": "ignored",
          "traceback": [
            "\u001b[0;31m---------------------------------------------------------------------------\u001b[0m",
            "\u001b[0;31mValueError\u001b[0m                                Traceback (most recent call last)",
            "\u001b[0;32m<ipython-input-126-43f14e15372d>\u001b[0m in \u001b[0;36m<cell line: 1>\u001b[0;34m()\u001b[0m\n\u001b[0;32m----> 1\u001b[0;31m \u001b[0mM\u001b[0m \u001b[0;34m*\u001b[0m \u001b[0mv\u001b[0m \u001b[0;31m#error on purpose\u001b[0m\u001b[0;34m\u001b[0m\u001b[0;34m\u001b[0m\u001b[0m\n\u001b[0m",
            "\u001b[0;32m/usr/local/lib/python3.10/dist-packages/numpy/matrixlib/defmatrix.py\u001b[0m in \u001b[0;36m__mul__\u001b[0;34m(self, other)\u001b[0m\n\u001b[1;32m    216\u001b[0m         \u001b[0;32mif\u001b[0m \u001b[0misinstance\u001b[0m\u001b[0;34m(\u001b[0m\u001b[0mother\u001b[0m\u001b[0;34m,\u001b[0m \u001b[0;34m(\u001b[0m\u001b[0mN\u001b[0m\u001b[0;34m.\u001b[0m\u001b[0mndarray\u001b[0m\u001b[0;34m,\u001b[0m \u001b[0mlist\u001b[0m\u001b[0;34m,\u001b[0m \u001b[0mtuple\u001b[0m\u001b[0;34m)\u001b[0m\u001b[0;34m)\u001b[0m \u001b[0;34m:\u001b[0m\u001b[0;34m\u001b[0m\u001b[0;34m\u001b[0m\u001b[0m\n\u001b[1;32m    217\u001b[0m             \u001b[0;31m# This promotes 1-D vectors to row vectors\u001b[0m\u001b[0;34m\u001b[0m\u001b[0;34m\u001b[0m\u001b[0m\n\u001b[0;32m--> 218\u001b[0;31m             \u001b[0;32mreturn\u001b[0m \u001b[0mN\u001b[0m\u001b[0;34m.\u001b[0m\u001b[0mdot\u001b[0m\u001b[0;34m(\u001b[0m\u001b[0mself\u001b[0m\u001b[0;34m,\u001b[0m \u001b[0masmatrix\u001b[0m\u001b[0;34m(\u001b[0m\u001b[0mother\u001b[0m\u001b[0;34m)\u001b[0m\u001b[0;34m)\u001b[0m\u001b[0;34m\u001b[0m\u001b[0;34m\u001b[0m\u001b[0m\n\u001b[0m\u001b[1;32m    219\u001b[0m         \u001b[0;32mif\u001b[0m \u001b[0misscalar\u001b[0m\u001b[0;34m(\u001b[0m\u001b[0mother\u001b[0m\u001b[0;34m)\u001b[0m \u001b[0;32mor\u001b[0m \u001b[0;32mnot\u001b[0m \u001b[0mhasattr\u001b[0m\u001b[0;34m(\u001b[0m\u001b[0mother\u001b[0m\u001b[0;34m,\u001b[0m \u001b[0;34m'__rmul__'\u001b[0m\u001b[0;34m)\u001b[0m \u001b[0;34m:\u001b[0m\u001b[0;34m\u001b[0m\u001b[0;34m\u001b[0m\u001b[0m\n\u001b[1;32m    220\u001b[0m             \u001b[0;32mreturn\u001b[0m \u001b[0mN\u001b[0m\u001b[0;34m.\u001b[0m\u001b[0mdot\u001b[0m\u001b[0;34m(\u001b[0m\u001b[0mself\u001b[0m\u001b[0;34m,\u001b[0m \u001b[0mother\u001b[0m\u001b[0;34m)\u001b[0m\u001b[0;34m\u001b[0m\u001b[0;34m\u001b[0m\u001b[0m\n",
            "\u001b[0;32m/usr/local/lib/python3.10/dist-packages/numpy/core/overrides.py\u001b[0m in \u001b[0;36mdot\u001b[0;34m(*args, **kwargs)\u001b[0m\n",
            "\u001b[0;31mValueError\u001b[0m: shapes (2,2) and (6,1) not aligned: 2 (dim 1) != 6 (dim 0)"
          ]
        }
      ]
    },
    {
      "cell_type": "markdown",
      "source": [
        "**Array/Matrix transformations**\n",
        "\n",
        "Above we have used the `.T` to transpose the matrix object `v`. We could also have used the transpose function to accomplish the same thing.\n",
        "\n",
        "Other mathematical functions that transforms matrix objects are:"
      ],
      "metadata": {
        "id": "ZmWXU845wBDp"
      }
    },
    {
      "cell_type": "code",
      "source": [
        "C = np.matrix([[1j, 2j], [3j, 4j]])\n",
        "C"
      ],
      "metadata": {
        "id": "iU-IfsEtwHT-",
        "outputId": "b084ccd3-9862-42df-c712-a99811dc6e05",
        "colab": {
          "base_uri": "https://localhost:8080/"
        }
      },
      "execution_count": 127,
      "outputs": [
        {
          "output_type": "execute_result",
          "data": {
            "text/plain": [
              "matrix([[0.+1.j, 0.+2.j],\n",
              "        [0.+3.j, 0.+4.j]])"
            ]
          },
          "metadata": {},
          "execution_count": 127
        }
      ]
    },
    {
      "cell_type": "code",
      "source": [
        "np.conjugate(C)"
      ],
      "metadata": {
        "id": "2tY-lTvnwLkP",
        "outputId": "f8b358b4-73e6-4d5c-b857-4490566c4c17",
        "colab": {
          "base_uri": "https://localhost:8080/"
        }
      },
      "execution_count": 128,
      "outputs": [
        {
          "output_type": "execute_result",
          "data": {
            "text/plain": [
              "matrix([[0.-1.j, 0.-2.j],\n",
              "        [0.-3.j, 0.-4.j]])"
            ]
          },
          "metadata": {},
          "execution_count": 128
        }
      ]
    },
    {
      "cell_type": "code",
      "source": [
        "#Hermitian conjugate: transpose + conjugate\n",
        "C.H"
      ],
      "metadata": {
        "id": "b-DbRNQFwRKU",
        "outputId": "4e3fd50c-0a88-4320-e727-cf48d00d2afb",
        "colab": {
          "base_uri": "https://localhost:8080/"
        }
      },
      "execution_count": 129,
      "outputs": [
        {
          "output_type": "execute_result",
          "data": {
            "text/plain": [
              "matrix([[0.-1.j, 0.-3.j],\n",
              "        [0.-2.j, 0.-4.j]])"
            ]
          },
          "metadata": {},
          "execution_count": 129
        }
      ]
    },
    {
      "cell_type": "markdown",
      "source": [
        "We can extract the real and imaginary parts of complex-valued arrays using `real` and `imag` methods:"
      ],
      "metadata": {
        "id": "-lVELkDVwZYB"
      }
    },
    {
      "cell_type": "code",
      "source": [
        "np.real(C) # same as: C.real"
      ],
      "metadata": {
        "id": "Pe05a1Euwcg0",
        "outputId": "c9c77099-48be-455f-a99a-e085859f8101",
        "colab": {
          "base_uri": "https://localhost:8080/"
        }
      },
      "execution_count": 130,
      "outputs": [
        {
          "output_type": "execute_result",
          "data": {
            "text/plain": [
              "matrix([[0., 0.],\n",
              "        [0., 0.]])"
            ]
          },
          "metadata": {},
          "execution_count": 130
        }
      ]
    },
    {
      "cell_type": "code",
      "source": [
        "np.imag(C) # same as: C.imag"
      ],
      "metadata": {
        "id": "zqMC1kUxwf0Y",
        "outputId": "430356ec-4704-4613-bee4-5d8d1da02b36",
        "colab": {
          "base_uri": "https://localhost:8080/"
        }
      },
      "execution_count": 131,
      "outputs": [
        {
          "output_type": "execute_result",
          "data": {
            "text/plain": [
              "matrix([[1., 2.],\n",
              "        [3., 4.]])"
            ]
          },
          "metadata": {},
          "execution_count": 131
        }
      ]
    },
    {
      "cell_type": "markdown",
      "source": [
        "Or we can extract the complex argument and absolute value:"
      ],
      "metadata": {
        "id": "rBs9dkU8wkqP"
      }
    },
    {
      "cell_type": "code",
      "source": [
        "np.angle(C+1)"
      ],
      "metadata": {
        "id": "dVq5Qq3dwnXh",
        "outputId": "27e11c58-b712-4493-b60c-73a98a50ae99",
        "colab": {
          "base_uri": "https://localhost:8080/"
        }
      },
      "execution_count": 132,
      "outputs": [
        {
          "output_type": "execute_result",
          "data": {
            "text/plain": [
              "matrix([[0.78539816, 1.10714872],\n",
              "        [1.24904577, 1.32581766]])"
            ]
          },
          "metadata": {},
          "execution_count": 132
        }
      ]
    },
    {
      "cell_type": "code",
      "source": [
        "np.abs(C)"
      ],
      "metadata": {
        "id": "OIPJ_dKMwj-r",
        "outputId": "419b18a2-e92b-4dc8-860d-3d6404247159",
        "colab": {
          "base_uri": "https://localhost:8080/"
        }
      },
      "execution_count": 133,
      "outputs": [
        {
          "output_type": "execute_result",
          "data": {
            "text/plain": [
              "matrix([[1., 2.],\n",
              "        [3., 4.]])"
            ]
          },
          "metadata": {},
          "execution_count": 133
        }
      ]
    },
    {
      "cell_type": "markdown",
      "source": [
        "**Matrix computations**"
      ],
      "metadata": {
        "id": "fvorqUnhwzMU"
      }
    },
    {
      "cell_type": "code",
      "source": [
        "#inverse\n",
        "np.linalg.inv(C) # equivalent to C.I "
      ],
      "metadata": {
        "id": "NeTuXB3uw1Tq",
        "outputId": "dd77e91c-535c-49d2-e41e-ec3d4d23e7f6",
        "colab": {
          "base_uri": "https://localhost:8080/"
        }
      },
      "execution_count": 134,
      "outputs": [
        {
          "output_type": "execute_result",
          "data": {
            "text/plain": [
              "matrix([[0.+2.j , 0.-1.j ],\n",
              "        [0.-1.5j, 0.+0.5j]])"
            ]
          },
          "metadata": {},
          "execution_count": 134
        }
      ]
    },
    {
      "cell_type": "code",
      "source": [
        "C.I * C"
      ],
      "metadata": {
        "id": "ppjzGOp5w7hw",
        "outputId": "805c5673-875a-42a3-87fb-21c68a711615",
        "colab": {
          "base_uri": "https://localhost:8080/"
        }
      },
      "execution_count": 135,
      "outputs": [
        {
          "output_type": "execute_result",
          "data": {
            "text/plain": [
              "matrix([[1.00000000e+00+0.j, 0.00000000e+00+0.j],\n",
              "        [1.11022302e-16+0.j, 1.00000000e+00+0.j]])"
            ]
          },
          "metadata": {},
          "execution_count": 135
        }
      ]
    },
    {
      "cell_type": "code",
      "source": [
        "#Determinant\n",
        "np.linalg.det(C)"
      ],
      "metadata": {
        "id": "YU87DYVrxF1O",
        "outputId": "db586361-ba81-4eb7-cb94-468b0d35ddc6",
        "colab": {
          "base_uri": "https://localhost:8080/"
        }
      },
      "execution_count": 136,
      "outputs": [
        {
          "output_type": "execute_result",
          "data": {
            "text/plain": [
              "(2.0000000000000004+0j)"
            ]
          },
          "metadata": {},
          "execution_count": 136
        }
      ]
    },
    {
      "cell_type": "code",
      "source": [
        "np.linalg.det(C.I)"
      ],
      "metadata": {
        "id": "cxotS2vYxLGz",
        "outputId": "9fa0a1ae-9755-4b13-d9fe-bb361d1b51d2",
        "colab": {
          "base_uri": "https://localhost:8080/"
        }
      },
      "execution_count": 137,
      "outputs": [
        {
          "output_type": "execute_result",
          "data": {
            "text/plain": [
              "(0.49999999999999967+0j)"
            ]
          },
          "metadata": {},
          "execution_count": 137
        }
      ]
    },
    {
      "cell_type": "markdown",
      "source": [
        "## Arrays I/O\n",
        "\n",
        "**Comma-separated values (CSV)**\n",
        "\n",
        "A very common file format for data files are the comma-separated values (CSV), or related format such as TSV (tab-separated values). To read data from such file into Numpy arrays we can use the `numpy.genfromtxt()` function. For example,\n"
      ],
      "metadata": {
        "id": "S_vdDKDrizL4"
      }
    },
    {
      "cell_type": "code",
      "source": [
        "#Fetch data file from githun\n",
        "!curl https://raw.githubusercontent.com/jngadiub/ML_course_Pavia_23/main/python_advance/stockholm_td_adj.dat -o stockholm_td_adj.dat\n",
        "\n",
        "#Look first 10 lines of file\n",
        "!head stockholm_td_adj.dat"
      ],
      "metadata": {
        "id": "H4y9RhgLi6Gr",
        "outputId": "815b9d65-b2c4-4ece-fb92-289cdee3e190",
        "colab": {
          "base_uri": "https://localhost:8080/"
        }
      },
      "execution_count": 138,
      "outputs": [
        {
          "output_type": "stream",
          "name": "stdout",
          "text": [
            "  % Total    % Received % Xferd  Average Speed   Time    Time     Time  Current\n",
            "                                 Dload  Upload   Total   Spent    Left  Speed\n",
            "100 2797k  100 2797k    0     0  5349k      0 --:--:-- --:--:-- --:--:-- 5349k\n",
            "1800  1  1    -6.1    -6.1    -6.1 1\n",
            "1800  1  2   -15.4   -15.4   -15.4 1\n",
            "1800  1  3   -15.0   -15.0   -15.0 1\n",
            "1800  1  4   -19.3   -19.3   -19.3 1\n",
            "1800  1  5   -16.8   -16.8   -16.8 1\n",
            "1800  1  6   -11.4   -11.4   -11.4 1\n",
            "1800  1  7    -7.6    -7.6    -7.6 1\n",
            "1800  1  8    -7.1    -7.1    -7.1 1\n",
            "1800  1  9   -10.1   -10.1   -10.1 1\n",
            "1800  1 10    -9.5    -9.5    -9.5 1\n"
          ]
        }
      ]
    },
    {
      "cell_type": "code",
      "source": [
        "data = np.genfromtxt('stockholm_td_adj.dat')\n",
        "data.shape"
      ],
      "metadata": {
        "id": "8aCRAaTcbtsq",
        "outputId": "5de8f30b-a244-403c-9592-349952b37078",
        "colab": {
          "base_uri": "https://localhost:8080/"
        }
      },
      "execution_count": 139,
      "outputs": [
        {
          "output_type": "execute_result",
          "data": {
            "text/plain": [
              "(77431, 7)"
            ]
          },
          "metadata": {},
          "execution_count": 139
        }
      ]
    },
    {
      "cell_type": "code",
      "source": [
        "# we need this for plotting -- more on matlplotlib in next tutorial\n",
        "import matplotlib.pyplot as plt\n",
        "%matplotlib inline"
      ],
      "metadata": {
        "id": "fWEkKt_vkDD4"
      },
      "execution_count": 140,
      "outputs": []
    },
    {
      "cell_type": "code",
      "source": [
        "#Now we plot the data\n",
        "fig, ax = plt.subplots(figsize=(14,4))\n",
        "ax.plot(data[:,0]+data[:,1]/12.0+data[:,2]/365, data[:,5])\n",
        "ax.axis('tight')\n",
        "ax.set_title('temperatures in Stockholm')\n",
        "ax.set_xlabel('year')\n",
        "ax.set_ylabel('temperature (C)');"
      ],
      "metadata": {
        "id": "IcLcy5kQkLSk",
        "outputId": "e732140c-7b71-4a3a-b4b6-c61cef6dae78",
        "colab": {
          "base_uri": "https://localhost:8080/",
          "height": 410
        }
      },
      "execution_count": 142,
      "outputs": [
        {
          "output_type": "display_data",
          "data": {
            "text/plain": [
              "<Figure size 1400x400 with 1 Axes>"
            ],
            "image/png": "[encoded data removed]"
          },
          "metadata": {}
        }
      ]
    },
    {
      "cell_type": "markdown",
      "source": [
        "Using `numpy.savetxt()` we can store a Numpy array to a file in CSV format:\n"
      ],
      "metadata": {
        "id": "nx8P4zqdkuKi"
      }
    },
    {
      "cell_type": "code",
      "source": [
        "arr = np.random.rand(3,3)\n",
        "print(arr)"
      ],
      "metadata": {
        "id": "v8vblAIvkjgy",
        "outputId": "018b95dc-fc7b-4f6e-d8ef-7cb5246dc0b3",
        "colab": {
          "base_uri": "https://localhost:8080/"
        }
      },
      "execution_count": 143,
      "outputs": [
        {
          "output_type": "stream",
          "name": "stdout",
          "text": [
            "[[0.27215709 0.78398809 0.04133533]\n",
            " [0.62990303 0.55281006 0.18205015]\n",
            " [0.26191516 0.79443955 0.57855225]]\n"
          ]
        }
      ]
    },
    {
      "cell_type": "code",
      "source": [
        "np.savetxt(\"random-matrix.csv\", arr)\n",
        "!ls ./"
      ],
      "metadata": {
        "id": "d9sB12d-k1fo",
        "outputId": "2bc06a9f-8e7e-4f07-dd3a-c127f26f77c1",
        "colab": {
          "base_uri": "https://localhost:8080/"
        }
      },
      "execution_count": 144,
      "outputs": [
        {
          "output_type": "stream",
          "name": "stdout",
          "text": [
            "random-matrix.csv  sample_data\tstockholm_td_adj.dat\n"
          ]
        }
      ]
    },
    {
      "cell_type": "code",
      "source": [
        "#Let's look at the file\n",
        "!cat random-matrix.csv"
      ],
      "metadata": {
        "id": "B-_u0KNPk6FH",
        "outputId": "18e3d512-35f4-4827-dabe-78c8507a6c03",
        "colab": {
          "base_uri": "https://localhost:8080/"
        }
      },
      "execution_count": 145,
      "outputs": [
        {
          "output_type": "stream",
          "name": "stdout",
          "text": [
            "2.721570924658271995e-01 7.839880858522770835e-01 4.133533226734842358e-02\n",
            "6.299030275855918015e-01 5.528100606142828388e-01 1.820501516306896050e-01\n",
            "2.619151610058687574e-01 7.944395455524559946e-01 5.785522489803049950e-01\n"
          ]
        }
      ]
    },
    {
      "cell_type": "code",
      "source": [
        "np.savetxt(\"random-matrix.csv\", arr, fmt='%.5f') # fmt specifies the format\n",
        "!cat random-matrix.csv"
      ],
      "metadata": {
        "id": "gh4zUGuclAJJ",
        "outputId": "ba356ba8-3bb3-4a17-f811-eacfdd465b22",
        "colab": {
          "base_uri": "https://localhost:8080/"
        }
      },
      "execution_count": 146,
      "outputs": [
        {
          "output_type": "stream",
          "name": "stdout",
          "text": [
            "0.27216 0.78399 0.04134\n",
            "0.62990 0.55281 0.18205\n",
            "0.26192 0.79444 0.57855\n"
          ]
        }
      ]
    },
    {
      "cell_type": "markdown",
      "source": [
        "**Numpy's native file format**\n",
        "\n",
        "Useful when storing and reading back NumPy array data. Use the functions `numpy.save()` and `numpy.load()`:\n"
      ],
      "metadata": {
        "id": "CaGgUwK-lY8F"
      }
    },
    {
      "cell_type": "code",
      "source": [
        "arr = np.random.rand(3,3)\n",
        "print(arr)\n",
        "\n",
        "np.save(\"random-matrix.npy\", arr)\n",
        "!ls ./"
      ],
      "metadata": {
        "id": "JKsst7wQli5t",
        "outputId": "8a64dd6d-9066-4db1-c0f3-0d4728ffa67a",
        "colab": {
          "base_uri": "https://localhost:8080/"
        }
      },
      "execution_count": 147,
      "outputs": [
        {
          "output_type": "stream",
          "name": "stdout",
          "text": [
            "[[0.89223374 0.75037607 0.39829275]\n",
            " [0.5696422  0.12450945 0.39840344]\n",
            " [0.04172208 0.9344214  0.33231386]]\n",
            "random-matrix.csv  random-matrix.npy  sample_data  stockholm_td_adj.dat\n"
          ]
        }
      ]
    },
    {
      "cell_type": "code",
      "source": [
        "arr = np.load(\"random-matrix.npy\")\n",
        "print(arr)"
      ],
      "metadata": {
        "id": "aPSaWeOnlN4m",
        "outputId": "347a07dc-4822-4684-94da-9f542d906089",
        "colab": {
          "base_uri": "https://localhost:8080/"
        }
      },
      "execution_count": 148,
      "outputs": [
        {
          "output_type": "stream",
          "name": "stdout",
          "text": [
            "[[0.89223374 0.75037607 0.39829275]\n",
            " [0.5696422  0.12450945 0.39840344]\n",
            " [0.04172208 0.9344214  0.33231386]]\n"
          ]
        }
      ]
    },
    {
      "cell_type": "markdown",
      "source": [
        "### Data processing\n",
        "\n",
        "Often it is useful to store datasets in Numpy arrays. Numpy provides a number of functions to calculate statistics of datasets in arrays.\n",
        "\n",
        "For example, let's calculate some properties data from the Stockholm temperature dataset used above.\n"
      ],
      "metadata": {
        "id": "r9fIMmqFxfn1"
      }
    },
    {
      "cell_type": "code",
      "source": [
        "# reminder, the tempeature dataset is stored in the data variable:\n",
        "np.shape(data)"
      ],
      "metadata": {
        "id": "jfwpB97dl0mQ",
        "outputId": "c5f7bc01-b2db-43eb-c1b1-7744fd2c3809",
        "colab": {
          "base_uri": "https://localhost:8080/"
        }
      },
      "execution_count": 149,
      "outputs": [
        {
          "output_type": "execute_result",
          "data": {
            "text/plain": [
              "(77431, 7)"
            ]
          },
          "metadata": {},
          "execution_count": 149
        }
      ]
    },
    {
      "cell_type": "markdown",
      "source": [
        "**mean**"
      ],
      "metadata": {
        "id": "1JtcX9cMxs7c"
      }
    },
    {
      "cell_type": "code",
      "source": [
        "# the temperature data is in column 3\n",
        "np.mean(data[:,3])"
      ],
      "metadata": {
        "id": "OuQakvJDxqHu",
        "outputId": "b34f23c3-af02-4321-8833-0d73ce5e0b4f",
        "colab": {
          "base_uri": "https://localhost:8080/"
        }
      },
      "execution_count": 150,
      "outputs": [
        {
          "output_type": "execute_result",
          "data": {
            "text/plain": [
              "6.197109684751585"
            ]
          },
          "metadata": {},
          "execution_count": 150
        }
      ]
    },
    {
      "cell_type": "markdown",
      "source": [
        "The daily mean temperature in Stockholm over the last 200 year so has been about 6.2 C."
      ],
      "metadata": {
        "id": "CRyst33FxyZy"
      }
    },
    {
      "cell_type": "markdown",
      "source": [
        "**standard deviations and variance**"
      ],
      "metadata": {
        "id": "X0pdBFlmx2yU"
      }
    },
    {
      "cell_type": "code",
      "source": [
        "np.std(data[:,3]), np.var(data[:,3])"
      ],
      "metadata": {
        "id": "hrTmzDsxxvnT",
        "outputId": "0d9daf71-b482-45c9-d64e-e8bf501be439",
        "colab": {
          "base_uri": "https://localhost:8080/"
        }
      },
      "execution_count": 151,
      "outputs": [
        {
          "output_type": "execute_result",
          "data": {
            "text/plain": [
              "(8.282271621340573, 68.59602320966341)"
            ]
          },
          "metadata": {},
          "execution_count": 151
        }
      ]
    },
    {
      "cell_type": "markdown",
      "source": [
        "**min and max**"
      ],
      "metadata": {
        "id": "WaXzSUAIx6-t"
      }
    },
    {
      "cell_type": "code",
      "source": [
        "# lowest daily average temperature\n",
        "data[:,3].min()"
      ],
      "metadata": {
        "id": "9In49l4cx9vk",
        "outputId": "16e746a0-685b-4a79-ed72-3ba230dce87f",
        "colab": {
          "base_uri": "https://localhost:8080/"
        }
      },
      "execution_count": 152,
      "outputs": [
        {
          "output_type": "execute_result",
          "data": {
            "text/plain": [
              "-25.8"
            ]
          },
          "metadata": {},
          "execution_count": 152
        }
      ]
    },
    {
      "cell_type": "code",
      "source": [
        "# highest daily average temperature\n",
        "data[:,3].max()"
      ],
      "metadata": {
        "id": "fTZ5sCevyBmQ",
        "outputId": "b1c3b8a3-cf07-4824-c441-fce3cc5ef30d",
        "colab": {
          "base_uri": "https://localhost:8080/"
        }
      },
      "execution_count": 153,
      "outputs": [
        {
          "output_type": "execute_result",
          "data": {
            "text/plain": [
              "28.3"
            ]
          },
          "metadata": {},
          "execution_count": 153
        }
      ]
    },
    {
      "cell_type": "markdown",
      "source": [
        "**sum, prod, and trace**"
      ],
      "metadata": {
        "id": "PQDZLeD7yHqB"
      }
    },
    {
      "cell_type": "code",
      "source": [
        "d = np.arange(0, 10)\n",
        "d"
      ],
      "metadata": {
        "id": "Dj71beDcyEnJ",
        "outputId": "e47046c0-3dff-41a0-f098-5baa0dca2c8f",
        "colab": {
          "base_uri": "https://localhost:8080/"
        }
      },
      "execution_count": 154,
      "outputs": [
        {
          "output_type": "execute_result",
          "data": {
            "text/plain": [
              "array([0, 1, 2, 3, 4, 5, 6, 7, 8, 9])"
            ]
          },
          "metadata": {},
          "execution_count": 154
        }
      ]
    },
    {
      "cell_type": "code",
      "source": [
        "# sum up all elements\n",
        "np.sum(d)"
      ],
      "metadata": {
        "id": "V8_eS_lnyMzQ",
        "outputId": "611b494f-9315-43e5-e55d-12a705270303",
        "colab": {
          "base_uri": "https://localhost:8080/"
        }
      },
      "execution_count": 155,
      "outputs": [
        {
          "output_type": "execute_result",
          "data": {
            "text/plain": [
              "45"
            ]
          },
          "metadata": {},
          "execution_count": 155
        }
      ]
    },
    {
      "cell_type": "code",
      "source": [
        "# product of all elements\n",
        "np.prod(d+1)"
      ],
      "metadata": {
        "id": "TndGIrRgyPYy",
        "outputId": "4906eaf1-5db2-4604-e54b-20cacd170c8e",
        "colab": {
          "base_uri": "https://localhost:8080/"
        }
      },
      "execution_count": 156,
      "outputs": [
        {
          "output_type": "execute_result",
          "data": {
            "text/plain": [
              "3628800"
            ]
          },
          "metadata": {},
          "execution_count": 156
        }
      ]
    },
    {
      "cell_type": "code",
      "source": [
        "# cummulative sum\n",
        "np.cumsum(d)"
      ],
      "metadata": {
        "id": "zfDLw-aKySaD",
        "outputId": "a053faa5-b9cf-495b-f38a-dfdc35c0d821",
        "colab": {
          "base_uri": "https://localhost:8080/"
        }
      },
      "execution_count": 157,
      "outputs": [
        {
          "output_type": "execute_result",
          "data": {
            "text/plain": [
              "array([ 0,  1,  3,  6, 10, 15, 21, 28, 36, 45])"
            ]
          },
          "metadata": {},
          "execution_count": 157
        }
      ]
    },
    {
      "cell_type": "code",
      "source": [
        "# cummulative product\n",
        "np.cumprod(d+1)"
      ],
      "metadata": {
        "id": "4M8WWKBlyU_V",
        "outputId": "edfe7038-0441-4ab7-f989-06259b859908",
        "colab": {
          "base_uri": "https://localhost:8080/"
        }
      },
      "execution_count": 158,
      "outputs": [
        {
          "output_type": "execute_result",
          "data": {
            "text/plain": [
              "array([      1,       2,       6,      24,     120,     720,    5040,\n",
              "         40320,  362880, 3628800])"
            ]
          },
          "metadata": {},
          "execution_count": 158
        }
      ]
    },
    {
      "cell_type": "code",
      "source": [
        "# same as: diag(A).sum()\n",
        "np.trace(A)"
      ],
      "metadata": {
        "id": "55_2-MS3yj7G",
        "outputId": "601914cd-8432-4520-930d-1e5d909c5530",
        "colab": {
          "base_uri": "https://localhost:8080/"
        }
      },
      "execution_count": 159,
      "outputs": [
        {
          "output_type": "execute_result",
          "data": {
            "text/plain": [
              "4"
            ]
          },
          "metadata": {},
          "execution_count": 159
        }
      ]
    },
    {
      "cell_type": "markdown",
      "source": [
        "**Calculations with higher-dimensional data**\n",
        "\n",
        "When functions such as `min`, `max`, etc., is applied to multidimensional arrays, it is sometimes useful to apply the calculation to the entire array, and sometimes only on a row or column basis. Using the `axis` argument we can specify how these functions should behave:\n"
      ],
      "metadata": {
        "id": "_25lEXO-zHaj"
      }
    },
    {
      "cell_type": "code",
      "source": [
        "m = np.random.rand(3,3)\n",
        "m"
      ],
      "metadata": {
        "id": "6_ccRgFVymm3",
        "outputId": "d8a2e30f-1f51-481f-e186-4596562b3195",
        "colab": {
          "base_uri": "https://localhost:8080/"
        }
      },
      "execution_count": 160,
      "outputs": [
        {
          "output_type": "execute_result",
          "data": {
            "text/plain": [
              "array([[0.10092908, 0.72351581, 0.49093499],\n",
              "       [0.71390671, 0.65370397, 0.1838038 ],\n",
              "       [0.17182053, 0.06871257, 0.7365854 ]])"
            ]
          },
          "metadata": {},
          "execution_count": 160
        }
      ]
    },
    {
      "cell_type": "code",
      "source": [
        "# global max\n",
        "m.max()"
      ],
      "metadata": {
        "id": "Qys3LK0lzT3m",
        "outputId": "4fc88599-041d-41f4-c435-25edb497f61b",
        "colab": {
          "base_uri": "https://localhost:8080/"
        }
      },
      "execution_count": 161,
      "outputs": [
        {
          "output_type": "execute_result",
          "data": {
            "text/plain": [
              "0.7365854007858681"
            ]
          },
          "metadata": {},
          "execution_count": 161
        }
      ]
    },
    {
      "cell_type": "code",
      "source": [
        "# max in each column\n",
        "m.max(axis=0)"
      ],
      "metadata": {
        "id": "jk2oa7ZQzW5I",
        "outputId": "2d1a099c-dcd3-4fd8-c644-b4e979df1183",
        "colab": {
          "base_uri": "https://localhost:8080/"
        }
      },
      "execution_count": 162,
      "outputs": [
        {
          "output_type": "execute_result",
          "data": {
            "text/plain": [
              "array([0.71390671, 0.72351581, 0.7365854 ])"
            ]
          },
          "metadata": {},
          "execution_count": 162
        }
      ]
    },
    {
      "cell_type": "code",
      "source": [
        "# max in each row\n",
        "m.max(axis=1)"
      ],
      "metadata": {
        "id": "q3nK8FJizaP6",
        "outputId": "931c1ed7-689f-4852-f15d-59837edc43cf",
        "colab": {
          "base_uri": "https://localhost:8080/"
        }
      },
      "execution_count": 163,
      "outputs": [
        {
          "output_type": "execute_result",
          "data": {
            "text/plain": [
              "array([0.72351581, 0.71390671, 0.7365854 ])"
            ]
          },
          "metadata": {},
          "execution_count": 163
        }
      ]
    },
    {
      "cell_type": "markdown",
      "source": [
        "**Note:** Many other functions and methods in the array and matrix classes accept the same (optional) `axis` keyword argument.\n"
      ],
      "metadata": {
        "id": "VLr1JcBCzmOf"
      }
    },
    {
      "cell_type": "code",
      "source": [],
      "metadata": {
        "id": "pfwk9c58fgIz"
      },
      "execution_count": null,
      "outputs": []
    }
  ]
}