{
  "cells": [
    {
      "cell_type": "markdown",
      "metadata": {
        "id": "k9i6IKsjQWij"
      },
      "source": [
        "# Training an Anomalous Jet Detector with **AE** \n",
        "\n",
        "---\n",
        "In this notebook, we train an unsupervised algorithm capable of compressing a jet features into a low-dimension laten space and, from there, reconstruct the input data. This type of architecture is **autoencoder**:\n",
        "\n",
        "<img src=\"https://github.com/Melo95/ML_course_Pavia_23/blob/v2/neural-networks/figures/ae.png?raw=1\" alt=\"Drawing\" style=\"width: 600px;\"/>\n",
        "\n",
        "The distance between the input and the output is used to identify rare jets. When trained on background QCD jets (quarks and gluons) it will learn to well reconstruct them yeilding a small reconstruction loss (mean squared error distance) whenever the trained model is evaluated on those. When the trained model sees a different \"anomalous\" jet it will yield a large loss. Applying a lower treshold on the loss, one can veto standard QCD jets and select a sample enriched in anomalous jets (W, Z, top, etc). \n",
        "\n",
        "---"
      ]
    },
    {
      "cell_type": "code",
      "execution_count": 1,
      "metadata": {
        "id": "TqMdz4EoQWio"
      },
      "outputs": [],
      "source": [
        "import os\n",
        "import h5py\n",
        "import glob\n",
        "import numpy as np\n",
        "import matplotlib.pyplot as plt\n",
        "%matplotlib inline"
      ]
    },
    {
      "cell_type": "markdown",
      "metadata": {
        "id": "TSvjZ1uaQWiq"
      },
      "source": [
        "# Preparation of the training and validation samples\n",
        "\n",
        "---\n",
        "In order to import the dataset, we now\n",
        "- clone the dataset repository (to import the data in Colab)\n",
        "- load the h5 files in the data/ repository\n",
        "- extract the data we need: a target and jetImage \n",
        "\n",
        "To type shell commands, we start the command line with !\n",
        "\n",
        "**nb, if you are running locally and you have already downloaded the datasets you can skip the cell below and, if needed, change the paths later to point to the folder with your previous download of the datasets.**"
      ]
    },
    {
      "cell_type": "code",
      "execution_count": 2,
      "metadata": {
        "id": "zroOCqMCQWiq",
        "outputId": "c796a965-3354-4b24-8ff8-1691a45c5484",
        "colab": {
          "base_uri": "https://localhost:8080/"
        }
      },
      "outputs": [
        {
          "output_type": "stream",
          "name": "stdout",
          "text": [
            "  % Total    % Received % Xferd  Average Speed   Time    Time     Time  Current\n",
            "                                 Dload  Upload   Total   Spent    Left  Speed\n",
            "100  333M    0  333M    0     0  11.7M      0 --:--:--  0:00:28 --:--:-- 14.0M\n",
            "Data-MLtutorial/\n",
            "Data-MLtutorial/JetDataset/\n",
            "Data-MLtutorial/JetDataset/jetImage_7_100p_0_10000.h5\n",
            "Data-MLtutorial/JetDataset/jetImage_7_100p_10000_20000.h5\n",
            "Data-MLtutorial/JetDataset/jetImage_7_100p_30000_40000.h5\n",
            "Data-MLtutorial/JetDataset/jetImage_7_100p_40000_50000.h5\n",
            "Data-MLtutorial/JetDataset/jetImage_7_100p_50000_60000.h5\n",
            "Data-MLtutorial/JetDataset/jetImage_7_100p_60000_70000.h5\n",
            "Data-MLtutorial/JetDataset/jetImage_7_100p_70000_80000.h5\n",
            "Data-MLtutorial/JetDataset/jetImage_7_100p_80000_90000.h5\n",
            "jetImage_7_100p_0_10000.h5\tjetImage_7_100p_50000_60000.h5\n",
            "jetImage_7_100p_10000_20000.h5\tjetImage_7_100p_60000_70000.h5\n",
            "jetImage_7_100p_30000_40000.h5\tjetImage_7_100p_70000_80000.h5\n",
            "jetImage_7_100p_40000_50000.h5\tjetImage_7_100p_80000_90000.h5\n"
          ]
        }
      ],
      "source": [
        "! curl https://cernbox.cern.ch/s/6Ec5pGFEpFWeH6S/download -o Data-MLtutorial.tar.gz\n",
        "! tar -xvzf Data-MLtutorial.tar.gz \n",
        "! ls Data-MLtutorial/JetDataset/\n",
        "! rm Data-MLtutorial.tar.gz "
      ]
    },
    {
      "cell_type": "code",
      "execution_count": 3,
      "metadata": {
        "id": "ADyc7TDqQWir",
        "outputId": "17859417-1e60-4bd4-a69f-e9c3c14c4088",
        "colab": {
          "base_uri": "https://localhost:8080/"
        }
      },
      "outputs": [
        {
          "output_type": "stream",
          "name": "stdout",
          "text": [
            "Appending Data-MLtutorial/JetDataset/jetImage_7_100p_30000_40000.h5\n",
            "Appending Data-MLtutorial/JetDataset/jetImage_7_100p_60000_70000.h5\n",
            "Appending Data-MLtutorial/JetDataset/jetImage_7_100p_50000_60000.h5\n",
            "Appending Data-MLtutorial/JetDataset/jetImage_7_100p_10000_20000.h5\n",
            "Appending Data-MLtutorial/JetDataset/jetImage_7_100p_0_10000.h5\n",
            "(50000, 5) (50000, 16)\n"
          ]
        }
      ],
      "source": [
        "target = np.array([])\n",
        "features = np.array([])\n",
        "# we cannot load all data on Colab. So we just take a few files\n",
        "datafiles = ['Data-MLtutorial/JetDataset/jetImage_7_100p_30000_40000.h5',\n",
        "             'Data-MLtutorial/JetDataset/jetImage_7_100p_60000_70000.h5',\n",
        "             'Data-MLtutorial/JetDataset/jetImage_7_100p_50000_60000.h5',\n",
        "             'Data-MLtutorial/JetDataset/jetImage_7_100p_10000_20000.h5',\n",
        "             'Data-MLtutorial/JetDataset/jetImage_7_100p_0_10000.h5']\n",
        "# if you are running locallt, you can use the full dataset doing\n",
        "# for fileIN in glob.glob(\"tutorials/HiggsSchool/data/*h5\"):\n",
        "for fileIN in datafiles:\n",
        "    print(\"Appending %s\" %fileIN)\n",
        "    f = h5py.File(fileIN)\n",
        "    myFeatures = np.array(f.get(\"jets\")[:,[12, 34, 35, 36, 37, 38, 39, 40, 41, 42, 43, 44, 45, 46, 48, 52]])\n",
        "    mytarget = np.array(f.get('jets')[0:,-6:-1])\n",
        "    features = np.concatenate([features, myFeatures], axis=0) if features.size else myFeatures\n",
        "    target = np.concatenate([target, mytarget], axis=0) if target.size else mytarget\n",
        "    f.close()\n",
        "print(target.shape, features.shape)"
      ]
    },
    {
      "cell_type": "code",
      "execution_count": 4,
      "metadata": {
        "id": "ij5C4io-QWis",
        "outputId": "a6b795e4-f451-4c81-a4c2-0d81f35be075",
        "colab": {
          "base_uri": "https://localhost:8080/"
        }
      },
      "outputs": [
        {
          "output_type": "stream",
          "name": "stdout",
          "text": [
            "0.08990890900131082 0.0013334328255667934\n",
            "6.394884621840902e-19 1.0000000000000036\n"
          ]
        }
      ],
      "source": [
        "# we standardize the data, so that the mean is = 0 and rms = 1 \n",
        "from sklearn.preprocessing import StandardScaler\n",
        "print(np.mean(features[:,10]), np.var(features[:,10]))\n",
        "scaler = StandardScaler()\n",
        "scaler.fit(features)\n",
        "features = scaler.transform(features)\n",
        "print(np.mean(features[:,10]), np.var(features[:,10]))"
      ]
    },
    {
      "cell_type": "markdown",
      "metadata": {
        "id": "4ANPD41JQWis"
      },
      "source": [
        "We now separate the dataset in 4:\n",
        "- a training dataset, consisting of quarks and gluons\n",
        "- three 'anomalous jets' samples: W, Z, and top"
      ]
    },
    {
      "cell_type": "code",
      "execution_count": 5,
      "metadata": {
        "id": "T9rPkTtIQWit",
        "outputId": "3d982b80-373a-4cd4-bb71-1dedf4a9c4d2",
        "colab": {
          "base_uri": "https://localhost:8080/"
        }
      },
      "outputs": [
        {
          "output_type": "stream",
          "name": "stdout",
          "text": [
            "(19908, 16) (10015, 16) (10037, 16) (10040, 16)\n"
          ]
        }
      ],
      "source": [
        "features_standard = features[np.argmax(target,axis=1)<2]\n",
        "features_W = features[np.argmax(target,axis=1)==2]\n",
        "features_Z = features[np.argmax(target,axis=1)==3]\n",
        "features_t = features[np.argmax(target,axis=1)==4]\n",
        "print(features_standard.shape, features_W.shape, features_Z.shape, features_t.shape)"
      ]
    },
    {
      "cell_type": "markdown",
      "metadata": {
        "id": "DXHkpJIgQWit"
      },
      "source": [
        "Notice that this is an unsupervised algorithm, so we don't need the target array anymore.\n",
        "Nevertheless, we keep a part of it around, since it might be useful to test the response \n",
        "of the algorithm to quarks and gluons separetly"
      ]
    },
    {
      "cell_type": "code",
      "execution_count": 6,
      "metadata": {
        "id": "gZr08KfvQWiu",
        "outputId": "01950cff-8df4-4c52-f7e3-f5f32c051846",
        "colab": {
          "base_uri": "https://localhost:8080/"
        }
      },
      "outputs": [
        {
          "output_type": "stream",
          "name": "stdout",
          "text": [
            "[[1. 0. 0. 0. 0.]\n",
            " [1. 0. 0. 0. 0.]\n",
            " [1. 0. 0. 0. 0.]\n",
            " ...\n",
            " [1. 0. 0. 0. 0.]\n",
            " [1. 0. 0. 0. 0.]\n",
            " [0. 1. 0. 0. 0.]]\n"
          ]
        }
      ],
      "source": [
        "label_standard = target[np.argmax(target,axis=1)<2]\n",
        "print(label_standard)"
      ]
    },
    {
      "cell_type": "markdown",
      "metadata": {
        "id": "Yge8L3iLQWiu"
      },
      "source": [
        "We now shuffle the standard-jet data and its labels, splitting them into a training, a validation+test dataset with 2:1:1 ratio. \n",
        "\n",
        "Then we separate the validation+test in two halves (training and validation)"
      ]
    },
    {
      "cell_type": "code",
      "execution_count": 7,
      "metadata": {
        "id": "9bhK2K0JQWiu",
        "outputId": "413900ed-f0e5-40c6-cdb6-9b8b5435b144",
        "colab": {
          "base_uri": "https://localhost:8080/"
        }
      },
      "outputs": [
        {
          "output_type": "stream",
          "name": "stdout",
          "text": [
            "(15926, 16) (15926, 5) (3982, 16) (3982, 5)\n",
            "(12740, 16) (12740, 5) (3186, 16) (3186, 5) (3982, 16) (3982, 5)\n"
          ]
        }
      ],
      "source": [
        "from sklearn.model_selection import train_test_split\n",
        "\n",
        "#split into training and test\n",
        "X_learn, X_test, label_learn, label_test = train_test_split(features_standard, label_standard, test_size=0.2)\n",
        "print(X_learn.shape, label_learn.shape, X_test.shape, label_test.shape)\n",
        "\n",
        "#split the training dataset into training and validation\n",
        "X_train, X_val, label_train, label_val = train_test_split(X_learn, label_learn, test_size=0.2)\n",
        "print(X_train.shape, label_train.shape, X_val.shape,  label_val.shape, X_test.shape, label_test.shape)\n",
        "\n",
        "del features_standard, label_standard, features, target, X_learn, label_learn"
      ]
    },
    {
      "cell_type": "markdown",
      "metadata": {
        "id": "MNocgWARQWiu"
      },
      "source": [
        "# Building the AE model"
      ]
    },
    {
      "cell_type": "code",
      "execution_count": 8,
      "metadata": {
        "id": "9VF3PWdbQWiv"
      },
      "outputs": [],
      "source": [
        "# keras imports\n",
        "from tensorflow.keras.models import Model\n",
        "from tensorflow.keras.layers import Dense, Input, Flatten\n",
        "from tensorflow.keras.layers import BatchNormalization, Activation\n",
        "from tensorflow.keras.utils import plot_model\n",
        "from tensorflow.keras import backend as K\n",
        "from tensorflow.keras import metrics\n",
        "from tensorflow.keras.callbacks import EarlyStopping, ReduceLROnPlateau, TerminateOnNaN"
      ]
    },
    {
      "cell_type": "code",
      "execution_count": 9,
      "metadata": {
        "id": "Py9h_7vAQWiv"
      },
      "outputs": [],
      "source": [
        "#---------\n",
        "# Enncoder\n",
        "#---------\n",
        "inputLayer = Input(shape=(16))\n",
        "#\n",
        "enc = Dense(10)(inputLayer)\n",
        "enc = Activation('elu')(enc)\n",
        "#\n",
        "enc = Dense(5)(enc)\n",
        "enc = Activation('elu')(enc)\n",
        "\n",
        "#---------\n",
        "# Decoder\n",
        "#---------\n",
        "dec = Dense(10)(enc)\n",
        "dec = Activation('elu')(dec)\n",
        "#\n",
        "dec = Dense(16)(dec)\n",
        "autoencoder = Model(inputs=inputLayer, outputs=dec)"
      ]
    },
    {
      "cell_type": "code",
      "execution_count": 10,
      "metadata": {
        "id": "vJHmOi3SQWiv",
        "outputId": "78d60bf3-98e4-4bbe-d283-9f707191ce4d",
        "colab": {
          "base_uri": "https://localhost:8080/"
        }
      },
      "outputs": [
        {
          "output_type": "stream",
          "name": "stdout",
          "text": [
            "Model: \"model\"\n",
            "_________________________________________________________________\n",
            " Layer (type)                Output Shape              Param #   \n",
            "=================================================================\n",
            " input_1 (InputLayer)        [(None, 16)]              0         \n",
            "                                                                 \n",
            " dense (Dense)               (None, 10)                170       \n",
            "                                                                 \n",
            " activation (Activation)     (None, 10)                0         \n",
            "                                                                 \n",
            " dense_1 (Dense)             (None, 5)                 55        \n",
            "                                                                 \n",
            " activation_1 (Activation)   (None, 5)                 0         \n",
            "                                                                 \n",
            " dense_2 (Dense)             (None, 10)                60        \n",
            "                                                                 \n",
            " activation_2 (Activation)   (None, 10)                0         \n",
            "                                                                 \n",
            " dense_3 (Dense)             (None, 16)                176       \n",
            "                                                                 \n",
            "=================================================================\n",
            "Total params: 461\n",
            "Trainable params: 461\n",
            "Non-trainable params: 0\n",
            "_________________________________________________________________\n"
          ]
        }
      ],
      "source": [
        "autoencoder.compile(loss='mse', optimizer='adam')\n",
        "autoencoder.summary()"
      ]
    },
    {
      "cell_type": "markdown",
      "metadata": {
        "id": "E8R3c83QQWiv"
      },
      "source": [
        "We now train the model. Notice the difference with respect to the supervised case\n",
        "- the input to the training is (X,X) and nor (X, y). Similarly for the validation dataset\n",
        "- the model has no dropout. It is difficult for an unsupervised model to overtran, so there is not really a need"
      ]
    },
    {
      "cell_type": "code",
      "execution_count": 11,
      "metadata": {
        "id": "y1F9OQCRQWiw"
      },
      "outputs": [],
      "source": [
        "batch_size = 128\n",
        "n_epochs = 200"
      ]
    },
    {
      "cell_type": "code",
      "execution_count": 12,
      "metadata": {
        "id": "mvslEyOsQWiw",
        "outputId": "212abe17-da97-47a6-f02e-3506bdd5b660",
        "colab": {
          "base_uri": "https://localhost:8080/"
        }
      },
      "outputs": [
        {
          "output_type": "stream",
          "name": "stdout",
          "text": [
            "Epoch 1/200\n",
            "100/100 - 6s - loss: 0.8340 - val_loss: 0.5742 - lr: 0.0010 - 6s/epoch - 60ms/step\n",
            "Epoch 2/200\n",
            "100/100 - 0s - loss: 0.4187 - val_loss: 0.3038 - lr: 0.0010 - 377ms/epoch - 4ms/step\n",
            "Epoch 3/200\n",
            "100/100 - 0s - loss: 0.2585 - val_loss: 0.2134 - lr: 0.0010 - 359ms/epoch - 4ms/step\n",
            "Epoch 4/200\n",
            "100/100 - 0s - loss: 0.1920 - val_loss: 0.1670 - lr: 0.0010 - 350ms/epoch - 3ms/step\n",
            "Epoch 5/200\n",
            "100/100 - 0s - loss: 0.1539 - val_loss: 0.1359 - lr: 0.0010 - 359ms/epoch - 4ms/step\n",
            "Epoch 6/200\n",
            "100/100 - 0s - loss: 0.1250 - val_loss: 0.1101 - lr: 0.0010 - 349ms/epoch - 3ms/step\n",
            "Epoch 7/200\n",
            "100/100 - 0s - loss: 0.1026 - val_loss: 0.0920 - lr: 0.0010 - 351ms/epoch - 4ms/step\n",
            "Epoch 8/200\n",
            "100/100 - 0s - loss: 0.0877 - val_loss: 0.0804 - lr: 0.0010 - 370ms/epoch - 4ms/step\n",
            "Epoch 9/200\n",
            "100/100 - 0s - loss: 0.0782 - val_loss: 0.0729 - lr: 0.0010 - 385ms/epoch - 4ms/step\n",
            "Epoch 10/200\n",
            "100/100 - 1s - loss: 0.0718 - val_loss: 0.0675 - lr: 0.0010 - 546ms/epoch - 5ms/step\n",
            "Epoch 11/200\n",
            "100/100 - 1s - loss: 0.0669 - val_loss: 0.0630 - lr: 0.0010 - 505ms/epoch - 5ms/step\n",
            "Epoch 12/200\n",
            "100/100 - 1s - loss: 0.0625 - val_loss: 0.0588 - lr: 0.0010 - 604ms/epoch - 6ms/step\n",
            "Epoch 13/200\n",
            "100/100 - 1s - loss: 0.0580 - val_loss: 0.0542 - lr: 0.0010 - 552ms/epoch - 6ms/step\n",
            "Epoch 14/200\n",
            "100/100 - 0s - loss: 0.0534 - val_loss: 0.0493 - lr: 0.0010 - 406ms/epoch - 4ms/step\n",
            "Epoch 15/200\n",
            "100/100 - 0s - loss: 0.0488 - val_loss: 0.0450 - lr: 0.0010 - 352ms/epoch - 4ms/step\n",
            "Epoch 16/200\n",
            "100/100 - 0s - loss: 0.0446 - val_loss: 0.0412 - lr: 0.0010 - 368ms/epoch - 4ms/step\n",
            "Epoch 17/200\n",
            "100/100 - 0s - loss: 0.0411 - val_loss: 0.0384 - lr: 0.0010 - 383ms/epoch - 4ms/step\n",
            "Epoch 18/200\n",
            "100/100 - 0s - loss: 0.0381 - val_loss: 0.0353 - lr: 0.0010 - 393ms/epoch - 4ms/step\n",
            "Epoch 19/200\n",
            "100/100 - 0s - loss: 0.0356 - val_loss: 0.0332 - lr: 0.0010 - 376ms/epoch - 4ms/step\n",
            "Epoch 20/200\n",
            "100/100 - 0s - loss: 0.0334 - val_loss: 0.0313 - lr: 0.0010 - 361ms/epoch - 4ms/step\n",
            "Epoch 21/200\n",
            "100/100 - 0s - loss: 0.0316 - val_loss: 0.0297 - lr: 0.0010 - 363ms/epoch - 4ms/step\n",
            "Epoch 22/200\n",
            "100/100 - 0s - loss: 0.0300 - val_loss: 0.0282 - lr: 0.0010 - 394ms/epoch - 4ms/step\n",
            "Epoch 23/200\n",
            "100/100 - 0s - loss: 0.0286 - val_loss: 0.0270 - lr: 0.0010 - 365ms/epoch - 4ms/step\n",
            "Epoch 24/200\n",
            "100/100 - 0s - loss: 0.0275 - val_loss: 0.0259 - lr: 0.0010 - 355ms/epoch - 4ms/step\n",
            "Epoch 25/200\n",
            "100/100 - 0s - loss: 0.0264 - val_loss: 0.0250 - lr: 0.0010 - 388ms/epoch - 4ms/step\n",
            "Epoch 26/200\n",
            "100/100 - 0s - loss: 0.0255 - val_loss: 0.0242 - lr: 0.0010 - 380ms/epoch - 4ms/step\n",
            "Epoch 27/200\n",
            "100/100 - 0s - loss: 0.0247 - val_loss: 0.0235 - lr: 0.0010 - 350ms/epoch - 4ms/step\n",
            "Epoch 28/200\n",
            "100/100 - 0s - loss: 0.0240 - val_loss: 0.0229 - lr: 0.0010 - 345ms/epoch - 3ms/step\n",
            "Epoch 29/200\n",
            "100/100 - 0s - loss: 0.0234 - val_loss: 0.0223 - lr: 0.0010 - 368ms/epoch - 4ms/step\n",
            "Epoch 30/200\n",
            "100/100 - 0s - loss: 0.0229 - val_loss: 0.0220 - lr: 0.0010 - 389ms/epoch - 4ms/step\n",
            "Epoch 31/200\n",
            "100/100 - 0s - loss: 0.0224 - val_loss: 0.0215 - lr: 0.0010 - 341ms/epoch - 3ms/step\n",
            "Epoch 32/200\n",
            "100/100 - 0s - loss: 0.0220 - val_loss: 0.0211 - lr: 0.0010 - 346ms/epoch - 3ms/step\n",
            "Epoch 33/200\n",
            "100/100 - 0s - loss: 0.0216 - val_loss: 0.0208 - lr: 0.0010 - 359ms/epoch - 4ms/step\n",
            "Epoch 34/200\n",
            "100/100 - 0s - loss: 0.0212 - val_loss: 0.0204 - lr: 0.0010 - 351ms/epoch - 4ms/step\n",
            "Epoch 35/200\n",
            "100/100 - 0s - loss: 0.0209 - val_loss: 0.0201 - lr: 0.0010 - 355ms/epoch - 4ms/step\n",
            "Epoch 36/200\n",
            "100/100 - 0s - loss: 0.0206 - val_loss: 0.0199 - lr: 0.0010 - 372ms/epoch - 4ms/step\n",
            "Epoch 37/200\n",
            "100/100 - 0s - loss: 0.0204 - val_loss: 0.0196 - lr: 0.0010 - 348ms/epoch - 3ms/step\n",
            "Epoch 38/200\n",
            "100/100 - 0s - loss: 0.0201 - val_loss: 0.0194 - lr: 0.0010 - 369ms/epoch - 4ms/step\n",
            "Epoch 39/200\n",
            "100/100 - 0s - loss: 0.0198 - val_loss: 0.0192 - lr: 0.0010 - 393ms/epoch - 4ms/step\n",
            "Epoch 40/200\n",
            "100/100 - 0s - loss: 0.0196 - val_loss: 0.0189 - lr: 0.0010 - 371ms/epoch - 4ms/step\n",
            "Epoch 41/200\n",
            "100/100 - 1s - loss: 0.0194 - val_loss: 0.0187 - lr: 0.0010 - 663ms/epoch - 7ms/step\n",
            "Epoch 42/200\n",
            "100/100 - 1s - loss: 0.0192 - val_loss: 0.0185 - lr: 0.0010 - 565ms/epoch - 6ms/step\n",
            "Epoch 43/200\n",
            "100/100 - 1s - loss: 0.0190 - val_loss: 0.0183 - lr: 0.0010 - 722ms/epoch - 7ms/step\n",
            "Epoch 44/200\n",
            "100/100 - 1s - loss: 0.0188 - val_loss: 0.0181 - lr: 0.0010 - 552ms/epoch - 6ms/step\n",
            "Epoch 45/200\n",
            "100/100 - 0s - loss: 0.0186 - val_loss: 0.0180 - lr: 0.0010 - 343ms/epoch - 3ms/step\n",
            "Epoch 46/200\n",
            "100/100 - 0s - loss: 0.0184 - val_loss: 0.0178 - lr: 0.0010 - 368ms/epoch - 4ms/step\n",
            "Epoch 47/200\n",
            "100/100 - 0s - loss: 0.0182 - val_loss: 0.0176 - lr: 0.0010 - 388ms/epoch - 4ms/step\n",
            "Epoch 48/200\n",
            "100/100 - 0s - loss: 0.0181 - val_loss: 0.0175 - lr: 0.0010 - 352ms/epoch - 4ms/step\n",
            "Epoch 49/200\n",
            "100/100 - 0s - loss: 0.0179 - val_loss: 0.0173 - lr: 0.0010 - 370ms/epoch - 4ms/step\n",
            "Epoch 50/200\n",
            "100/100 - 0s - loss: 0.0178 - val_loss: 0.0171 - lr: 0.0010 - 362ms/epoch - 4ms/step\n",
            "Epoch 51/200\n",
            "100/100 - 0s - loss: 0.0176 - val_loss: 0.0170 - lr: 0.0010 - 365ms/epoch - 4ms/step\n",
            "Epoch 52/200\n",
            "100/100 - 0s - loss: 0.0174 - val_loss: 0.0168 - lr: 0.0010 - 348ms/epoch - 3ms/step\n",
            "Epoch 53/200\n",
            "100/100 - 0s - loss: 0.0173 - val_loss: 0.0167 - lr: 0.0010 - 385ms/epoch - 4ms/step\n",
            "Epoch 54/200\n",
            "100/100 - 0s - loss: 0.0171 - val_loss: 0.0165 - lr: 0.0010 - 350ms/epoch - 3ms/step\n",
            "Epoch 55/200\n",
            "100/100 - 0s - loss: 0.0169 - val_loss: 0.0163 - lr: 0.0010 - 356ms/epoch - 4ms/step\n",
            "Epoch 56/200\n",
            "100/100 - 0s - loss: 0.0168 - val_loss: 0.0161 - lr: 0.0010 - 353ms/epoch - 4ms/step\n",
            "Epoch 57/200\n",
            "100/100 - 0s - loss: 0.0167 - val_loss: 0.0161 - lr: 0.0010 - 346ms/epoch - 3ms/step\n",
            "Epoch 58/200\n",
            "100/100 - 0s - loss: 0.0165 - val_loss: 0.0159 - lr: 0.0010 - 383ms/epoch - 4ms/step\n",
            "Epoch 59/200\n",
            "100/100 - 0s - loss: 0.0164 - val_loss: 0.0157 - lr: 0.0010 - 353ms/epoch - 4ms/step\n",
            "Epoch 60/200\n",
            "100/100 - 0s - loss: 0.0162 - val_loss: 0.0157 - lr: 0.0010 - 363ms/epoch - 4ms/step\n",
            "Epoch 61/200\n",
            "100/100 - 0s - loss: 0.0161 - val_loss: 0.0155 - lr: 0.0010 - 359ms/epoch - 4ms/step\n",
            "Epoch 62/200\n",
            "100/100 - 0s - loss: 0.0159 - val_loss: 0.0153 - lr: 0.0010 - 366ms/epoch - 4ms/step\n",
            "Epoch 63/200\n",
            "100/100 - 0s - loss: 0.0158 - val_loss: 0.0153 - lr: 0.0010 - 343ms/epoch - 3ms/step\n",
            "Epoch 64/200\n",
            "100/100 - 0s - loss: 0.0157 - val_loss: 0.0151 - lr: 0.0010 - 377ms/epoch - 4ms/step\n",
            "Epoch 65/200\n",
            "100/100 - 0s - loss: 0.0155 - val_loss: 0.0150 - lr: 0.0010 - 370ms/epoch - 4ms/step\n",
            "Epoch 66/200\n",
            "100/100 - 0s - loss: 0.0154 - val_loss: 0.0149 - lr: 0.0010 - 398ms/epoch - 4ms/step\n",
            "Epoch 67/200\n",
            "100/100 - 0s - loss: 0.0153 - val_loss: 0.0147 - lr: 0.0010 - 393ms/epoch - 4ms/step\n",
            "Epoch 68/200\n",
            "100/100 - 0s - loss: 0.0152 - val_loss: 0.0146 - lr: 0.0010 - 355ms/epoch - 4ms/step\n",
            "Epoch 69/200\n",
            "100/100 - 0s - loss: 0.0151 - val_loss: 0.0145 - lr: 0.0010 - 376ms/epoch - 4ms/step\n",
            "Epoch 70/200\n",
            "100/100 - 0s - loss: 0.0150 - val_loss: 0.0144 - lr: 0.0010 - 349ms/epoch - 3ms/step\n",
            "Epoch 71/200\n",
            "100/100 - 0s - loss: 0.0149 - val_loss: 0.0144 - lr: 0.0010 - 376ms/epoch - 4ms/step\n",
            "Epoch 72/200\n",
            "100/100 - 1s - loss: 0.0148 - val_loss: 0.0142 - lr: 0.0010 - 559ms/epoch - 6ms/step\n",
            "Epoch 73/200\n",
            "100/100 - 1s - loss: 0.0148 - val_loss: 0.0143 - lr: 0.0010 - 538ms/epoch - 5ms/step\n",
            "Epoch 74/200\n",
            "\n",
            "Epoch 74: ReduceLROnPlateau reducing learning rate to 0.00010000000474974513.\n",
            "100/100 - 1s - loss: 0.0147 - val_loss: 0.0143 - lr: 0.0010 - 618ms/epoch - 6ms/step\n",
            "Epoch 75/200\n",
            "100/100 - 1s - loss: 0.0146 - val_loss: 0.0140 - lr: 1.0000e-04 - 648ms/epoch - 6ms/step\n",
            "Epoch 76/200\n",
            "100/100 - 0s - loss: 0.0145 - val_loss: 0.0140 - lr: 1.0000e-04 - 350ms/epoch - 4ms/step\n",
            "Epoch 77/200\n",
            "\n",
            "Epoch 77: ReduceLROnPlateau reducing learning rate to 1.0000000474974514e-05.\n",
            "100/100 - 0s - loss: 0.0145 - val_loss: 0.0140 - lr: 1.0000e-04 - 385ms/epoch - 4ms/step\n",
            "Epoch 78/200\n",
            "100/100 - 0s - loss: 0.0145 - val_loss: 0.0140 - lr: 1.0000e-05 - 360ms/epoch - 4ms/step\n",
            "Epoch 79/200\n",
            "\n",
            "Epoch 79: ReduceLROnPlateau reducing learning rate to 1.0000000656873453e-06.\n",
            "100/100 - 0s - loss: 0.0145 - val_loss: 0.0140 - lr: 1.0000e-05 - 375ms/epoch - 4ms/step\n",
            "Epoch 80/200\n",
            "100/100 - 0s - loss: 0.0145 - val_loss: 0.0140 - lr: 1.0000e-06 - 369ms/epoch - 4ms/step\n",
            "Epoch 81/200\n",
            "\n",
            "Epoch 81: ReduceLROnPlateau reducing learning rate to 1.0000001111620805e-07.\n",
            "100/100 - 0s - loss: 0.0145 - val_loss: 0.0140 - lr: 1.0000e-06 - 385ms/epoch - 4ms/step\n",
            "Epoch 82/200\n",
            "100/100 - 0s - loss: 0.0145 - val_loss: 0.0140 - lr: 1.0000e-07 - 366ms/epoch - 4ms/step\n",
            "Epoch 83/200\n",
            "\n",
            "Epoch 83: ReduceLROnPlateau reducing learning rate to 1.000000082740371e-08.\n",
            "100/100 - 0s - loss: 0.0145 - val_loss: 0.0140 - lr: 1.0000e-07 - 369ms/epoch - 4ms/step\n",
            "Epoch 84/200\n",
            "100/100 - 0s - loss: 0.0145 - val_loss: 0.0140 - lr: 1.0000e-08 - 373ms/epoch - 4ms/step\n",
            "Epoch 85/200\n",
            "\n",
            "Epoch 85: ReduceLROnPlateau reducing learning rate to 1.000000082740371e-09.\n",
            "100/100 - 0s - loss: 0.0145 - val_loss: 0.0140 - lr: 1.0000e-08 - 350ms/epoch - 4ms/step\n",
            "Epoch 86/200\n",
            "100/100 - 0s - loss: 0.0145 - val_loss: 0.0140 - lr: 1.0000e-09 - 381ms/epoch - 4ms/step\n",
            "Epoch 87/200\n",
            "\n",
            "Epoch 87: ReduceLROnPlateau reducing learning rate to 1.000000082740371e-10.\n",
            "100/100 - 0s - loss: 0.0145 - val_loss: 0.0140 - lr: 1.0000e-09 - 376ms/epoch - 4ms/step\n",
            "Epoch 88/200\n",
            "100/100 - 0s - loss: 0.0145 - val_loss: 0.0140 - lr: 1.0000e-10 - 357ms/epoch - 4ms/step\n",
            "Epoch 89/200\n",
            "\n",
            "Epoch 89: ReduceLROnPlateau reducing learning rate to 1.000000082740371e-11.\n",
            "100/100 - 0s - loss: 0.0145 - val_loss: 0.0140 - lr: 1.0000e-10 - 360ms/epoch - 4ms/step\n",
            "Epoch 90/200\n",
            "100/100 - 0s - loss: 0.0145 - val_loss: 0.0140 - lr: 1.0000e-11 - 383ms/epoch - 4ms/step\n",
            "Epoch 91/200\n",
            "\n",
            "Epoch 91: ReduceLROnPlateau reducing learning rate to 1.000000082740371e-12.\n",
            "100/100 - 0s - loss: 0.0145 - val_loss: 0.0140 - lr: 1.0000e-11 - 391ms/epoch - 4ms/step\n",
            "Epoch 92/200\n",
            "100/100 - 0s - loss: 0.0145 - val_loss: 0.0140 - lr: 1.0000e-12 - 375ms/epoch - 4ms/step\n",
            "Epoch 93/200\n",
            "\n",
            "Epoch 93: ReduceLROnPlateau reducing learning rate to 1.0000001044244145e-13.\n",
            "100/100 - 0s - loss: 0.0145 - val_loss: 0.0140 - lr: 1.0000e-12 - 351ms/epoch - 4ms/step\n",
            "Epoch 94/200\n",
            "100/100 - 0s - loss: 0.0145 - val_loss: 0.0140 - lr: 1.0000e-13 - 360ms/epoch - 4ms/step\n",
            "Epoch 94: early stopping\n"
          ]
        }
      ],
      "source": [
        "# train \n",
        "history = autoencoder.fit(X_train, X_train, epochs=n_epochs, batch_size=batch_size, verbose = 2,\n",
        "                validation_data=(X_val, X_val),\n",
        "                callbacks = [\n",
        "                EarlyStopping(monitor='val_loss', patience=10, verbose=1),\n",
        "                ReduceLROnPlateau(monitor='val_loss', factor=0.1, patience=2, verbose=1),\n",
        "                TerminateOnNaN()])"
      ]
    },
    {
      "cell_type": "code",
      "execution_count": 13,
      "metadata": {
        "id": "hgaVBe1-QWiw",
        "outputId": "65a82830-1ad6-40a6-c961-fe91beeee1b2",
        "colab": {
          "base_uri": "https://localhost:8080/",
          "height": 472
        }
      },
      "outputs": [
        {
          "output_type": "display_data",
          "data": {
            "text/plain": [
              "<Figure size 640x480 with 1 Axes>"
            ],
            "image/png": "[encoded data removed]"
          },
          "metadata": {}
        }
      ],
      "source": [
        "# plot training history\n",
        "plt.plot(history.history['loss'])\n",
        "plt.plot(history.history['val_loss'])\n",
        "plt.yscale('log')\n",
        "plt.title('Training History')\n",
        "plt.ylabel('loss')\n",
        "plt.xlabel('epoch')\n",
        "plt.legend(['training', 'validation'], loc='upper right')\n",
        "plt.show()"
      ]
    },
    {
      "cell_type": "markdown",
      "metadata": {
        "id": "bcBgQzzFQWiw"
      },
      "source": [
        "# Loss Distributions"
      ]
    },
    {
      "cell_type": "code",
      "execution_count": 14,
      "metadata": {
        "id": "lvft6l3zQWiw"
      },
      "outputs": [],
      "source": [
        "labels = ['W', 'Z', 'top']"
      ]
    },
    {
      "cell_type": "code",
      "execution_count": 15,
      "metadata": {
        "id": "81Ja7xC2QWix",
        "outputId": "6fdf113f-a809-4712-928b-a9100e69daec",
        "colab": {
          "base_uri": "https://localhost:8080/"
        }
      },
      "outputs": [
        {
          "output_type": "stream",
          "name": "stdout",
          "text": [
            "125/125 [==============================] - 0s 1ms/step\n",
            "313/313 [==============================] - 0s 1ms/step\n",
            "314/314 [==============================] - 0s 2ms/step\n",
            "314/314 [==============================] - 1s 3ms/step\n"
          ]
        }
      ],
      "source": [
        "anomaly = [features_W, features_Z, features_t]\n",
        "predictedQCD = autoencoder.predict(X_test)\n",
        "predicted_anomaly = []\n",
        "for i in range(len(labels)):\n",
        "    predicted_anomaly.append(autoencoder.predict(anomaly[i]))"
      ]
    },
    {
      "cell_type": "code",
      "execution_count": 16,
      "metadata": {
        "id": "pybHe3hCQWix"
      },
      "outputs": [],
      "source": [
        "def mse(data_in, data_out):\n",
        "    mse = (data_out-data_in)*(data_out-data_in)\n",
        "    # sum over features\n",
        "    mse = mse.sum(-1)\n",
        "    return mse    "
      ]
    },
    {
      "cell_type": "code",
      "execution_count": 17,
      "metadata": {
        "id": "8Miz3BffQWix"
      },
      "outputs": [],
      "source": [
        "lossQCD = mse(X_test, predictedQCD)\n",
        "loss_anomaly = []\n",
        "for i in range(len(labels)):\n",
        "    loss_anomaly.append(mse(anomaly[i], predicted_anomaly[i]))"
      ]
    },
    {
      "cell_type": "code",
      "execution_count": 18,
      "metadata": {
        "id": "1LSaugQfQWix",
        "outputId": "f3d73bf7-58bb-4228-e5af-9215e015c343",
        "colab": {
          "base_uri": "https://localhost:8080/",
          "height": 449
        }
      },
      "outputs": [
        {
          "output_type": "display_data",
          "data": {
            "text/plain": [
              "<Figure size 640x480 with 1 Axes>"
            ],
            "image/png": "[encoded data removed]"
          },
          "metadata": {}
        }
      ],
      "source": [
        "maxScore = np.max(lossQCD)\n",
        "# plot QCD\n",
        "plt.figure()\n",
        "plt.hist(lossQCD, bins=100, label='QCD', density=True, range=(0, maxScore), \n",
        "         histtype='step', fill=False, linewidth=1.5)\n",
        "plt.semilogy()\n",
        "plt.xlabel(\"AE Loss\")\n",
        "plt.ylabel(\"Probability (a.u.)\")\n",
        "plt.grid(True)\n",
        "plt.legend(loc='upper right')\n",
        "plt.show()"
      ]
    },
    {
      "cell_type": "code",
      "execution_count": 19,
      "metadata": {
        "id": "qqiWdMjOQWix",
        "outputId": "acb19ae2-9a60-4a76-b9aa-7bf4994935ac",
        "colab": {
          "base_uri": "https://localhost:8080/",
          "height": 449
        }
      },
      "outputs": [
        {
          "output_type": "display_data",
          "data": {
            "text/plain": [
              "<Figure size 640x480 with 1 Axes>"
            ],
            "image/png": "[encoded data removed]"
          },
          "metadata": {}
        }
      ],
      "source": [
        "maxScore = np.max(lossQCD)\n",
        "# plot QCD\n",
        "plt.figure()\n",
        "plt.hist(lossQCD, bins=100, label='QCD', density=True, range=(0, maxScore), \n",
        "         histtype='step', fill=False, linewidth=1.5)\n",
        "for i in range(len(labels)):\n",
        "    plt.hist(loss_anomaly[i], bins=100, label=labels[i], density=True, range=(0, maxScore),\n",
        "            histtype='step', fill=False, linewidth=1.5)\n",
        "plt.semilogy()\n",
        "plt.xlabel(\"AE Loss\")\n",
        "plt.ylabel(\"Probability (a.u.)\")\n",
        "plt.grid(True)\n",
        "plt.legend(loc='upper right')\n",
        "plt.show()"
      ]
    },
    {
      "cell_type": "markdown",
      "metadata": {
        "id": "PZIhDD9LQWix"
      },
      "source": [
        "# Building the ROC Curves"
      ]
    },
    {
      "cell_type": "code",
      "execution_count": 20,
      "metadata": {
        "id": "OBJucOtlQWiy",
        "outputId": "10053db7-99b2-41e5-d1e5-e029946e40e6",
        "colab": {
          "base_uri": "https://localhost:8080/",
          "height": 553
        }
      },
      "outputs": [
        {
          "output_type": "stream",
          "name": "stdout",
          "text": [
            "(10015,) (3982,)\n",
            "(13997,) (13997,)\n",
            "(10037,) (3982,)\n",
            "(14019,) (14019,)\n",
            "(10040,) (3982,)\n",
            "(14022,) (14022,)\n"
          ]
        },
        {
          "output_type": "display_data",
          "data": {
            "text/plain": [
              "<Figure size 640x480 with 1 Axes>"
            ],
            "image/png": "[encoded data removed]"
          },
          "metadata": {}
        }
      ],
      "source": [
        "from sklearn.metrics import roc_curve, auc\n",
        "plt.figure()\n",
        "targetQCD = np.zeros(lossQCD.shape[0])\n",
        "for i, label in enumerate(labels):\n",
        "        print(loss_anomaly[i].shape, targetQCD.shape)\n",
        "        trueVal = np.concatenate((np.ones(loss_anomaly[i].shape[0]),targetQCD))\n",
        "        predVal = np.concatenate((loss_anomaly[i],lossQCD))\n",
        "        print(trueVal.shape, predVal.shape)\n",
        "        fpr, tpr, threshold = roc_curve(trueVal,predVal)\n",
        "        auc1= auc(fpr, tpr)\n",
        "        plt.plot(tpr,fpr,label='%s Anomaly Detection, auc = %.1f%%'%(label,auc1*100.))\n",
        "#plt.semilogy()\n",
        "plt.xlabel(\"sig. efficiency\")\n",
        "plt.ylabel(\"bkg. mistag rate\")\n",
        "plt.grid(True)\n",
        "plt.legend(loc='lower right')\n",
        "plt.show() #vediamo che l'output non è molto diverso dal supervised NN"
      ]
    },
    {
      "cell_type": "code",
      "execution_count": null,
      "metadata": {
        "id": "qAao90cCQWiy"
      },
      "outputs": [],
      "source": []
    }
  ],
  "metadata": {
    "kernelspec": {
      "display_name": "Python 3 (ipykernel)",
      "language": "python",
      "name": "python3"
    },
    "language_info": {
      "codemirror_mode": {
        "name": "ipython",
        "version": 3
      },
      "file_extension": ".py",
      "mimetype": "text/x-python",
      "name": "python",
      "nbconvert_exporter": "python",
      "pygments_lexer": "ipython3",
      "version": "3.9.12"
    },
    "colab": {
      "provenance": [],
      "gpuType": "T4"
    },
    "accelerator": "GPU",
    "gpuClass": "standard"
  },
  "nbformat": 4,
  "nbformat_minor": 0
}