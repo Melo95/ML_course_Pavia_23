{
  "nbformat": 4,
  "nbformat_minor": 0,
  "metadata": {
    "colab": {
      "provenance": [],
      "gpuType": "T4",
      "include_colab_link": true
    },
    "kernelspec": {
      "name": "python3",
      "display_name": "Python 3"
    },
    "language_info": {
      "name": "python"
    },
    "accelerator": "GPU"
  },
  "cells": [
    {
      "cell_type": "markdown",
      "metadata": {
        "id": "view-in-github",
        "colab_type": "text"
      },
      "source": [
        "<a href=\"https://colab.research.google.com/github/Melo95/ML_course_Pavia_23/blob/v2/ML_course_project_Image_reconstruction_with_NN.ipynb\" target=\"_parent\"><img src=\"https://colab.research.google.com/assets/colab-badge.svg\" alt=\"Open In Colab\"/></a>"
      ]
    },
    {
      "cell_type": "markdown",
      "source": [
        "# ML PhD Course - Final project - Carmelo Grova\n",
        "\n",
        "This notebook describes a possible application of Machine Learning instead of classical Phase Retrieval algoritms (1. Fienup, J. R. Phase retrieval algorithms: a comparison. Appl. Opt. 21, 2758 (1982).\n",
        ") used for image reconstruction from far field diffraction patterns.\n",
        "\n",
        "\n",
        "The goal of traditional iterative algorithms is to reconstruct, from the far field diffraction pattern, the exit surface wave arising from the interaction of a complex probe - a beam with amplitude and phase -  and a complex object. For realistic samples the amplitude may represent chemical composition and the phase is correlated to topographic information. The exit surface wave consist in pointwise multiplication of probe and object and it can be recovered by solving the phase problem applying constraints in the real a fourier space thanks to a priori knowledge.\n",
        "\n",
        "This project aims to achieve the at least the same result of the classical Hybrid Input-Output algorithm (HIO) and goes forward in trying to reconstruct the amplitude and phase of the object with no a priori assumptions.\n",
        "For this purpose I used the MNIST and fMNIST datasets in Keras which have the substantial advantage of containing exactly the same number of images with the same normalization conditions and same number of pixels. The size of the dataset allows to have enough training, validation and test data.\n",
        "An autoencoder composed with a single encoder and different decoders is used in order to have independent and parallel reconstruction of Amplitude and Phase of the object.\n",
        "\n",
        "In order to achieve a satisfying results in terms of image reconstruction, I explored different values of the following parameters of the Network:\n",
        "- Number of layers\n",
        "- Number of filters\n",
        "- Kernel size\n",
        "- Strides\n",
        "- Activation function\n",
        "- Batch normalization\n",
        "- Maxpooling\n",
        "\n",
        "And hyperparameters:\n",
        "- Loss functions\n",
        "- Batch size\n",
        "- Learning rate\n",
        "- Number of epochs\n",
        "\n",
        "The results are typically very good for the recontruction of the object\n",
        "amplitude (numbers from MNIST dataset) but struggle with the identification of the phase (clothers from fMNIST dataset). For the amplitude reconstruction an autoencoder with 2 layers with 32 filter proved to be sufficient. The complexity of the network is mainly increased for reaching good results on the phase.\n",
        "\n",
        "Author: Carmelo Grova, Università degli Studi di Pavia, Dept. of Physics\n",
        "email address: carmelo.grova01@universitadipavia.it\n",
        "July 2023"
      ],
      "metadata": {
        "id": "6dnEcpmSumck"
      }
    },
    {
      "cell_type": "markdown",
      "source": [
        "\n",
        "# Import libraries\n",
        "\n"
      ],
      "metadata": {
        "id": "xKiPTOUXsFy0"
      }
    },
    {
      "cell_type": "code",
      "source": [
        "import numpy as np\n",
        "from tensorflow import keras\n",
        "from tensorflow.keras import layers\n",
        "import tensorflow as tf\n",
        "import matplotlib.pylab as plt\n",
        "from tensorflow.keras.models import Model"
      ],
      "metadata": {
        "id": "93Lmqrc7sE-6"
      },
      "execution_count": 1,
      "outputs": []
    },
    {
      "cell_type": "markdown",
      "source": [
        "## Import train and test data from MNIST and fMNIST datasets"
      ],
      "metadata": {
        "id": "bM3yXG2pT4Iy"
      }
    },
    {
      "cell_type": "code",
      "source": [
        "input_shape = (28, 28, 1)\n",
        "\n",
        "# Load the data and split it between train and test sets however for our purpose the labels (y_...) are not important!\n",
        "(x_train_MNIST, y_train_MNIST), (x_test_MNIST, y_test_MNIST) = keras.datasets.mnist.load_data()\n",
        "(x_train_fMNIST, y_train_fMNIST), (x_test_fMNIST, y_test_fMNIST) = keras.datasets.fashion_mnist.load_data()\n",
        "\n",
        "# Scale images to the [0, 1] range\n",
        "x_train_MNIST = x_train_MNIST.astype(\"float32\") / 255\n",
        "x_test_MNIST = x_test_MNIST.astype(\"float32\") / 255\n",
        "# Make sure images have shape (28, 28, 1)\n",
        "x_train_MNIST = np.expand_dims(x_train_MNIST, -1)\n",
        "x_test_MNIST = np.expand_dims(x_test_MNIST, -1)\n",
        "print(\"x_train_MNIST shape:\", x_train_MNIST.shape)\n",
        "print(x_train_MNIST.shape[0], \"train samples\")\n",
        "print(x_test_MNIST.shape[0], \"test samples\")\n",
        "\n",
        "# Scale images to the [0, 1] range\n",
        "x_train_fMNIST = x_train_fMNIST.astype(\"float32\") / 255\n",
        "x_test_fMNIST = x_test_fMNIST.astype(\"float32\") / 255\n",
        "# Make sure images have shape (28, 28, 1)\n",
        "x_train_fMNIST = np.expand_dims(x_train_fMNIST, -1)\n",
        "x_test_fMNIST = np.expand_dims(x_test_fMNIST, -1)\n",
        "print(\"x_train_fMNIST shape:\", x_train_fMNIST.shape)\n",
        "print(x_train_fMNIST.shape[0], \"train samples\")\n",
        "print(x_test_fMNIST.shape[0], \"test samples\")"
      ],
      "metadata": {
        "id": "BniyGNd2FqHB",
        "colab": {
          "base_uri": "https://localhost:8080/"
        },
        "outputId": "02e5fd89-d61c-489f-a01c-75aba0cb4439"
      },
      "execution_count": 2,
      "outputs": [
        {
          "output_type": "stream",
          "name": "stdout",
          "text": [
            "x_train_MNIST shape: (60000, 28, 28, 1)\n",
            "60000 train samples\n",
            "10000 test samples\n",
            "x_train_fMNIST shape: (60000, 28, 28, 1)\n",
            "60000 train samples\n",
            "10000 test samples\n"
          ]
        }
      ]
    },
    {
      "cell_type": "markdown",
      "source": [
        "## Create a circular mask to constraint the probe in a limited area"
      ],
      "metadata": {
        "id": "_q2doc7oU6Or"
      }
    },
    {
      "cell_type": "code",
      "source": [
        "def create_circular_mask(h, w, center=None, radius=None):\n",
        "\n",
        "    if center is None: # use the middle of the image\n",
        "        center = (int(w/2), int(h/2))\n",
        "    if radius is None: # use the smallest distance between the center and image walls\n",
        "        radius = min(center[0], center[1], w-center[0], h-center[1])\n",
        "\n",
        "    Y, X = np.ogrid[:h, :w]\n",
        "    dist_from_center = np.sqrt((X - center[0])**2 + (Y-center[1])**2)\n",
        "\n",
        "    mask = dist_from_center <= radius\n",
        "\n",
        "    return mask"
      ],
      "metadata": {
        "id": "_kIkMGJCEQq5"
      },
      "execution_count": 3,
      "outputs": []
    },
    {
      "cell_type": "markdown",
      "source": [
        "## Create a complex gaussian probe"
      ],
      "metadata": {
        "id": "5N7XkmnlVCHo"
      }
    },
    {
      "cell_type": "code",
      "source": [
        "# create mask\n",
        "x = np.arange(-x_train_MNIST.shape[1]/2,x_train_MNIST.shape[1]/2,1)\n",
        "y = np.arange(-x_train_MNIST.shape[1]/2,x_train_MNIST.shape[1]/2,1)\n",
        "\n",
        "X,Y = np.meshgrid(x,y)\n",
        "\n",
        "\n",
        "A = 1\n",
        "sigma = 10\n",
        "prb_gaussian = A* np.exp(-(X**2 + Y**2)/2/sigma**2) #if I put a phase factor here, the result of the absolute value of the diffraction pattern is a complex tensor, I have not solved this issue so the beam has flat phase profile\n",
        "\n",
        "mask = create_circular_mask(prb_gaussian.shape[0],prb_gaussian.shape[1], center = None, radius = 14)\n",
        "\n",
        "complex_mask = mask*np.exp(1j*mask)\n",
        "complex_prb = prb_gaussian*complex_mask\n",
        "\n",
        "complex_prb_amplitude = np.abs(complex_prb)\n",
        "complex_prb_phase = np.angle(complex_prb)\n",
        "complex_prb_phase[complex_prb_amplitude == 0] = 0\n",
        "\n",
        "updated_complex_prb = complex_prb_amplitude*np.exp(1j*complex_prb_phase)\n"
      ],
      "metadata": {
        "id": "37eEW8UrEfqY"
      },
      "execution_count": 4,
      "outputs": []
    },
    {
      "cell_type": "code",
      "source": [
        "plt.imshow(np.angle(updated_complex_prb))\n",
        "plt.colorbar()"
      ],
      "metadata": {
        "colab": {
          "base_uri": "https://localhost:8080/",
          "height": 452
        },
        "id": "_luAhJtasTCt",
        "outputId": "9d37ec93-eea8-44c0-ca66-76dfc3cc7737"
      },
      "execution_count": 5,
      "outputs": [
        {
          "output_type": "execute_result",
          "data": {
            "text/plain": [
              "<matplotlib.colorbar.Colorbar at 0x7a55380be7d0>"
            ]
          },
          "metadata": {},
          "execution_count": 5
        },
        {
          "output_type": "display_data",
          "data": {
            "text/plain": [
              "<Figure size 640x480 with 2 Axes>"
            ],
            "image/png": "[encoded data removed]"
          },
          "metadata": {}
        }
      ]
    },
    {
      "cell_type": "code",
      "source": [
        "# give the tensor of the probe the same structure as the images in the Keras datasets\n",
        "updated_complex_prb_tensor = tf.convert_to_tensor(updated_complex_prb,dtype=\"complex64\")\n",
        "updated_complex_prb_tensor_tiled = tf.expand_dims(tf.tile(tf.expand_dims(updated_complex_prb, axis=0), [60000, 1, 1]),axis = 3)\n",
        "updated_complex_prb_tensor_tiled.shape"
      ],
      "metadata": {
        "id": "pJCTd2c_hrF8",
        "colab": {
          "base_uri": "https://localhost:8080/"
        },
        "outputId": "3041ac10-5ad9-4883-862a-f2991dffacb4"
      },
      "execution_count": 6,
      "outputs": [
        {
          "output_type": "execute_result",
          "data": {
            "text/plain": [
              "TensorShape([60000, 28, 28, 1])"
            ]
          },
          "metadata": {},
          "execution_count": 6
        }
      ]
    },
    {
      "cell_type": "markdown",
      "source": [
        "## Create the exit surface wave and project it in order to get far field diffraction pattern"
      ],
      "metadata": {
        "id": "EZ8LfMRMWRXH"
      }
    },
    {
      "cell_type": "code",
      "source": [
        "# exit surface wave\n",
        "x_train_complex = (x_train_MNIST+0.5)*np.exp(1j*x_train_fMNIST) #remember that when amplitude is 0 then the phase is assumed to be 0 as well so I add 0.5 in order to distincty see the piece of clothing used as phase\n",
        "\n",
        "exit_surface_wave = x_train_complex*updated_complex_prb_tensor_tiled\n",
        "\n",
        "exit_surface_wave_amplitude = np.abs(exit_surface_wave)\n",
        "exit_surface_wave_phase = np.angle(exit_surface_wave)\n",
        "exit_surface_wave_phase[exit_surface_wave_amplitude == 0] = 0\n",
        "\n",
        "updated_exit_surface_wave = exit_surface_wave_amplitude*np.exp(1j*exit_surface_wave_phase)"
      ],
      "metadata": {
        "id": "4BuYS-9bEwxB"
      },
      "execution_count": 7,
      "outputs": []
    },
    {
      "cell_type": "code",
      "source": [
        "fig, ax = plt.subplots(1,2)\n",
        "amp = ax[0].imshow(tf.math.abs(updated_exit_surface_wave[98,:,:,:]))\n",
        "phase = ax[1].imshow(tf.math.angle(updated_exit_surface_wave[98,:,:,:]))\n",
        "plt.colorbar(amp)\n",
        "plt.colorbar(phase)\n"
      ],
      "metadata": {
        "colab": {
          "base_uri": "https://localhost:8080/",
          "height": 432
        },
        "id": "HuGfP-5kkDwr",
        "outputId": "6b833314-bbe1-41ff-db19-cc896bd60c01"
      },
      "execution_count": 8,
      "outputs": [
        {
          "output_type": "execute_result",
          "data": {
            "text/plain": [
              "<matplotlib.colorbar.Colorbar at 0x7a551153b7c0>"
            ]
          },
          "metadata": {},
          "execution_count": 8
        },
        {
          "output_type": "display_data",
          "data": {
            "text/plain": [
              "<Figure size 640x480 with 4 Axes>"
            ],
            "image/png": "[encoded data removed]"
          },
          "metadata": {}
        }
      ]
    },
    {
      "cell_type": "code",
      "source": [
        "# lets squeeze the dataset in order to be digested by the fft fuction below\n",
        "exit_surface_wave_squeezed = tf.squeeze(updated_exit_surface_wave)\n",
        "\n",
        "\n",
        "# 2D fft + centering the zero frenquecy component + taking the absolute value, which is the only information we have in real experiment since detectors are intensity based\n",
        "exit_surface_wave_squeezed_fft = tf.signal.fft2d(tf.cast(exit_surface_wave_squeezed,tf.complex64))\n",
        "diffraction_pattern = np.abs(tf.signal.fftshift(exit_surface_wave_squeezed_fft,axes=(-2,-1)))\n",
        "\n",
        "# unsqueeze to go back to the 4D tensor shape which will be used for the model\n",
        "diffraction_pattern_unsqueezed = tf.expand_dims(diffraction_pattern,-1)\n",
        "diffraction_pattern_unsqueezed.shape"
      ],
      "metadata": {
        "id": "M7O4GFsNt3I2",
        "colab": {
          "base_uri": "https://localhost:8080/"
        },
        "outputId": "401cc88f-6825-4353-f91d-9868e34f840b"
      },
      "execution_count": 9,
      "outputs": [
        {
          "output_type": "execute_result",
          "data": {
            "text/plain": [
              "TensorShape([60000, 28, 28, 1])"
            ]
          },
          "metadata": {},
          "execution_count": 9
        }
      ]
    },
    {
      "cell_type": "markdown",
      "source": [
        "## Create the autoencoder"
      ],
      "metadata": {
        "id": "NtSBPYzFXed1"
      }
    },
    {
      "cell_type": "code",
      "source": [
        "inputs = keras.Input(shape=input_shape)\n",
        "\n",
        "# Encoder\n",
        "x = layers.Conv2D(64, (3, 3), padding=\"same\")(inputs)\n",
        "x = layers.LeakyReLU(alpha=0.2)(x)\n",
        "x = layers.BatchNormalization()(x)\n",
        "x = layers.MaxPooling2D((2, 2), padding=\"same\")(x)\n",
        "x = layers.Conv2D(128, (3, 3), padding=\"same\")(x)\n",
        "x = layers.LeakyReLU(alpha=0.2)(x)\n",
        "x = layers.BatchNormalization()(x)\n",
        "x = layers.MaxPooling2D((2, 2), padding=\"same\")(x)\n",
        "x = layers.Conv2D(256, (3, 3), padding=\"same\")(x)\n",
        "x = layers.LeakyReLU(alpha=0.2)(x)\n",
        "x = layers.BatchNormalization()(x)\n",
        "\n",
        "# Decoder1\n",
        "x1 = layers.UpSampling2D(size=(2, 2))(x)\n",
        "x1 = layers.Conv2D(256, (3, 3), padding=\"same\")(x1)\n",
        "x1 = layers.LeakyReLU(alpha=0.2)(x1)\n",
        "x1 = layers.BatchNormalization()(x1)\n",
        "x1 = layers.UpSampling2D(size=(2, 2))(x)\n",
        "x1 = layers.Conv2D(128, (3, 3), padding=\"same\")(x1)\n",
        "x1 = layers.LeakyReLU(alpha=0.2)(x1)\n",
        "x1 = layers.BatchNormalization()(x1)\n",
        "x1 = layers.UpSampling2D(size=(2, 2))(x1)\n",
        "x1 = layers.Conv2D(64, (3, 3), padding=\"same\")(x1)\n",
        "x1 = layers.LeakyReLU(alpha=0.2)(x1)\n",
        "x1 = layers.BatchNormalization()(x1)\n",
        "output1 = layers.Conv2D(1, (3, 3), activation=\"sigmoid\", padding=\"same\")(x1)\n",
        "\n",
        "# Decoder2\n",
        "x2 = layers.UpSampling2D(size=(2, 2))(x)\n",
        "x2 = layers.Conv2D(256, (3, 3), padding=\"same\")(x2)\n",
        "x2 = layers.LeakyReLU(alpha=0.2)(x2)\n",
        "x2 = layers.BatchNormalization()(x2)\n",
        "x2 = layers.UpSampling2D(size=(2, 2))(x)\n",
        "x2 = layers.Conv2D(128, (3, 3), padding=\"same\")(x2)\n",
        "x2 = layers.LeakyReLU(alpha=0.2)(x2)\n",
        "x2 = layers.BatchNormalization()(x2)\n",
        "x2 = layers.UpSampling2D(size=(2, 2))(x2)\n",
        "x2 = layers.Conv2D(64, (3, 3), padding=\"same\")(x2)\n",
        "x2 = layers.LeakyReLU(alpha=0.2)(x2)\n",
        "x2 = layers.BatchNormalization()(x2)\n",
        "output2 = layers.Conv2D(1, (3, 3), activation=\"sigmoid\", padding=\"same\")(x2)\n",
        "\n",
        "model_sequential = keras.Model(inputs=inputs, outputs=[output1, output2])\n",
        "model_sequential.summary()\n"
      ],
      "metadata": {
        "colab": {
          "base_uri": "https://localhost:8080/"
        },
        "id": "p9iCTrmh3N-d",
        "outputId": "d7a7295b-2b37-414e-dbcb-0d6b8f70e78d"
      },
      "execution_count": 10,
      "outputs": [
        {
          "output_type": "stream",
          "name": "stdout",
          "text": [
            "Model: \"model\"\n",
            "__________________________________________________________________________________________________\n",
            " Layer (type)                   Output Shape         Param #     Connected to                     \n",
            "==================================================================================================\n",
            " input_1 (InputLayer)           [(None, 28, 28, 1)]  0           []                               \n",
            "                                                                                                  \n",
            " conv2d (Conv2D)                (None, 28, 28, 64)   640         ['input_1[0][0]']                \n",
            "                                                                                                  \n",
            " leaky_re_lu (LeakyReLU)        (None, 28, 28, 64)   0           ['conv2d[0][0]']                 \n",
            "                                                                                                  \n",
            " batch_normalization (BatchNorm  (None, 28, 28, 64)  256         ['leaky_re_lu[0][0]']            \n",
            " alization)                                                                                       \n",
            "                                                                                                  \n",
            " max_pooling2d (MaxPooling2D)   (None, 14, 14, 64)   0           ['batch_normalization[0][0]']    \n",
            "                                                                                                  \n",
            " conv2d_1 (Conv2D)              (None, 14, 14, 128)  73856       ['max_pooling2d[0][0]']          \n",
            "                                                                                                  \n",
            " leaky_re_lu_1 (LeakyReLU)      (None, 14, 14, 128)  0           ['conv2d_1[0][0]']               \n",
            "                                                                                                  \n",
            " batch_normalization_1 (BatchNo  (None, 14, 14, 128)  512        ['leaky_re_lu_1[0][0]']          \n",
            " rmalization)                                                                                     \n",
            "                                                                                                  \n",
            " max_pooling2d_1 (MaxPooling2D)  (None, 7, 7, 128)   0           ['batch_normalization_1[0][0]']  \n",
            "                                                                                                  \n",
            " conv2d_2 (Conv2D)              (None, 7, 7, 256)    295168      ['max_pooling2d_1[0][0]']        \n",
            "                                                                                                  \n",
            " leaky_re_lu_2 (LeakyReLU)      (None, 7, 7, 256)    0           ['conv2d_2[0][0]']               \n",
            "                                                                                                  \n",
            " batch_normalization_2 (BatchNo  (None, 7, 7, 256)   1024        ['leaky_re_lu_2[0][0]']          \n",
            " rmalization)                                                                                     \n",
            "                                                                                                  \n",
            " up_sampling2d_1 (UpSampling2D)  (None, 14, 14, 256)  0          ['batch_normalization_2[0][0]']  \n",
            "                                                                                                  \n",
            " up_sampling2d_4 (UpSampling2D)  (None, 14, 14, 256)  0          ['batch_normalization_2[0][0]']  \n",
            "                                                                                                  \n",
            " conv2d_4 (Conv2D)              (None, 14, 14, 128)  295040      ['up_sampling2d_1[0][0]']        \n",
            "                                                                                                  \n",
            " conv2d_8 (Conv2D)              (None, 14, 14, 128)  295040      ['up_sampling2d_4[0][0]']        \n",
            "                                                                                                  \n",
            " leaky_re_lu_4 (LeakyReLU)      (None, 14, 14, 128)  0           ['conv2d_4[0][0]']               \n",
            "                                                                                                  \n",
            " leaky_re_lu_7 (LeakyReLU)      (None, 14, 14, 128)  0           ['conv2d_8[0][0]']               \n",
            "                                                                                                  \n",
            " batch_normalization_4 (BatchNo  (None, 14, 14, 128)  512        ['leaky_re_lu_4[0][0]']          \n",
            " rmalization)                                                                                     \n",
            "                                                                                                  \n",
            " batch_normalization_7 (BatchNo  (None, 14, 14, 128)  512        ['leaky_re_lu_7[0][0]']          \n",
            " rmalization)                                                                                     \n",
            "                                                                                                  \n",
            " up_sampling2d_2 (UpSampling2D)  (None, 28, 28, 128)  0          ['batch_normalization_4[0][0]']  \n",
            "                                                                                                  \n",
            " up_sampling2d_5 (UpSampling2D)  (None, 28, 28, 128)  0          ['batch_normalization_7[0][0]']  \n",
            "                                                                                                  \n",
            " conv2d_5 (Conv2D)              (None, 28, 28, 64)   73792       ['up_sampling2d_2[0][0]']        \n",
            "                                                                                                  \n",
            " conv2d_9 (Conv2D)              (None, 28, 28, 64)   73792       ['up_sampling2d_5[0][0]']        \n",
            "                                                                                                  \n",
            " leaky_re_lu_5 (LeakyReLU)      (None, 28, 28, 64)   0           ['conv2d_5[0][0]']               \n",
            "                                                                                                  \n",
            " leaky_re_lu_8 (LeakyReLU)      (None, 28, 28, 64)   0           ['conv2d_9[0][0]']               \n",
            "                                                                                                  \n",
            " batch_normalization_5 (BatchNo  (None, 28, 28, 64)  256         ['leaky_re_lu_5[0][0]']          \n",
            " rmalization)                                                                                     \n",
            "                                                                                                  \n",
            " batch_normalization_8 (BatchNo  (None, 28, 28, 64)  256         ['leaky_re_lu_8[0][0]']          \n",
            " rmalization)                                                                                     \n",
            "                                                                                                  \n",
            " conv2d_6 (Conv2D)              (None, 28, 28, 1)    577         ['batch_normalization_5[0][0]']  \n",
            "                                                                                                  \n",
            " conv2d_10 (Conv2D)             (None, 28, 28, 1)    577         ['batch_normalization_8[0][0]']  \n",
            "                                                                                                  \n",
            "==================================================================================================\n",
            "Total params: 1,111,810\n",
            "Trainable params: 1,110,146\n",
            "Non-trainable params: 1,664\n",
            "__________________________________________________________________________________________________\n"
          ]
        }
      ]
    },
    {
      "cell_type": "markdown",
      "source": [
        "## Train the model and change hyperparameters"
      ],
      "metadata": {
        "id": "IGPXKdljuN7E"
      }
    },
    {
      "cell_type": "code",
      "source": [
        "batch_size = 64 #64 works well\n",
        "epochs = 20\n",
        "\n",
        "model_sequential.compile(loss=['binary_crossentropy','mean_squared_error'], optimizer=tf.keras.optimizers.Adam(learning_rate=0.001))\n",
        "history = model_sequential.fit(diffraction_pattern_unsqueezed, [x_train_MNIST, x_train_fMNIST], batch_size=batch_size, epochs=epochs, validation_split=0.1)\n",
        "\n",
        "# Access the training loss and validation loss from the history object\n",
        "training_loss = history.history['loss']\n",
        "validation_loss = history.history['val_loss']\n",
        "\n",
        "# Plot the training and validation loss\n",
        "plt.figure()\n",
        "plt.plot(range(1, epochs+1), training_loss, label='Training Loss')\n",
        "plt.plot(range(1, epochs+1), validation_loss, label='Validation Loss')\n",
        "plt.xlabel('Epochs')\n",
        "plt.ylabel('Loss')\n",
        "plt.legend()\n",
        "plt.show()"
      ],
      "metadata": {
        "colab": {
          "base_uri": "https://localhost:8080/",
          "height": 608
        },
        "id": "G4sMiT8s3of9",
        "outputId": "3104c190-7fb6-43a4-ae3a-f88104589962"
      },
      "execution_count": 16,
      "outputs": [
        {
          "output_type": "stream",
          "name": "stdout",
          "text": [
            "Epoch 1/4\n",
            "844/844 [==============================] - 33s 33ms/step - loss: 0.2435 - conv2d_6_loss: 0.1887 - conv2d_10_loss: 0.0548 - val_loss: 0.2462 - val_conv2d_6_loss: 0.1858 - val_conv2d_10_loss: 0.0605\n",
            "Epoch 2/4\n",
            "844/844 [==============================] - 27s 32ms/step - loss: 0.2053 - conv2d_6_loss: 0.1599 - conv2d_10_loss: 0.0454 - val_loss: 0.2067 - val_conv2d_6_loss: 0.1625 - val_conv2d_10_loss: 0.0442\n",
            "Epoch 3/4\n",
            "844/844 [==============================] - 27s 32ms/step - loss: 0.1937 - conv2d_6_loss: 0.1510 - conv2d_10_loss: 0.0427 - val_loss: 0.1969 - val_conv2d_6_loss: 0.1548 - val_conv2d_10_loss: 0.0421\n",
            "Epoch 4/4\n",
            "844/844 [==============================] - 27s 32ms/step - loss: 0.1866 - conv2d_6_loss: 0.1458 - conv2d_10_loss: 0.0408 - val_loss: 0.1927 - val_conv2d_6_loss: 0.1499 - val_conv2d_10_loss: 0.0428\n"
          ]
        },
        {
          "output_type": "display_data",
          "data": {
            "text/plain": [
              "<Figure size 640x480 with 1 Axes>"
            ],
            "image/png": "[encoded data removed]"
          },
          "metadata": {}
        }
      ]
    },
    {
      "cell_type": "markdown",
      "source": [
        "## Testing the network"
      ],
      "metadata": {
        "id": "ndtrfRwGaP0M"
      }
    },
    {
      "cell_type": "code",
      "source": [
        "x_test_complex = (x_test_MNIST+0.5)*np.exp(1j*x_test_fMNIST) #remember that when amplitude is 0 then the phase is assumed to be 0 as well so I add 0.5 in order to distincty see the piece of clothing used as phase\n",
        "\n",
        "exit_surface_wave_test = x_test_complex*updated_complex_prb_tensor_tiled[:10000,:,:,:]\n",
        "\n",
        "exit_surface_wave_amplitude_test = np.abs(exit_surface_wave_test)\n",
        "exit_surface_wave_phase_test = np.angle(exit_surface_wave_test)\n",
        "exit_surface_wave_phase_test[exit_surface_wave_amplitude_test == 0] = 0\n",
        "\n",
        "updated_exit_surface_wave_test = exit_surface_wave_amplitude_test*np.exp(1j*exit_surface_wave_phase_test)\n",
        "\n",
        "# lets squeeze the dataset in order to be digested by the fft fuction below\n",
        "exit_surface_wave_squeezed_test = tf.squeeze(updated_exit_surface_wave_test)\n",
        "\n",
        "\n",
        "# 2D fft + centering the zero frenquecy component + taking the absolute value, which is the only information we have in real experiment since detectors are intensity based\n",
        "exit_surface_wave_squeezed_fft_test = tf.signal.fft2d(tf.cast(exit_surface_wave_squeezed_test,tf.complex64))\n",
        "diffraction_pattern_test = np.abs(tf.signal.fftshift(exit_surface_wave_squeezed_fft_test,axes=(-2,-1)))\n",
        "\n",
        "# unsqueeze to go back to the 4D tensor shape which will be used for the model\n",
        "diffraction_pattern_unsqueezed_test = tf.expand_dims(diffraction_pattern_test,-1)\n",
        "diffraction_pattern_unsqueezed_test.shape"
      ],
      "metadata": {
        "colab": {
          "base_uri": "https://localhost:8080/"
        },
        "id": "_Vyrk8vMYt5V",
        "outputId": "fe9a3b0e-f16f-4f0b-c3fc-b42434107c0f"
      },
      "execution_count": 17,
      "outputs": [
        {
          "output_type": "execute_result",
          "data": {
            "text/plain": [
              "TensorShape([10000, 28, 28, 1])"
            ]
          },
          "metadata": {},
          "execution_count": 17
        }
      ]
    },
    {
      "cell_type": "code",
      "source": [
        "out_seq = model_sequential(diffraction_pattern_unsqueezed_test[1:100])\n",
        "output_ampl = out_seq[0]\n",
        "output_phase = out_seq[1]\n",
        "# out_seq.shape\n",
        "\n",
        "test_sample = 98\n",
        "\n",
        "fig, ax = plt.subplots(1,4)\n",
        "ax[0].imshow(output_ampl[test_sample])\n",
        "ax[1].imshow(x_test_MNIST[1:100][test_sample])\n",
        "ax[2].imshow(output_phase[test_sample])\n",
        "ax[3].imshow(x_test_fMNIST[1:100][test_sample])\n"
      ],
      "metadata": {
        "colab": {
          "base_uri": "https://localhost:8080/",
          "height": 189
        },
        "id": "idCNO7lo54e9",
        "outputId": "67123cc3-f32b-432a-f427-d61d28356da7"
      },
      "execution_count": 21,
      "outputs": [
        {
          "output_type": "execute_result",
          "data": {
            "text/plain": [
              "<matplotlib.image.AxesImage at 0x7a549458f6a0>"
            ]
          },
          "metadata": {},
          "execution_count": 21
        },
        {
          "output_type": "display_data",
          "data": {
            "text/plain": [
              "<Figure size 640x480 with 4 Axes>"
            ],
            "image/png": "[encoded data removed]"
          },
          "metadata": {}
        }
      ]
    },
    {
      "cell_type": "code",
      "source": [],
      "metadata": {
        "id": "MxlSgnNoRl0o"
      },
      "execution_count": null,
      "outputs": []
    }
  ]
}